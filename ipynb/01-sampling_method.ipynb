{
 "cells": [
  {
   "cell_type": "code",
   "execution_count": 1,
   "metadata": {},
   "outputs": [],
   "source": [
    "boston_df = read.csv('/home/jovyan/Project3/data/bostonhousing.csv', header=FALSE, sep='')\n",
    "\n",
    "colnames(boston_df) = c('crim', 'zn', 'indus', 'chas', 'nox', 'rm', 'age', 'dis', 'rad', 'tax', 'ptratio', 'black','lstat', 'medv')"
   ]
  },
  {
   "cell_type": "code",
   "execution_count": 3,
   "metadata": {},
   "outputs": [
    {
     "data": {
      "text/html": [
       "<ol class=list-inline>\n",
       "\t<li>506</li>\n",
       "\t<li>14</li>\n",
       "</ol>\n"
      ],
      "text/latex": [
       "\\begin{enumerate*}\n",
       "\\item 506\n",
       "\\item 14\n",
       "\\end{enumerate*}\n"
      ],
      "text/markdown": [
       "1. 506\n",
       "2. 14\n",
       "\n",
       "\n"
      ],
      "text/plain": [
       "[1] 506  14"
      ]
     },
     "metadata": {},
     "output_type": "display_data"
    }
   ],
   "source": [
    "dim(boston_df)"
   ]
  },
  {
   "cell_type": "code",
   "execution_count": 4,
   "metadata": {},
   "outputs": [
    {
     "name": "stdout",
     "output_type": "stream",
     "text": [
      "'data.frame':\t506 obs. of  14 variables:\n",
      " $ crim   : num  0.00632 0.02731 0.02729 0.03237 0.06905 ...\n",
      " $ zn     : num  18 0 0 0 0 0 12.5 12.5 12.5 12.5 ...\n",
      " $ indus  : num  2.31 7.07 7.07 2.18 2.18 2.18 7.87 7.87 7.87 7.87 ...\n",
      " $ chas   : int  0 0 0 0 0 0 0 0 0 0 ...\n",
      " $ nox    : num  0.538 0.469 0.469 0.458 0.458 0.458 0.524 0.524 0.524 0.524 ...\n",
      " $ rm     : num  6.58 6.42 7.18 7 7.15 ...\n",
      " $ age    : num  65.2 78.9 61.1 45.8 54.2 58.7 66.6 96.1 100 85.9 ...\n",
      " $ dis    : num  4.09 4.97 4.97 6.06 6.06 ...\n",
      " $ rad    : int  1 2 2 3 3 3 5 5 5 5 ...\n",
      " $ tax    : num  296 242 242 222 222 222 311 311 311 311 ...\n",
      " $ ptratio: num  15.3 17.8 17.8 18.7 18.7 18.7 15.2 15.2 15.2 15.2 ...\n",
      " $ black  : num  397 397 393 395 397 ...\n",
      " $ lstat  : num  4.98 9.14 4.03 2.94 5.33 ...\n",
      " $ medv   : num  24 21.6 34.7 33.4 36.2 28.7 22.9 27.1 16.5 18.9 ...\n"
     ]
    }
   ],
   "source": [
    "str(boston_df)"
   ]
  },
  {
   "cell_type": "code",
   "execution_count": 5,
   "metadata": {},
   "outputs": [
    {
     "data": {
      "image/png": "[encoded data removed]",
      "text/plain": [
       "Plot with title “Histogram of boston_df$medv”"
      ]
     },
     "metadata": {},
     "output_type": "display_data"
    }
   ],
   "source": [
    "hist(boston_df$medv, freq = FALSE)\n",
    "lines(density(boston_df$medv))"
   ]
  },
  {
   "cell_type": "markdown",
   "metadata": {},
   "source": [
    "# Basic Stats"
   ]
  },
  {
   "cell_type": "code",
   "execution_count": 6,
   "metadata": {},
   "outputs": [
    {
     "name": "stderr",
     "output_type": "stream",
     "text": [
      "Updating HTML index of packages in '.Library'\n",
      "Making 'packages.html' ... done\n"
     ]
    }
   ],
   "source": [
    "install.packages('moments')"
   ]
  },
  {
   "cell_type": "code",
   "execution_count": 7,
   "metadata": {},
   "outputs": [],
   "source": [
    "library(moments)"
   ]
  },
  {
   "cell_type": "code",
   "execution_count": 8,
   "metadata": {
    "scrolled": true
   },
   "outputs": [
    {
     "data": {
      "text/html": [
       "<dl class=dl-horizontal>\n",
       "\t<dt>crim</dt>\n",
       "\t\t<dd>5.20765238785972</dd>\n",
       "\t<dt>zn</dt>\n",
       "\t\t<dd>2.21906305714843</dd>\n",
       "\t<dt>indus</dt>\n",
       "\t\t<dd>0.294146276844185</dd>\n",
       "\t<dt>chas</dt>\n",
       "\t\t<dd>3.39579929264252</dd>\n",
       "\t<dt>nox</dt>\n",
       "\t\t<dd>0.727144159774032</dd>\n",
       "\t<dt>rm</dt>\n",
       "\t\t<dd>0.402414668024963</dd>\n",
       "\t<dt>age</dt>\n",
       "\t\t<dd>-0.597185594801614</dd>\n",
       "\t<dt>dis</dt>\n",
       "\t\t<dd>1.00877875651523</dd>\n",
       "\t<dt>rad</dt>\n",
       "\t\t<dd>1.0018334924537</dd>\n",
       "\t<dt>tax</dt>\n",
       "\t\t<dd>0.667968268723777</dd>\n",
       "\t<dt>ptratio</dt>\n",
       "\t\t<dd>-0.799944532036745</dd>\n",
       "\t<dt>black</dt>\n",
       "\t\t<dd>-2.88179834526277</dd>\n",
       "\t<dt>lstat</dt>\n",
       "\t\t<dd>0.903770743134614</dd>\n",
       "\t<dt>medv</dt>\n",
       "\t\t<dd>1.10481082286464</dd>\n",
       "</dl>\n"
      ],
      "text/latex": [
       "\\begin{description*}\n",
       "\\item[crim] 5.20765238785972\n",
       "\\item[zn] 2.21906305714843\n",
       "\\item[indus] 0.294146276844185\n",
       "\\item[chas] 3.39579929264252\n",
       "\\item[nox] 0.727144159774032\n",
       "\\item[rm] 0.402414668024963\n",
       "\\item[age] -0.597185594801614\n",
       "\\item[dis] 1.00877875651523\n",
       "\\item[rad] 1.0018334924537\n",
       "\\item[tax] 0.667968268723777\n",
       "\\item[ptratio] -0.799944532036745\n",
       "\\item[black] -2.88179834526277\n",
       "\\item[lstat] 0.903770743134614\n",
       "\\item[medv] 1.10481082286464\n",
       "\\end{description*}\n"
      ],
      "text/markdown": [
       "crim\n",
       ":   5.20765238785972zn\n",
       ":   2.21906305714843indus\n",
       ":   0.294146276844185chas\n",
       ":   3.39579929264252nox\n",
       ":   0.727144159774032rm\n",
       ":   0.402414668024963age\n",
       ":   -0.597185594801614dis\n",
       ":   1.00877875651523rad\n",
       ":   1.0018334924537tax\n",
       ":   0.667968268723777ptratio\n",
       ":   -0.799944532036745black\n",
       ":   -2.88179834526277lstat\n",
       ":   0.903770743134614medv\n",
       ":   1.10481082286464\n",
       "\n"
      ],
      "text/plain": [
       "      crim         zn      indus       chas        nox         rm        age \n",
       " 5.2076524  2.2190631  0.2941463  3.3957993  0.7271442  0.4024147 -0.5971856 \n",
       "       dis        rad        tax    ptratio      black      lstat       medv \n",
       " 1.0087788  1.0018335  0.6679683 -0.7999445 -2.8817983  0.9037707  1.1048108 "
      ]
     },
     "metadata": {},
     "output_type": "display_data"
    }
   ],
   "source": [
    "skewness(boston_df)"
   ]
  },
  {
   "cell_type": "code",
   "execution_count": 9,
   "metadata": {},
   "outputs": [
    {
     "data": {
      "text/html": [
       "<table>\n",
       "<thead><tr><th scope=col>feature</th><th scope=col>mean_</th><th scope=col>sd_</th><th scope=col>skewness_</th></tr></thead>\n",
       "<tbody>\n",
       "\t<tr><td>crim        </td><td>  3.61352356</td><td>  8.6015451 </td><td> 5.2076524  </td></tr>\n",
       "\t<tr><td>zn          </td><td> 11.36363636</td><td> 23.3224530 </td><td> 2.2190631  </td></tr>\n",
       "\t<tr><td>indus       </td><td> 11.13677866</td><td>  6.8603529 </td><td> 0.2941463  </td></tr>\n",
       "\t<tr><td>chas        </td><td>  0.06916996</td><td>  0.2539940 </td><td> 3.3957993  </td></tr>\n",
       "\t<tr><td>nox         </td><td>  0.55469506</td><td>  0.1158777 </td><td> 0.7271442  </td></tr>\n",
       "\t<tr><td>rm          </td><td>  6.28463439</td><td>  0.7026171 </td><td> 0.4024147  </td></tr>\n",
       "\t<tr><td>age         </td><td> 68.57490119</td><td> 28.1488614 </td><td>-0.5971856  </td></tr>\n",
       "\t<tr><td>dis         </td><td>  3.79504269</td><td>  2.1057101 </td><td> 1.0087788  </td></tr>\n",
       "\t<tr><td>rad         </td><td>  9.54940711</td><td>  8.7072594 </td><td> 1.0018335  </td></tr>\n",
       "\t<tr><td>tax         </td><td>408.23715415</td><td>168.5371161 </td><td> 0.6679683  </td></tr>\n",
       "\t<tr><td>ptratio     </td><td> 18.45553360</td><td>  2.1649455 </td><td>-0.7999445  </td></tr>\n",
       "\t<tr><td>black       </td><td>356.67403162</td><td> 91.2948644 </td><td>-2.8817983  </td></tr>\n",
       "\t<tr><td>lstat       </td><td> 12.65306324</td><td>  7.1410615 </td><td> 0.9037707  </td></tr>\n",
       "\t<tr><td>medv        </td><td> 22.53280632</td><td>  9.1971041 </td><td> 1.1048108  </td></tr>\n",
       "</tbody>\n",
       "</table>\n"
      ],
      "text/latex": [
       "\\begin{tabular}{r|llll}\n",
       " feature & mean\\_ & sd\\_ & skewness\\_\\\\\n",
       "\\hline\n",
       "\t crim         &   3.61352356 &   8.6015451  &  5.2076524  \\\\\n",
       "\t zn           &  11.36363636 &  23.3224530  &  2.2190631  \\\\\n",
       "\t indus        &  11.13677866 &   6.8603529  &  0.2941463  \\\\\n",
       "\t chas         &   0.06916996 &   0.2539940  &  3.3957993  \\\\\n",
       "\t nox          &   0.55469506 &   0.1158777  &  0.7271442  \\\\\n",
       "\t rm           &   6.28463439 &   0.7026171  &  0.4024147  \\\\\n",
       "\t age          &  68.57490119 &  28.1488614  & -0.5971856  \\\\\n",
       "\t dis          &   3.79504269 &   2.1057101  &  1.0087788  \\\\\n",
       "\t rad          &   9.54940711 &   8.7072594  &  1.0018335  \\\\\n",
       "\t tax          & 408.23715415 & 168.5371161  &  0.6679683  \\\\\n",
       "\t ptratio      &  18.45553360 &   2.1649455  & -0.7999445  \\\\\n",
       "\t black        & 356.67403162 &  91.2948644  & -2.8817983  \\\\\n",
       "\t lstat        &  12.65306324 &   7.1410615  &  0.9037707  \\\\\n",
       "\t medv         &  22.53280632 &   9.1971041  &  1.1048108  \\\\\n",
       "\\end{tabular}\n"
      ],
      "text/markdown": [
       "\n",
       "feature | mean_ | sd_ | skewness_ | \n",
       "|---|---|---|---|---|---|---|---|---|---|---|---|---|---|\n",
       "| crim         |   3.61352356 |   8.6015451  |  5.2076524   | \n",
       "| zn           |  11.36363636 |  23.3224530  |  2.2190631   | \n",
       "| indus        |  11.13677866 |   6.8603529  |  0.2941463   | \n",
       "| chas         |   0.06916996 |   0.2539940  |  3.3957993   | \n",
       "| nox          |   0.55469506 |   0.1158777  |  0.7271442   | \n",
       "| rm           |   6.28463439 |   0.7026171  |  0.4024147   | \n",
       "| age          |  68.57490119 |  28.1488614  | -0.5971856   | \n",
       "| dis          |   3.79504269 |   2.1057101  |  1.0087788   | \n",
       "| rad          |   9.54940711 |   8.7072594  |  1.0018335   | \n",
       "| tax          | 408.23715415 | 168.5371161  |  0.6679683   | \n",
       "| ptratio      |  18.45553360 |   2.1649455  | -0.7999445   | \n",
       "| black        | 356.67403162 |  91.2948644  | -2.8817983   | \n",
       "| lstat        |  12.65306324 |   7.1410615  |  0.9037707   | \n",
       "| medv         |  22.53280632 |   9.1971041  |  1.1048108   | \n",
       "\n",
       "\n"
      ],
      "text/plain": [
       "   feature mean_        sd_         skewness_ \n",
       "1  crim      3.61352356   8.6015451  5.2076524\n",
       "2  zn       11.36363636  23.3224530  2.2190631\n",
       "3  indus    11.13677866   6.8603529  0.2941463\n",
       "4  chas      0.06916996   0.2539940  3.3957993\n",
       "5  nox       0.55469506   0.1158777  0.7271442\n",
       "6  rm        6.28463439   0.7026171  0.4024147\n",
       "7  age      68.57490119  28.1488614 -0.5971856\n",
       "8  dis       3.79504269   2.1057101  1.0087788\n",
       "9  rad       9.54940711   8.7072594  1.0018335\n",
       "10 tax     408.23715415 168.5371161  0.6679683\n",
       "11 ptratio  18.45553360   2.1649455 -0.7999445\n",
       "12 black   356.67403162  91.2948644 -2.8817983\n",
       "13 lstat    12.65306324   7.1410615  0.9037707\n",
       "14 medv     22.53280632   9.1971041  1.1048108"
      ]
     },
     "metadata": {},
     "output_type": "display_data"
    }
   ],
   "source": [
    "stats = data.frame(feature=colnames(boston_df))\n",
    "stats['mean_'] = sapply(boston_df, mean)\n",
    "stats['sd_'] = sapply(boston_df, sd)\n",
    "stats['skewness_'] = sapply(boston_df, skewness)\n",
    "stats"
   ]
  },
  {
   "cell_type": "markdown",
   "metadata": {},
   "source": [
    "# Sampling the Dataset"
   ]
  },
  {
   "cell_type": "code",
   "execution_count": 10,
   "metadata": {},
   "outputs": [],
   "source": [
    "library(dplyr, warn.conflicts = FALSE)"
   ]
  },
  {
   "cell_type": "code",
   "execution_count": 11,
   "metadata": {},
   "outputs": [],
   "source": [
    "set.seed(42)"
   ]
  },
  {
   "cell_type": "code",
   "execution_count": 12,
   "metadata": {},
   "outputs": [],
   "source": [
    "sample_1 = sample_n(boston_df, 5)"
   ]
  },
  {
   "cell_type": "code",
   "execution_count": 13,
   "metadata": {
    "scrolled": true
   },
   "outputs": [
    {
     "data": {
      "text/html": [
       "<dl class=dl-horizontal>\n",
       "\t<dt>crim</dt>\n",
       "\t\t<dd>8.074658</dd>\n",
       "\t<dt>zn</dt>\n",
       "\t\t<dd>0</dd>\n",
       "\t<dt>indus</dt>\n",
       "\t\t<dd>16.252</dd>\n",
       "\t<dt>chas</dt>\n",
       "\t\t<dd>0</dd>\n",
       "\t<dt>nox</dt>\n",
       "\t\t<dd>0.674</dd>\n",
       "\t<dt>rm</dt>\n",
       "\t\t<dd>5.909</dd>\n",
       "\t<dt>age</dt>\n",
       "\t\t<dd>77.48</dd>\n",
       "\t<dt>dis</dt>\n",
       "\t\t<dd>2.59636</dd>\n",
       "\t<dt>rad</dt>\n",
       "\t\t<dd>16.4</dd>\n",
       "\t<dt>tax</dt>\n",
       "\t\t<dd>537.6</dd>\n",
       "\t<dt>ptratio</dt>\n",
       "\t\t<dd>18.98</dd>\n",
       "\t<dt>black</dt>\n",
       "\t\t<dd>338.548</dd>\n",
       "\t<dt>lstat</dt>\n",
       "\t\t<dd>17.856</dd>\n",
       "\t<dt>medv</dt>\n",
       "\t\t<dd>18.38</dd>\n",
       "</dl>\n"
      ],
      "text/latex": [
       "\\begin{description*}\n",
       "\\item[crim] 8.074658\n",
       "\\item[zn] 0\n",
       "\\item[indus] 16.252\n",
       "\\item[chas] 0\n",
       "\\item[nox] 0.674\n",
       "\\item[rm] 5.909\n",
       "\\item[age] 77.48\n",
       "\\item[dis] 2.59636\n",
       "\\item[rad] 16.4\n",
       "\\item[tax] 537.6\n",
       "\\item[ptratio] 18.98\n",
       "\\item[black] 338.548\n",
       "\\item[lstat] 17.856\n",
       "\\item[medv] 18.38\n",
       "\\end{description*}\n"
      ],
      "text/markdown": [
       "crim\n",
       ":   8.074658zn\n",
       ":   0indus\n",
       ":   16.252chas\n",
       ":   0nox\n",
       ":   0.674rm\n",
       ":   5.909age\n",
       ":   77.48dis\n",
       ":   2.59636rad\n",
       ":   16.4tax\n",
       ":   537.6ptratio\n",
       ":   18.98black\n",
       ":   338.548lstat\n",
       ":   17.856medv\n",
       ":   18.38\n",
       "\n"
      ],
      "text/plain": [
       "      crim         zn      indus       chas        nox         rm        age \n",
       "  8.074658   0.000000  16.252000   0.000000   0.674000   5.909000  77.480000 \n",
       "       dis        rad        tax    ptratio      black      lstat       medv \n",
       "  2.596360  16.400000 537.600000  18.980000 338.548000  17.856000  18.380000 "
      ]
     },
     "metadata": {},
     "output_type": "display_data"
    },
    {
     "data": {
      "text/html": [
       "<dl class=dl-horizontal>\n",
       "\t<dt>crim</dt>\n",
       "\t\t<dd>4.46113444268775</dd>\n",
       "\t<dt>zn</dt>\n",
       "\t\t<dd>-11.3636363636364</dd>\n",
       "\t<dt>indus</dt>\n",
       "\t\t<dd>5.11522134387352</dd>\n",
       "\t<dt>chas</dt>\n",
       "\t\t<dd>-0.0691699604743083</dd>\n",
       "\t<dt>nox</dt>\n",
       "\t\t<dd>0.119304940711462</dd>\n",
       "\t<dt>rm</dt>\n",
       "\t\t<dd>-0.375634387351779</dd>\n",
       "\t<dt>age</dt>\n",
       "\t\t<dd>8.90509881422923</dd>\n",
       "\t<dt>dis</dt>\n",
       "\t\t<dd>-1.19868268774704</dd>\n",
       "\t<dt>rad</dt>\n",
       "\t\t<dd>6.85059288537549</dd>\n",
       "\t<dt>tax</dt>\n",
       "\t\t<dd>129.362845849802</dd>\n",
       "\t<dt>ptratio</dt>\n",
       "\t\t<dd>0.524466403162055</dd>\n",
       "\t<dt>black</dt>\n",
       "\t\t<dd>-18.1260316205534</dd>\n",
       "\t<dt>lstat</dt>\n",
       "\t\t<dd>5.20293675889328</dd>\n",
       "\t<dt>medv</dt>\n",
       "\t\t<dd>-4.15280632411067</dd>\n",
       "</dl>\n"
      ],
      "text/latex": [
       "\\begin{description*}\n",
       "\\item[crim] 4.46113444268775\n",
       "\\item[zn] -11.3636363636364\n",
       "\\item[indus] 5.11522134387352\n",
       "\\item[chas] -0.0691699604743083\n",
       "\\item[nox] 0.119304940711462\n",
       "\\item[rm] -0.375634387351779\n",
       "\\item[age] 8.90509881422923\n",
       "\\item[dis] -1.19868268774704\n",
       "\\item[rad] 6.85059288537549\n",
       "\\item[tax] 129.362845849802\n",
       "\\item[ptratio] 0.524466403162055\n",
       "\\item[black] -18.1260316205534\n",
       "\\item[lstat] 5.20293675889328\n",
       "\\item[medv] -4.15280632411067\n",
       "\\end{description*}\n"
      ],
      "text/markdown": [
       "crim\n",
       ":   4.46113444268775zn\n",
       ":   -11.3636363636364indus\n",
       ":   5.11522134387352chas\n",
       ":   -0.0691699604743083nox\n",
       ":   0.119304940711462rm\n",
       ":   -0.375634387351779age\n",
       ":   8.90509881422923dis\n",
       ":   -1.19868268774704rad\n",
       ":   6.85059288537549tax\n",
       ":   129.362845849802ptratio\n",
       ":   0.524466403162055black\n",
       ":   -18.1260316205534lstat\n",
       ":   5.20293675889328medv\n",
       ":   -4.15280632411067\n",
       "\n"
      ],
      "text/plain": [
       "        crim           zn        indus         chas          nox           rm \n",
       "  4.46113444 -11.36363636   5.11522134  -0.06916996   0.11930494  -0.37563439 \n",
       "         age          dis          rad          tax      ptratio        black \n",
       "  8.90509881  -1.19868269   6.85059289 129.36284585   0.52446640 -18.12603162 \n",
       "       lstat         medv \n",
       "  5.20293676  -4.15280632 "
      ]
     },
     "metadata": {},
     "output_type": "display_data"
    },
    {
     "data": {
      "text/html": [
       "<dl class=dl-horizontal>\n",
       "\t<dt>crim</dt>\n",
       "\t\t<dd>0.518643381864275</dd>\n",
       "\t<dt>zn</dt>\n",
       "\t\t<dd>-0.487240187226824</dd>\n",
       "\t<dt>indus</dt>\n",
       "\t\t<dd>0.745620726505109</dd>\n",
       "\t<dt>chas</dt>\n",
       "\t\t<dd>-0.272329067679209</dd>\n",
       "\t<dt>nox</dt>\n",
       "\t\t<dd>1.02957657740512</dd>\n",
       "\t<dt>rm</dt>\n",
       "\t\t<dd>-0.534621722330703</dd>\n",
       "\t<dt>age</dt>\n",
       "\t\t<dd>0.31635733628804</dd>\n",
       "\t<dt>dis</dt>\n",
       "\t\t<dd>-0.569253418402266</dd>\n",
       "\t<dt>rad</dt>\n",
       "\t\t<dd>0.786767980953393</dd>\n",
       "\t<dt>tax</dt>\n",
       "\t\t<dd>0.767562949205906</dd>\n",
       "\t<dt>ptratio</dt>\n",
       "\t\t<dd>0.242253856929489</dd>\n",
       "\t<dt>black</dt>\n",
       "\t\t<dd>-0.198543825469538</dd>\n",
       "\t<dt>lstat</dt>\n",
       "\t\t<dd>0.728594306410157</dd>\n",
       "\t<dt>medv</dt>\n",
       "\t\t<dd>-0.451534122551589</dd>\n",
       "</dl>\n"
      ],
      "text/latex": [
       "\\begin{description*}\n",
       "\\item[crim] 0.518643381864275\n",
       "\\item[zn] -0.487240187226824\n",
       "\\item[indus] 0.745620726505109\n",
       "\\item[chas] -0.272329067679209\n",
       "\\item[nox] 1.02957657740512\n",
       "\\item[rm] -0.534621722330703\n",
       "\\item[age] 0.31635733628804\n",
       "\\item[dis] -0.569253418402266\n",
       "\\item[rad] 0.786767980953393\n",
       "\\item[tax] 0.767562949205906\n",
       "\\item[ptratio] 0.242253856929489\n",
       "\\item[black] -0.198543825469538\n",
       "\\item[lstat] 0.728594306410157\n",
       "\\item[medv] -0.451534122551589\n",
       "\\end{description*}\n"
      ],
      "text/markdown": [
       "crim\n",
       ":   0.518643381864275zn\n",
       ":   -0.487240187226824indus\n",
       ":   0.745620726505109chas\n",
       ":   -0.272329067679209nox\n",
       ":   1.02957657740512rm\n",
       ":   -0.534621722330703age\n",
       ":   0.31635733628804dis\n",
       ":   -0.569253418402266rad\n",
       ":   0.786767980953393tax\n",
       ":   0.767562949205906ptratio\n",
       ":   0.242253856929489black\n",
       ":   -0.198543825469538lstat\n",
       ":   0.728594306410157medv\n",
       ":   -0.451534122551589\n",
       "\n"
      ],
      "text/plain": [
       "      crim         zn      indus       chas        nox         rm        age \n",
       " 0.5186434 -0.4872402  0.7456207 -0.2723291  1.0295766 -0.5346217  0.3163573 \n",
       "       dis        rad        tax    ptratio      black      lstat       medv \n",
       "-0.5692534  0.7867680  0.7675629  0.2422539 -0.1985438  0.7285943 -0.4515341 "
      ]
     },
     "metadata": {},
     "output_type": "display_data"
    }
   ],
   "source": [
    "colMeans(sample_1)\n",
    "\n",
    "colMeans(sample_1) - stats$mean_ \n",
    "\n",
    "(colMeans(sample_1) - stats$mean_)/stats$sd_"
   ]
  },
  {
   "cell_type": "markdown",
   "metadata": {},
   "source": [
    "For a 90% confidence level and a 10% margin of error we need a sample size of 60 for this data set.![](Sample%20Size%20Calculator.PNG)\n"
   ]
  },
  {
   "cell_type": "code",
   "execution_count": 14,
   "metadata": {},
   "outputs": [],
   "source": [
    "sample_2 = sample_n(boston_df, 60)"
   ]
  },
  {
   "cell_type": "code",
   "execution_count": 15,
   "metadata": {
    "scrolled": true
   },
   "outputs": [
    {
     "data": {
      "text/html": [
       "<dl class=dl-horizontal>\n",
       "\t<dt>crim</dt>\n",
       "\t\t<dd>2.86394116666667</dd>\n",
       "\t<dt>zn</dt>\n",
       "\t\t<dd>13.075</dd>\n",
       "\t<dt>indus</dt>\n",
       "\t\t<dd>10.6561666666667</dd>\n",
       "\t<dt>chas</dt>\n",
       "\t\t<dd>0.0166666666666667</dd>\n",
       "\t<dt>nox</dt>\n",
       "\t\t<dd>0.558785</dd>\n",
       "\t<dt>rm</dt>\n",
       "\t\t<dd>6.4466</dd>\n",
       "\t<dt>age</dt>\n",
       "\t\t<dd>65.3416666666667</dd>\n",
       "\t<dt>dis</dt>\n",
       "\t\t<dd>3.94057333333333</dd>\n",
       "\t<dt>rad</dt>\n",
       "\t\t<dd>11.0666666666667</dd>\n",
       "\t<dt>tax</dt>\n",
       "\t\t<dd>428.75</dd>\n",
       "\t<dt>ptratio</dt>\n",
       "\t\t<dd>18.57</dd>\n",
       "\t<dt>black</dt>\n",
       "\t\t<dd>354.719333333333</dd>\n",
       "\t<dt>lstat</dt>\n",
       "\t\t<dd>11.655</dd>\n",
       "\t<dt>medv</dt>\n",
       "\t\t<dd>24.3666666666667</dd>\n",
       "</dl>\n"
      ],
      "text/latex": [
       "\\begin{description*}\n",
       "\\item[crim] 2.86394116666667\n",
       "\\item[zn] 13.075\n",
       "\\item[indus] 10.6561666666667\n",
       "\\item[chas] 0.0166666666666667\n",
       "\\item[nox] 0.558785\n",
       "\\item[rm] 6.4466\n",
       "\\item[age] 65.3416666666667\n",
       "\\item[dis] 3.94057333333333\n",
       "\\item[rad] 11.0666666666667\n",
       "\\item[tax] 428.75\n",
       "\\item[ptratio] 18.57\n",
       "\\item[black] 354.719333333333\n",
       "\\item[lstat] 11.655\n",
       "\\item[medv] 24.3666666666667\n",
       "\\end{description*}\n"
      ],
      "text/markdown": [
       "crim\n",
       ":   2.86394116666667zn\n",
       ":   13.075indus\n",
       ":   10.6561666666667chas\n",
       ":   0.0166666666666667nox\n",
       ":   0.558785rm\n",
       ":   6.4466age\n",
       ":   65.3416666666667dis\n",
       ":   3.94057333333333rad\n",
       ":   11.0666666666667tax\n",
       ":   428.75ptratio\n",
       ":   18.57black\n",
       ":   354.719333333333lstat\n",
       ":   11.655medv\n",
       ":   24.3666666666667\n",
       "\n"
      ],
      "text/plain": [
       "        crim           zn        indus         chas          nox           rm \n",
       "  2.86394117  13.07500000  10.65616667   0.01666667   0.55878500   6.44660000 \n",
       "         age          dis          rad          tax      ptratio        black \n",
       " 65.34166667   3.94057333  11.06666667 428.75000000  18.57000000 354.71933333 \n",
       "       lstat         medv \n",
       " 11.65500000  24.36666667 "
      ]
     },
     "metadata": {},
     "output_type": "display_data"
    }
   ],
   "source": [
    "colMeans(sample_2)"
   ]
  },
  {
   "cell_type": "code",
   "execution_count": 16,
   "metadata": {
    "scrolled": true
   },
   "outputs": [
    {
     "data": {
      "text/html": [
       "<dl class=dl-horizontal>\n",
       "\t<dt>crim</dt>\n",
       "\t\t<dd>-0.749582390645586</dd>\n",
       "\t<dt>zn</dt>\n",
       "\t\t<dd>1.71136363636364</dd>\n",
       "\t<dt>indus</dt>\n",
       "\t\t<dd>-0.480611989459815</dd>\n",
       "\t<dt>chas</dt>\n",
       "\t\t<dd>-0.0525032938076416</dd>\n",
       "\t<dt>nox</dt>\n",
       "\t\t<dd>0.0040899407114624</dd>\n",
       "\t<dt>rm</dt>\n",
       "\t\t<dd>0.161965612648221</dd>\n",
       "\t<dt>age</dt>\n",
       "\t\t<dd>-3.23323451910409</dd>\n",
       "\t<dt>dis</dt>\n",
       "\t\t<dd>0.145530645586298</dd>\n",
       "\t<dt>rad</dt>\n",
       "\t\t<dd>1.51725955204216</dd>\n",
       "\t<dt>tax</dt>\n",
       "\t\t<dd>20.5128458498024</dd>\n",
       "\t<dt>ptratio</dt>\n",
       "\t\t<dd>0.114466403162055</dd>\n",
       "\t<dt>black</dt>\n",
       "\t\t<dd>-1.95469828722003</dd>\n",
       "\t<dt>lstat</dt>\n",
       "\t\t<dd>-0.998063241106721</dd>\n",
       "\t<dt>medv</dt>\n",
       "\t\t<dd>1.83386034255599</dd>\n",
       "</dl>\n"
      ],
      "text/latex": [
       "\\begin{description*}\n",
       "\\item[crim] -0.749582390645586\n",
       "\\item[zn] 1.71136363636364\n",
       "\\item[indus] -0.480611989459815\n",
       "\\item[chas] -0.0525032938076416\n",
       "\\item[nox] 0.0040899407114624\n",
       "\\item[rm] 0.161965612648221\n",
       "\\item[age] -3.23323451910409\n",
       "\\item[dis] 0.145530645586298\n",
       "\\item[rad] 1.51725955204216\n",
       "\\item[tax] 20.5128458498024\n",
       "\\item[ptratio] 0.114466403162055\n",
       "\\item[black] -1.95469828722003\n",
       "\\item[lstat] -0.998063241106721\n",
       "\\item[medv] 1.83386034255599\n",
       "\\end{description*}\n"
      ],
      "text/markdown": [
       "crim\n",
       ":   -0.749582390645586zn\n",
       ":   1.71136363636364indus\n",
       ":   -0.480611989459815chas\n",
       ":   -0.0525032938076416nox\n",
       ":   0.0040899407114624rm\n",
       ":   0.161965612648221age\n",
       ":   -3.23323451910409dis\n",
       ":   0.145530645586298rad\n",
       ":   1.51725955204216tax\n",
       ":   20.5128458498024ptratio\n",
       ":   0.114466403162055black\n",
       ":   -1.95469828722003lstat\n",
       ":   -0.998063241106721medv\n",
       ":   1.83386034255599\n",
       "\n"
      ],
      "text/plain": [
       "        crim           zn        indus         chas          nox           rm \n",
       "-0.749582391  1.711363636 -0.480611989 -0.052503294  0.004089941  0.161965613 \n",
       "         age          dis          rad          tax      ptratio        black \n",
       "-3.233234519  0.145530646  1.517259552 20.512845850  0.114466403 -1.954698287 \n",
       "       lstat         medv \n",
       "-0.998063241  1.833860343 "
      ]
     },
     "metadata": {},
     "output_type": "display_data"
    },
    {
     "data": {
      "text/html": [
       "<dl class=dl-horizontal>\n",
       "\t<dt>crim</dt>\n",
       "\t\t<dd>-0.0871450863148862</dd>\n",
       "\t<dt>zn</dt>\n",
       "\t\t<dd>0.0733783721963597</dd>\n",
       "\t<dt>indus</dt>\n",
       "\t\t<dd>-0.07005645243041</dd>\n",
       "\t<dt>chas</dt>\n",
       "\t\t<dd>-0.206710730419361</dd>\n",
       "\t<dt>nox</dt>\n",
       "\t\t<dd>0.0352953292159236</dd>\n",
       "\t<dt>rm</dt>\n",
       "\t\t<dd>0.230517592925401</dd>\n",
       "\t<dt>age</dt>\n",
       "\t\t<dd>-0.114862000006548</dd>\n",
       "\t<dt>dis</dt>\n",
       "\t\t<dd>0.0691123833931368</dd>\n",
       "\t<dt>rad</dt>\n",
       "\t\t<dd>0.174252251493563</dd>\n",
       "\t<dt>tax</dt>\n",
       "\t\t<dd>0.121711147846586</dd>\n",
       "\t<dt>ptratio</dt>\n",
       "\t\t<dd>0.0528726482529051</dd>\n",
       "\t<dt>black</dt>\n",
       "\t\t<dd>-0.0214108241510157</dd>\n",
       "\t<dt>lstat</dt>\n",
       "\t\t<dd>-0.139763988802029</dd>\n",
       "\t<dt>medv</dt>\n",
       "\t\t<dd>0.199395410243579</dd>\n",
       "</dl>\n"
      ],
      "text/latex": [
       "\\begin{description*}\n",
       "\\item[crim] -0.0871450863148862\n",
       "\\item[zn] 0.0733783721963597\n",
       "\\item[indus] -0.07005645243041\n",
       "\\item[chas] -0.206710730419361\n",
       "\\item[nox] 0.0352953292159236\n",
       "\\item[rm] 0.230517592925401\n",
       "\\item[age] -0.114862000006548\n",
       "\\item[dis] 0.0691123833931368\n",
       "\\item[rad] 0.174252251493563\n",
       "\\item[tax] 0.121711147846586\n",
       "\\item[ptratio] 0.0528726482529051\n",
       "\\item[black] -0.0214108241510157\n",
       "\\item[lstat] -0.139763988802029\n",
       "\\item[medv] 0.199395410243579\n",
       "\\end{description*}\n"
      ],
      "text/markdown": [
       "crim\n",
       ":   -0.0871450863148862zn\n",
       ":   0.0733783721963597indus\n",
       ":   -0.07005645243041chas\n",
       ":   -0.206710730419361nox\n",
       ":   0.0352953292159236rm\n",
       ":   0.230517592925401age\n",
       ":   -0.114862000006548dis\n",
       ":   0.0691123833931368rad\n",
       ":   0.174252251493563tax\n",
       ":   0.121711147846586ptratio\n",
       ":   0.0528726482529051black\n",
       ":   -0.0214108241510157lstat\n",
       ":   -0.139763988802029medv\n",
       ":   0.199395410243579\n",
       "\n"
      ],
      "text/plain": [
       "       crim          zn       indus        chas         nox          rm \n",
       "-0.08714509  0.07337837 -0.07005645 -0.20671073  0.03529533  0.23051759 \n",
       "        age         dis         rad         tax     ptratio       black \n",
       "-0.11486200  0.06911238  0.17425225  0.12171115  0.05287265 -0.02141082 \n",
       "      lstat        medv \n",
       "-0.13976399  0.19939541 "
      ]
     },
     "metadata": {},
     "output_type": "display_data"
    }
   ],
   "source": [
    "colMeans(sample_2) - stats$mean_\n",
    "\n",
    "(colMeans(sample_2) - stats$mean_)/stats$sd_"
   ]
  },
  {
   "cell_type": "markdown",
   "metadata": {},
   "source": [
    "# Repeatedly Sampling "
   ]
  },
  {
   "cell_type": "markdown",
   "metadata": {},
   "source": [
    "Sampling 6 times 10"
   ]
  },
  {
   "cell_type": "code",
   "execution_count": 17,
   "metadata": {},
   "outputs": [
    {
     "data": {
      "text/html": [
       "<dl class=dl-horizontal>\n",
       "\t<dt>crim</dt>\n",
       "\t\t<dd>2.82045633333333</dd>\n",
       "\t<dt>zn</dt>\n",
       "\t\t<dd>7.7</dd>\n",
       "\t<dt>indus</dt>\n",
       "\t\t<dd>10.1731666666667</dd>\n",
       "\t<dt>chas</dt>\n",
       "\t\t<dd>0.0333333333333333</dd>\n",
       "\t<dt>nox</dt>\n",
       "\t\t<dd>0.552166666666667</dd>\n",
       "\t<dt>rm</dt>\n",
       "\t\t<dd>6.1866</dd>\n",
       "\t<dt>age</dt>\n",
       "\t\t<dd>64.9833333333333</dd>\n",
       "\t<dt>dis</dt>\n",
       "\t\t<dd>3.52958</dd>\n",
       "\t<dt>rad</dt>\n",
       "\t\t<dd>8.21666666666667</dd>\n",
       "\t<dt>tax</dt>\n",
       "\t\t<dd>384.283333333333</dd>\n",
       "\t<dt>ptratio</dt>\n",
       "\t\t<dd>17.9066666666667</dd>\n",
       "\t<dt>black</dt>\n",
       "\t\t<dd>375.536833333333</dd>\n",
       "\t<dt>lstat</dt>\n",
       "\t\t<dd>11.4166666666667</dd>\n",
       "\t<dt>medv</dt>\n",
       "\t\t<dd>24.1233333333333</dd>\n",
       "</dl>\n"
      ],
      "text/latex": [
       "\\begin{description*}\n",
       "\\item[crim] 2.82045633333333\n",
       "\\item[zn] 7.7\n",
       "\\item[indus] 10.1731666666667\n",
       "\\item[chas] 0.0333333333333333\n",
       "\\item[nox] 0.552166666666667\n",
       "\\item[rm] 6.1866\n",
       "\\item[age] 64.9833333333333\n",
       "\\item[dis] 3.52958\n",
       "\\item[rad] 8.21666666666667\n",
       "\\item[tax] 384.283333333333\n",
       "\\item[ptratio] 17.9066666666667\n",
       "\\item[black] 375.536833333333\n",
       "\\item[lstat] 11.4166666666667\n",
       "\\item[medv] 24.1233333333333\n",
       "\\end{description*}\n"
      ],
      "text/markdown": [
       "crim\n",
       ":   2.82045633333333zn\n",
       ":   7.7indus\n",
       ":   10.1731666666667chas\n",
       ":   0.0333333333333333nox\n",
       ":   0.552166666666667rm\n",
       ":   6.1866age\n",
       ":   64.9833333333333dis\n",
       ":   3.52958rad\n",
       ":   8.21666666666667tax\n",
       ":   384.283333333333ptratio\n",
       ":   17.9066666666667black\n",
       ":   375.536833333333lstat\n",
       ":   11.4166666666667medv\n",
       ":   24.1233333333333\n",
       "\n"
      ],
      "text/plain": [
       "        crim           zn        indus         chas          nox           rm \n",
       "  2.82045633   7.70000000  10.17316667   0.03333333   0.55216667   6.18660000 \n",
       "         age          dis          rad          tax      ptratio        black \n",
       " 64.98333333   3.52958000   8.21666667 384.28333333  17.90666667 375.53683333 \n",
       "       lstat         medv \n",
       " 11.41666667  24.12333333 "
      ]
     },
     "metadata": {},
     "output_type": "display_data"
    },
    {
     "data": {
      "text/html": [
       "<table>\n",
       "<thead><tr><th scope=col>feature</th><th scope=col>mean_</th><th scope=col>sd_</th><th scope=col>skewness_</th></tr></thead>\n",
       "<tbody>\n",
       "\t<tr><td>crim        </td><td>  3.61352356</td><td>  8.6015451 </td><td> 5.2076524  </td></tr>\n",
       "\t<tr><td>zn          </td><td> 11.36363636</td><td> 23.3224530 </td><td> 2.2190631  </td></tr>\n",
       "\t<tr><td>indus       </td><td> 11.13677866</td><td>  6.8603529 </td><td> 0.2941463  </td></tr>\n",
       "\t<tr><td>chas        </td><td>  0.06916996</td><td>  0.2539940 </td><td> 3.3957993  </td></tr>\n",
       "\t<tr><td>nox         </td><td>  0.55469506</td><td>  0.1158777 </td><td> 0.7271442  </td></tr>\n",
       "\t<tr><td>rm          </td><td>  6.28463439</td><td>  0.7026171 </td><td> 0.4024147  </td></tr>\n",
       "\t<tr><td>age         </td><td> 68.57490119</td><td> 28.1488614 </td><td>-0.5971856  </td></tr>\n",
       "\t<tr><td>dis         </td><td>  3.79504269</td><td>  2.1057101 </td><td> 1.0087788  </td></tr>\n",
       "\t<tr><td>rad         </td><td>  9.54940711</td><td>  8.7072594 </td><td> 1.0018335  </td></tr>\n",
       "\t<tr><td>tax         </td><td>408.23715415</td><td>168.5371161 </td><td> 0.6679683  </td></tr>\n",
       "\t<tr><td>ptratio     </td><td> 18.45553360</td><td>  2.1649455 </td><td>-0.7999445  </td></tr>\n",
       "\t<tr><td>black       </td><td>356.67403162</td><td> 91.2948644 </td><td>-2.8817983  </td></tr>\n",
       "\t<tr><td>lstat       </td><td> 12.65306324</td><td>  7.1410615 </td><td> 0.9037707  </td></tr>\n",
       "\t<tr><td>medv        </td><td> 22.53280632</td><td>  9.1971041 </td><td> 1.1048108  </td></tr>\n",
       "</tbody>\n",
       "</table>\n"
      ],
      "text/latex": [
       "\\begin{tabular}{r|llll}\n",
       " feature & mean\\_ & sd\\_ & skewness\\_\\\\\n",
       "\\hline\n",
       "\t crim         &   3.61352356 &   8.6015451  &  5.2076524  \\\\\n",
       "\t zn           &  11.36363636 &  23.3224530  &  2.2190631  \\\\\n",
       "\t indus        &  11.13677866 &   6.8603529  &  0.2941463  \\\\\n",
       "\t chas         &   0.06916996 &   0.2539940  &  3.3957993  \\\\\n",
       "\t nox          &   0.55469506 &   0.1158777  &  0.7271442  \\\\\n",
       "\t rm           &   6.28463439 &   0.7026171  &  0.4024147  \\\\\n",
       "\t age          &  68.57490119 &  28.1488614  & -0.5971856  \\\\\n",
       "\t dis          &   3.79504269 &   2.1057101  &  1.0087788  \\\\\n",
       "\t rad          &   9.54940711 &   8.7072594  &  1.0018335  \\\\\n",
       "\t tax          & 408.23715415 & 168.5371161  &  0.6679683  \\\\\n",
       "\t ptratio      &  18.45553360 &   2.1649455  & -0.7999445  \\\\\n",
       "\t black        & 356.67403162 &  91.2948644  & -2.8817983  \\\\\n",
       "\t lstat        &  12.65306324 &   7.1410615  &  0.9037707  \\\\\n",
       "\t medv         &  22.53280632 &   9.1971041  &  1.1048108  \\\\\n",
       "\\end{tabular}\n"
      ],
      "text/markdown": [
       "\n",
       "feature | mean_ | sd_ | skewness_ | \n",
       "|---|---|---|---|---|---|---|---|---|---|---|---|---|---|\n",
       "| crim         |   3.61352356 |   8.6015451  |  5.2076524   | \n",
       "| zn           |  11.36363636 |  23.3224530  |  2.2190631   | \n",
       "| indus        |  11.13677866 |   6.8603529  |  0.2941463   | \n",
       "| chas         |   0.06916996 |   0.2539940  |  3.3957993   | \n",
       "| nox          |   0.55469506 |   0.1158777  |  0.7271442   | \n",
       "| rm           |   6.28463439 |   0.7026171  |  0.4024147   | \n",
       "| age          |  68.57490119 |  28.1488614  | -0.5971856   | \n",
       "| dis          |   3.79504269 |   2.1057101  |  1.0087788   | \n",
       "| rad          |   9.54940711 |   8.7072594  |  1.0018335   | \n",
       "| tax          | 408.23715415 | 168.5371161  |  0.6679683   | \n",
       "| ptratio      |  18.45553360 |   2.1649455  | -0.7999445   | \n",
       "| black        | 356.67403162 |  91.2948644  | -2.8817983   | \n",
       "| lstat        |  12.65306324 |   7.1410615  |  0.9037707   | \n",
       "| medv         |  22.53280632 |   9.1971041  |  1.1048108   | \n",
       "\n",
       "\n"
      ],
      "text/plain": [
       "   feature mean_        sd_         skewness_ \n",
       "1  crim      3.61352356   8.6015451  5.2076524\n",
       "2  zn       11.36363636  23.3224530  2.2190631\n",
       "3  indus    11.13677866   6.8603529  0.2941463\n",
       "4  chas      0.06916996   0.2539940  3.3957993\n",
       "5  nox       0.55469506   0.1158777  0.7271442\n",
       "6  rm        6.28463439   0.7026171  0.4024147\n",
       "7  age      68.57490119  28.1488614 -0.5971856\n",
       "8  dis       3.79504269   2.1057101  1.0087788\n",
       "9  rad       9.54940711   8.7072594  1.0018335\n",
       "10 tax     408.23715415 168.5371161  0.6679683\n",
       "11 ptratio  18.45553360   2.1649455 -0.7999445\n",
       "12 black   356.67403162  91.2948644 -2.8817983\n",
       "13 lstat    12.65306324   7.1410615  0.9037707\n",
       "14 medv     22.53280632   9.1971041  1.1048108"
      ]
     },
     "metadata": {},
     "output_type": "display_data"
    },
    {
     "data": {
      "text/html": [
       "<dl class=dl-horizontal>\n",
       "\t<dt>crim</dt>\n",
       "\t\t<dd>-0.092200554001311</dd>\n",
       "\t<dt>zn</dt>\n",
       "\t\t<dd>-0.157086236361928</dd>\n",
       "\t<dt>indus</dt>\n",
       "\t\t<dd>-0.140460993444711</dd>\n",
       "\t<dt>chas</dt>\n",
       "\t\t<dd>-0.141092393159514</dd>\n",
       "\t<dt>nox</dt>\n",
       "\t\t<dd>-0.0218194972181247</dd>\n",
       "\t<dt>rm</dt>\n",
       "\t\t<dd>-0.139527462816019</dd>\n",
       "\t<dt>age</dt>\n",
       "\t\t<dd>-0.127591940594676</dd>\n",
       "\t<dt>dis</dt>\n",
       "\t\t<dd>-0.12606801116172</dd>\n",
       "\t<dt>rad</dt>\n",
       "\t\t<dd>-0.153060841436535</dd>\n",
       "\t<dt>tax</dt>\n",
       "\t\t<dd>-0.14212786700974</dd>\n",
       "\t<dt>ptratio</dt>\n",
       "\t\t<dd>-0.253524591801082</dd>\n",
       "\t<dt>black</dt>\n",
       "\t\t<dd>0.206614050418078</dd>\n",
       "\t<dt>lstat</dt>\n",
       "\t\t<dd>-0.17313904557119</dd>\n",
       "\t<dt>medv</dt>\n",
       "\t\t<dd>0.172937806739098</dd>\n",
       "</dl>\n"
      ],
      "text/latex": [
       "\\begin{description*}\n",
       "\\item[crim] -0.092200554001311\n",
       "\\item[zn] -0.157086236361928\n",
       "\\item[indus] -0.140460993444711\n",
       "\\item[chas] -0.141092393159514\n",
       "\\item[nox] -0.0218194972181247\n",
       "\\item[rm] -0.139527462816019\n",
       "\\item[age] -0.127591940594676\n",
       "\\item[dis] -0.12606801116172\n",
       "\\item[rad] -0.153060841436535\n",
       "\\item[tax] -0.14212786700974\n",
       "\\item[ptratio] -0.253524591801082\n",
       "\\item[black] 0.206614050418078\n",
       "\\item[lstat] -0.17313904557119\n",
       "\\item[medv] 0.172937806739098\n",
       "\\end{description*}\n"
      ],
      "text/markdown": [
       "crim\n",
       ":   -0.092200554001311zn\n",
       ":   -0.157086236361928indus\n",
       ":   -0.140460993444711chas\n",
       ":   -0.141092393159514nox\n",
       ":   -0.0218194972181247rm\n",
       ":   -0.139527462816019age\n",
       ":   -0.127591940594676dis\n",
       ":   -0.12606801116172rad\n",
       ":   -0.153060841436535tax\n",
       ":   -0.14212786700974ptratio\n",
       ":   -0.253524591801082black\n",
       ":   0.206614050418078lstat\n",
       ":   -0.17313904557119medv\n",
       ":   0.172937806739098\n",
       "\n"
      ],
      "text/plain": [
       "       crim          zn       indus        chas         nox          rm \n",
       "-0.09220055 -0.15708624 -0.14046099 -0.14109239 -0.02181950 -0.13952746 \n",
       "        age         dis         rad         tax     ptratio       black \n",
       "-0.12759194 -0.12606801 -0.15306084 -0.14212787 -0.25352459  0.20661405 \n",
       "      lstat        medv \n",
       "-0.17313905  0.17293781 "
      ]
     },
     "metadata": {},
     "output_type": "display_data"
    }
   ],
   "source": [
    "sample_means = colMeans(sample_n(boston_df, 10))\n",
    "\n",
    "for (i in 1:5) {\n",
    "    sample_means = (sample_means*(i) + colMeans(sample_n(boston_df, 5)))/(i+1)\n",
    "}\n",
    "\n",
    "sample_means; stats\n",
    "\n",
    "(sample_means-stats$mean_)/stats$sd_"
   ]
  },
  {
   "cell_type": "markdown",
   "metadata": {},
   "source": [
    "Sampling 6 times 10 returns a closer mean to the full data set thank sampling 60 once."
   ]
  },
  {
   "cell_type": "code",
   "execution_count": 18,
   "metadata": {},
   "outputs": [
    {
     "data": {
      "text/html": [
       "<dl class=dl-horizontal>\n",
       "\t<dt>crim</dt>\n",
       "\t\t<dd>-0.00695501059166273</dd>\n",
       "\t<dt>zn</dt>\n",
       "\t\t<dd>-0.00521541896407587</dd>\n",
       "\t<dt>indus</dt>\n",
       "\t\t<dd>0.050554446230596</dd>\n",
       "\t<dt>chas</dt>\n",
       "\t\t<dd>0.0583873521104224</dd>\n",
       "\t<dt>nox</dt>\n",
       "\t\t<dd>0.0187589257287016</dd>\n",
       "\t<dt>rm</dt>\n",
       "\t\t<dd>0.0413334814278145</dd>\n",
       "\t<dt>age</dt>\n",
       "\t\t<dd>-0.0194288919137816</dd>\n",
       "\t<dt>dis</dt>\n",
       "\t\t<dd>-0.0675912063808041</dd>\n",
       "\t<dt>rad</dt>\n",
       "\t\t<dd>0.0512897188045018</dd>\n",
       "\t<dt>tax</dt>\n",
       "\t\t<dd>0.0312028944893518</dd>\n",
       "\t<dt>ptratio</dt>\n",
       "\t\t<dd>-0.0491160612002374</dd>\n",
       "\t<dt>black</dt>\n",
       "\t\t<dd>-0.0224489256255358</dd>\n",
       "\t<dt>lstat</dt>\n",
       "\t\t<dd>0.00953594347073753</dd>\n",
       "\t<dt>medv</dt>\n",
       "\t\t<dd>0.0878965452830525</dd>\n",
       "</dl>\n"
      ],
      "text/latex": [
       "\\begin{description*}\n",
       "\\item[crim] -0.00695501059166273\n",
       "\\item[zn] -0.00521541896407587\n",
       "\\item[indus] 0.050554446230596\n",
       "\\item[chas] 0.0583873521104224\n",
       "\\item[nox] 0.0187589257287016\n",
       "\\item[rm] 0.0413334814278145\n",
       "\\item[age] -0.0194288919137816\n",
       "\\item[dis] -0.0675912063808041\n",
       "\\item[rad] 0.0512897188045018\n",
       "\\item[tax] 0.0312028944893518\n",
       "\\item[ptratio] -0.0491160612002374\n",
       "\\item[black] -0.0224489256255358\n",
       "\\item[lstat] 0.00953594347073753\n",
       "\\item[medv] 0.0878965452830525\n",
       "\\end{description*}\n"
      ],
      "text/markdown": [
       "crim\n",
       ":   -0.00695501059166273zn\n",
       ":   -0.00521541896407587indus\n",
       ":   0.050554446230596chas\n",
       ":   0.0583873521104224nox\n",
       ":   0.0187589257287016rm\n",
       ":   0.0413334814278145age\n",
       ":   -0.0194288919137816dis\n",
       ":   -0.0675912063808041rad\n",
       ":   0.0512897188045018tax\n",
       ":   0.0312028944893518ptratio\n",
       ":   -0.0491160612002374black\n",
       ":   -0.0224489256255358lstat\n",
       ":   0.00953594347073753medv\n",
       ":   0.0878965452830525\n",
       "\n"
      ],
      "text/plain": [
       "        crim           zn        indus         chas          nox           rm \n",
       "-0.006955011 -0.005215419  0.050554446  0.058387352  0.018758926  0.041333481 \n",
       "         age          dis          rad          tax      ptratio        black \n",
       "-0.019428892 -0.067591206  0.051289719  0.031202894 -0.049116061 -0.022448926 \n",
       "       lstat         medv \n",
       " 0.009535943  0.087896545 "
      ]
     },
     "metadata": {},
     "output_type": "display_data"
    }
   ],
   "source": [
    "sample_means = colMeans(sample_n(boston_df, 5))\n",
    "\n",
    "for (i in 1:49) {\n",
    "    sample_means = (sample_means*(i) + colMeans(sample_n(boston_df, 5)))/(i+1)\n",
    "}\n",
    "\n",
    "(sample_means-stats$mean_)/stats$sd_"
   ]
  },
  {
   "cell_type": "code",
   "execution_count": 19,
   "metadata": {},
   "outputs": [],
   "source": [
    "boston_features = Filter(is.numeric, boston_df)"
   ]
  },
  {
   "cell_type": "code",
   "execution_count": 20,
   "metadata": {},
   "outputs": [
    {
     "data": {
      "text/html": [
       "<table>\n",
       "<thead><tr><th scope=col>feature</th><th scope=col>mean_</th></tr></thead>\n",
       "<tbody>\n",
       "\t<tr><td>crim        </td><td>  3.61352356</td></tr>\n",
       "\t<tr><td>zn          </td><td> 11.36363636</td></tr>\n",
       "\t<tr><td>indus       </td><td> 11.13677866</td></tr>\n",
       "\t<tr><td>chas        </td><td>  0.06916996</td></tr>\n",
       "\t<tr><td>nox         </td><td>  0.55469506</td></tr>\n",
       "\t<tr><td>rm          </td><td>  6.28463439</td></tr>\n",
       "\t<tr><td>age         </td><td> 68.57490119</td></tr>\n",
       "\t<tr><td>dis         </td><td>  3.79504269</td></tr>\n",
       "\t<tr><td>rad         </td><td>  9.54940711</td></tr>\n",
       "\t<tr><td>tax         </td><td>408.23715415</td></tr>\n",
       "\t<tr><td>ptratio     </td><td> 18.45553360</td></tr>\n",
       "\t<tr><td>black       </td><td>356.67403162</td></tr>\n",
       "\t<tr><td>lstat       </td><td> 12.65306324</td></tr>\n",
       "\t<tr><td>medv        </td><td> 22.53280632</td></tr>\n",
       "</tbody>\n",
       "</table>\n"
      ],
      "text/latex": [
       "\\begin{tabular}{r|ll}\n",
       " feature & mean\\_\\\\\n",
       "\\hline\n",
       "\t crim         &   3.61352356\\\\\n",
       "\t zn           &  11.36363636\\\\\n",
       "\t indus        &  11.13677866\\\\\n",
       "\t chas         &   0.06916996\\\\\n",
       "\t nox          &   0.55469506\\\\\n",
       "\t rm           &   6.28463439\\\\\n",
       "\t age          &  68.57490119\\\\\n",
       "\t dis          &   3.79504269\\\\\n",
       "\t rad          &   9.54940711\\\\\n",
       "\t tax          & 408.23715415\\\\\n",
       "\t ptratio      &  18.45553360\\\\\n",
       "\t black        & 356.67403162\\\\\n",
       "\t lstat        &  12.65306324\\\\\n",
       "\t medv         &  22.53280632\\\\\n",
       "\\end{tabular}\n"
      ],
      "text/markdown": [
       "\n",
       "feature | mean_ | \n",
       "|---|---|---|---|---|---|---|---|---|---|---|---|---|---|\n",
       "| crim         |   3.61352356 | \n",
       "| zn           |  11.36363636 | \n",
       "| indus        |  11.13677866 | \n",
       "| chas         |   0.06916996 | \n",
       "| nox          |   0.55469506 | \n",
       "| rm           |   6.28463439 | \n",
       "| age          |  68.57490119 | \n",
       "| dis          |   3.79504269 | \n",
       "| rad          |   9.54940711 | \n",
       "| tax          | 408.23715415 | \n",
       "| ptratio      |  18.45553360 | \n",
       "| black        | 356.67403162 | \n",
       "| lstat        |  12.65306324 | \n",
       "| medv         |  22.53280632 | \n",
       "\n",
       "\n"
      ],
      "text/plain": [
       "   feature mean_       \n",
       "1  crim      3.61352356\n",
       "2  zn       11.36363636\n",
       "3  indus    11.13677866\n",
       "4  chas      0.06916996\n",
       "5  nox       0.55469506\n",
       "6  rm        6.28463439\n",
       "7  age      68.57490119\n",
       "8  dis       3.79504269\n",
       "9  rad       9.54940711\n",
       "10 tax     408.23715415\n",
       "11 ptratio  18.45553360\n",
       "12 black   356.67403162\n",
       "13 lstat    12.65306324\n",
       "14 medv     22.53280632"
      ]
     },
     "metadata": {},
     "output_type": "display_data"
    }
   ],
   "source": [
    "sum_vals = data.frame(feature=colnames(boston_features))\n",
    "sum_vals['mean_'] = sapply(boston_features, mean)\n",
    "sum_vals"
   ]
  },
  {
   "cell_type": "markdown",
   "metadata": {},
   "source": [
    "The mean of the various samples is a lot closer the more samples we are taking."
   ]
  },
  {
   "cell_type": "code",
   "execution_count": 21,
   "metadata": {},
   "outputs": [],
   "source": [
    "library(dplyr, warn.conflicts = FALSE)\n",
    "samples = list()\n",
    "for (i in 1:10) {\n",
    "    samples[[i]] = sample_n(boston_features, 5)\n",
    "}"
   ]
  },
  {
   "cell_type": "code",
   "execution_count": 22,
   "metadata": {},
   "outputs": [],
   "source": [
    "for (i in 1:10) {\n",
    "    sum_vals[paste('mean_', i)] = sapply(samples[[i]], mean)\n",
    "}"
   ]
  },
  {
   "cell_type": "code",
   "execution_count": 23,
   "metadata": {
    "scrolled": true
   },
   "outputs": [
    {
     "data": {
      "text/html": [
       "<table>\n",
       "<thead><tr><th scope=col>feature</th><th scope=col>mean_</th><th scope=col>mean_ 1</th><th scope=col>mean_ 2</th><th scope=col>mean_ 3</th><th scope=col>mean_ 4</th><th scope=col>mean_ 5</th><th scope=col>mean_ 6</th><th scope=col>mean_ 7</th><th scope=col>mean_ 8</th><th scope=col>mean_ 9</th><th scope=col>mean_ 10</th></tr></thead>\n",
       "<tbody>\n",
       "\t<tr><td>crim        </td><td>  3.61352356</td><td>  2.01029   </td><td>  3.033898  </td><td>  0.153678  </td><td>  1.493446  </td><td>  4.045754  </td><td>  2.420252  </td><td>  0.204034  </td><td>  9.969898  </td><td>  3.164362  </td><td>  2.66841   </td></tr>\n",
       "\t<tr><td>zn          </td><td> 11.36363636</td><td> 21.00000   </td><td> 10.400000  </td><td> 18.000000  </td><td> 16.000000  </td><td>  4.200000  </td><td> 15.000000  </td><td>  6.800000  </td><td>  0.000000  </td><td> 11.000000  </td><td> 12.40000   </td></tr>\n",
       "\t<tr><td>indus       </td><td> 11.13677866</td><td>  8.01400   </td><td>  7.896000  </td><td> 12.292000  </td><td> 12.604000  </td><td> 13.666000  </td><td> 13.308000  </td><td> 10.112000  </td><td> 10.902000  </td><td> 11.248000  </td><td> 10.88600   </td></tr>\n",
       "\t<tr><td>chas        </td><td>  0.06916996</td><td>  0.20000   </td><td>  0.200000  </td><td>  0.200000  </td><td>  0.000000  </td><td>  0.400000  </td><td>  0.000000  </td><td>  0.000000  </td><td>  0.000000  </td><td>  0.000000  </td><td>  0.20000   </td></tr>\n",
       "\t<tr><td>nox         </td><td>  0.55469506</td><td>  0.49480   </td><td>  0.484400  </td><td>  0.517400  </td><td>  0.582200  </td><td>  0.592400  </td><td>  0.551200  </td><td>  0.497800  </td><td>  0.524200  </td><td>  0.628380  </td><td>  0.53460   </td></tr>\n",
       "\t<tr><td>rm          </td><td>  6.28463439</td><td>  6.47900   </td><td>  6.428400  </td><td>  6.424200  </td><td>  6.054600  </td><td>  6.348600  </td><td>  6.182400  </td><td>  6.538800  </td><td>  5.806600  </td><td>  5.837000  </td><td>  6.19000   </td></tr>\n",
       "\t<tr><td>age         </td><td> 68.57490119</td><td> 55.82000   </td><td> 56.820000  </td><td> 58.680000  </td><td> 62.340000  </td><td> 70.100000  </td><td> 79.360000  </td><td> 68.700000  </td><td> 53.680000  </td><td> 74.040000  </td><td> 50.34000   </td></tr>\n",
       "\t<tr><td>dis         </td><td>  3.79504269</td><td>  3.77856   </td><td>  5.569120  </td><td>  3.908500  </td><td>  3.933880  </td><td>  3.531680  </td><td>  3.640820  </td><td>  3.920260  </td><td>  4.447580  </td><td>  3.063720  </td><td>  4.51100   </td></tr>\n",
       "\t<tr><td>rad         </td><td>  9.54940711</td><td>  9.00000   </td><td>  9.600000  </td><td>  3.600000  </td><td>  7.800000  </td><td> 12.000000  </td><td>  8.000000  </td><td>  5.200000  </td><td> 11.400000  </td><td> 12.000000  </td><td> 12.80000   </td></tr>\n",
       "\t<tr><td>tax         </td><td>408.23715415</td><td>355.60000   </td><td>391.000000  </td><td>412.600000  </td><td>398.200000  </td><td>442.200000  </td><td>507.400000  </td><td>311.000000  </td><td>409.000000  </td><td>466.400000  </td><td>439.00000   </td></tr>\n",
       "\t<tr><td>ptratio     </td><td> 18.45553360</td><td> 19.00000   </td><td> 18.420000  </td><td> 18.280000  </td><td> 16.380000  </td><td> 17.960000  </td><td> 20.660000  </td><td> 17.700000  </td><td> 18.940000  </td><td> 17.620000  </td><td> 19.26000   </td></tr>\n",
       "\t<tr><td>black       </td><td>356.67403162</td><td>389.44800   </td><td>384.782000  </td><td>389.368000  </td><td>321.922000  </td><td>391.608000  </td><td>292.896000  </td><td>393.540000  </td><td>333.030000  </td><td>324.394000  </td><td>311.35600   </td></tr>\n",
       "\t<tr><td>lstat       </td><td> 12.65306324</td><td>  7.70200   </td><td> 10.520000  </td><td> 11.950000  </td><td> 13.380000  </td><td> 11.722000  </td><td> 17.902000  </td><td> 10.894000  </td><td> 16.164000  </td><td> 14.420000  </td><td> 10.16800   </td></tr>\n",
       "\t<tr><td>medv        </td><td> 22.53280632</td><td> 32.12000   </td><td> 22.020000  </td><td> 25.040000  </td><td> 21.580000  </td><td> 24.680000  </td><td> 14.940000  </td><td> 24.340000  </td><td> 19.240000  </td><td> 18.480000  </td><td> 22.54000   </td></tr>\n",
       "</tbody>\n",
       "</table>\n"
      ],
      "text/latex": [
       "\\begin{tabular}{r|llllllllllll}\n",
       " feature & mean\\_ & mean\\_ 1 & mean\\_ 2 & mean\\_ 3 & mean\\_ 4 & mean\\_ 5 & mean\\_ 6 & mean\\_ 7 & mean\\_ 8 & mean\\_ 9 & mean\\_ 10\\\\\n",
       "\\hline\n",
       "\t crim         &   3.61352356 &   2.01029    &   3.033898   &   0.153678   &   1.493446   &   4.045754   &   2.420252   &   0.204034   &   9.969898   &   3.164362   &   2.66841   \\\\\n",
       "\t zn           &  11.36363636 &  21.00000    &  10.400000   &  18.000000   &  16.000000   &   4.200000   &  15.000000   &   6.800000   &   0.000000   &  11.000000   &  12.40000   \\\\\n",
       "\t indus        &  11.13677866 &   8.01400    &   7.896000   &  12.292000   &  12.604000   &  13.666000   &  13.308000   &  10.112000   &  10.902000   &  11.248000   &  10.88600   \\\\\n",
       "\t chas         &   0.06916996 &   0.20000    &   0.200000   &   0.200000   &   0.000000   &   0.400000   &   0.000000   &   0.000000   &   0.000000   &   0.000000   &   0.20000   \\\\\n",
       "\t nox          &   0.55469506 &   0.49480    &   0.484400   &   0.517400   &   0.582200   &   0.592400   &   0.551200   &   0.497800   &   0.524200   &   0.628380   &   0.53460   \\\\\n",
       "\t rm           &   6.28463439 &   6.47900    &   6.428400   &   6.424200   &   6.054600   &   6.348600   &   6.182400   &   6.538800   &   5.806600   &   5.837000   &   6.19000   \\\\\n",
       "\t age          &  68.57490119 &  55.82000    &  56.820000   &  58.680000   &  62.340000   &  70.100000   &  79.360000   &  68.700000   &  53.680000   &  74.040000   &  50.34000   \\\\\n",
       "\t dis          &   3.79504269 &   3.77856    &   5.569120   &   3.908500   &   3.933880   &   3.531680   &   3.640820   &   3.920260   &   4.447580   &   3.063720   &   4.51100   \\\\\n",
       "\t rad          &   9.54940711 &   9.00000    &   9.600000   &   3.600000   &   7.800000   &  12.000000   &   8.000000   &   5.200000   &  11.400000   &  12.000000   &  12.80000   \\\\\n",
       "\t tax          & 408.23715415 & 355.60000    & 391.000000   & 412.600000   & 398.200000   & 442.200000   & 507.400000   & 311.000000   & 409.000000   & 466.400000   & 439.00000   \\\\\n",
       "\t ptratio      &  18.45553360 &  19.00000    &  18.420000   &  18.280000   &  16.380000   &  17.960000   &  20.660000   &  17.700000   &  18.940000   &  17.620000   &  19.26000   \\\\\n",
       "\t black        & 356.67403162 & 389.44800    & 384.782000   & 389.368000   & 321.922000   & 391.608000   & 292.896000   & 393.540000   & 333.030000   & 324.394000   & 311.35600   \\\\\n",
       "\t lstat        &  12.65306324 &   7.70200    &  10.520000   &  11.950000   &  13.380000   &  11.722000   &  17.902000   &  10.894000   &  16.164000   &  14.420000   &  10.16800   \\\\\n",
       "\t medv         &  22.53280632 &  32.12000    &  22.020000   &  25.040000   &  21.580000   &  24.680000   &  14.940000   &  24.340000   &  19.240000   &  18.480000   &  22.54000   \\\\\n",
       "\\end{tabular}\n"
      ],
      "text/markdown": [
       "\n",
       "feature | mean_ | mean_ 1 | mean_ 2 | mean_ 3 | mean_ 4 | mean_ 5 | mean_ 6 | mean_ 7 | mean_ 8 | mean_ 9 | mean_ 10 | \n",
       "|---|---|---|---|---|---|---|---|---|---|---|---|---|---|\n",
       "| crim         |   3.61352356 |   2.01029    |   3.033898   |   0.153678   |   1.493446   |   4.045754   |   2.420252   |   0.204034   |   9.969898   |   3.164362   |   2.66841    | \n",
       "| zn           |  11.36363636 |  21.00000    |  10.400000   |  18.000000   |  16.000000   |   4.200000   |  15.000000   |   6.800000   |   0.000000   |  11.000000   |  12.40000    | \n",
       "| indus        |  11.13677866 |   8.01400    |   7.896000   |  12.292000   |  12.604000   |  13.666000   |  13.308000   |  10.112000   |  10.902000   |  11.248000   |  10.88600    | \n",
       "| chas         |   0.06916996 |   0.20000    |   0.200000   |   0.200000   |   0.000000   |   0.400000   |   0.000000   |   0.000000   |   0.000000   |   0.000000   |   0.20000    | \n",
       "| nox          |   0.55469506 |   0.49480    |   0.484400   |   0.517400   |   0.582200   |   0.592400   |   0.551200   |   0.497800   |   0.524200   |   0.628380   |   0.53460    | \n",
       "| rm           |   6.28463439 |   6.47900    |   6.428400   |   6.424200   |   6.054600   |   6.348600   |   6.182400   |   6.538800   |   5.806600   |   5.837000   |   6.19000    | \n",
       "| age          |  68.57490119 |  55.82000    |  56.820000   |  58.680000   |  62.340000   |  70.100000   |  79.360000   |  68.700000   |  53.680000   |  74.040000   |  50.34000    | \n",
       "| dis          |   3.79504269 |   3.77856    |   5.569120   |   3.908500   |   3.933880   |   3.531680   |   3.640820   |   3.920260   |   4.447580   |   3.063720   |   4.51100    | \n",
       "| rad          |   9.54940711 |   9.00000    |   9.600000   |   3.600000   |   7.800000   |  12.000000   |   8.000000   |   5.200000   |  11.400000   |  12.000000   |  12.80000    | \n",
       "| tax          | 408.23715415 | 355.60000    | 391.000000   | 412.600000   | 398.200000   | 442.200000   | 507.400000   | 311.000000   | 409.000000   | 466.400000   | 439.00000    | \n",
       "| ptratio      |  18.45553360 |  19.00000    |  18.420000   |  18.280000   |  16.380000   |  17.960000   |  20.660000   |  17.700000   |  18.940000   |  17.620000   |  19.26000    | \n",
       "| black        | 356.67403162 | 389.44800    | 384.782000   | 389.368000   | 321.922000   | 391.608000   | 292.896000   | 393.540000   | 333.030000   | 324.394000   | 311.35600    | \n",
       "| lstat        |  12.65306324 |   7.70200    |  10.520000   |  11.950000   |  13.380000   |  11.722000   |  17.902000   |  10.894000   |  16.164000   |  14.420000   |  10.16800    | \n",
       "| medv         |  22.53280632 |  32.12000    |  22.020000   |  25.040000   |  21.580000   |  24.680000   |  14.940000   |  24.340000   |  19.240000   |  18.480000   |  22.54000    | \n",
       "\n",
       "\n"
      ],
      "text/plain": [
       "   feature mean_        mean_ 1   mean_ 2    mean_ 3    mean_ 4    mean_ 5   \n",
       "1  crim      3.61352356   2.01029   3.033898   0.153678   1.493446   4.045754\n",
       "2  zn       11.36363636  21.00000  10.400000  18.000000  16.000000   4.200000\n",
       "3  indus    11.13677866   8.01400   7.896000  12.292000  12.604000  13.666000\n",
       "4  chas      0.06916996   0.20000   0.200000   0.200000   0.000000   0.400000\n",
       "5  nox       0.55469506   0.49480   0.484400   0.517400   0.582200   0.592400\n",
       "6  rm        6.28463439   6.47900   6.428400   6.424200   6.054600   6.348600\n",
       "7  age      68.57490119  55.82000  56.820000  58.680000  62.340000  70.100000\n",
       "8  dis       3.79504269   3.77856   5.569120   3.908500   3.933880   3.531680\n",
       "9  rad       9.54940711   9.00000   9.600000   3.600000   7.800000  12.000000\n",
       "10 tax     408.23715415 355.60000 391.000000 412.600000 398.200000 442.200000\n",
       "11 ptratio  18.45553360  19.00000  18.420000  18.280000  16.380000  17.960000\n",
       "12 black   356.67403162 389.44800 384.782000 389.368000 321.922000 391.608000\n",
       "13 lstat    12.65306324   7.70200  10.520000  11.950000  13.380000  11.722000\n",
       "14 medv     22.53280632  32.12000  22.020000  25.040000  21.580000  24.680000\n",
       "   mean_ 6    mean_ 7    mean_ 8    mean_ 9    mean_ 10 \n",
       "1    2.420252   0.204034   9.969898   3.164362   2.66841\n",
       "2   15.000000   6.800000   0.000000  11.000000  12.40000\n",
       "3   13.308000  10.112000  10.902000  11.248000  10.88600\n",
       "4    0.000000   0.000000   0.000000   0.000000   0.20000\n",
       "5    0.551200   0.497800   0.524200   0.628380   0.53460\n",
       "6    6.182400   6.538800   5.806600   5.837000   6.19000\n",
       "7   79.360000  68.700000  53.680000  74.040000  50.34000\n",
       "8    3.640820   3.920260   4.447580   3.063720   4.51100\n",
       "9    8.000000   5.200000  11.400000  12.000000  12.80000\n",
       "10 507.400000 311.000000 409.000000 466.400000 439.00000\n",
       "11  20.660000  17.700000  18.940000  17.620000  19.26000\n",
       "12 292.896000 393.540000 333.030000 324.394000 311.35600\n",
       "13  17.902000  10.894000  16.164000  14.420000  10.16800\n",
       "14  14.940000  24.340000  19.240000  18.480000  22.54000"
      ]
     },
     "metadata": {},
     "output_type": "display_data"
    }
   ],
   "source": [
    "sum_vals"
   ]
  },
  {
   "cell_type": "code",
   "execution_count": 24,
   "metadata": {},
   "outputs": [
    {
     "name": "stderr",
     "output_type": "stream",
     "text": [
      "No id variables; using all as measure variables\n"
     ]
    },
    {
     "data": {},
     "metadata": {},
     "output_type": "display_data"
    },
    {
     "data": {
      "image/png": "[encoded data removed]",
      "text/plain": [
       "plot without title"
      ]
     },
     "metadata": {},
     "output_type": "display_data"
    }
   ],
   "source": [
    "library(reshape2)\n",
    "library(ggplot2)\n",
    "\n",
    "ggplot(melt(boston_df), aes(x = feature, y = value, fill = variable)) + \n",
    "    geom_bar(stat = \"identity\", width=0.5, position = \"dodge\")"
   ]
  },
  {
   "cell_type": "code",
   "execution_count": 25,
   "metadata": {},
   "outputs": [
    {
     "data": {
      "image/png": "[encoded data removed]",
      "text/plain": [
       "plot without title"
      ]
     },
     "metadata": {},
     "output_type": "display_data"
    }
   ],
   "source": [
    "pairs(sample_n(boston_df, 60))"
   ]
  },
  {
   "cell_type": "markdown",
   "metadata": {},
   "source": [
    "Strong negative correlation can be observed between the nitrogen oxide concentration and the weighted mean of distances to five Boston employment centres.\n",
    "A stong positive correlation exists for average number of rooms and the median value of the homeas well as the lower status of the population and the median value of the home."
   ]
  }
 ],
 "metadata": {
  "kernelspec": {
   "display_name": "R",
   "language": "R",
   "name": "ir"
  },
  "language_info": {
   "codemirror_mode": "r",
   "file_extension": ".r",
   "mimetype": "text/x-r-source",
   "name": "R",
   "pygments_lexer": "r",
   "version": "3.3.2"
  }
 },
 "nbformat": 4,
 "nbformat_minor": 2
}
