{
 "cells": [
  {
   "cell_type": "code",
   "execution_count": 1,
   "metadata": {},
   "outputs": [],
   "source": [
    "boston_df = read.csv('/home/jovyan/Project3/data/bostonhousing.csv', header=FALSE, sep='')\n",
    "\n",
    "colnames(boston_df) = c('crim', 'zn', 'indus', 'chas', 'nox', 'rm', 'age', 'dis', 'rad', 'tax', 'ptratio', 'black','lstat', 'medv')"
   ]
  },
  {
   "cell_type": "code",
   "execution_count": 2,
   "metadata": {},
   "outputs": [
    {
     "data": {
      "text/html": [
       "<ol class=list-inline>\n",
       "\t<li>506</li>\n",
       "\t<li>14</li>\n",
       "</ol>\n"
      ],
      "text/latex": [
       "\\begin{enumerate*}\n",
       "\\item 506\n",
       "\\item 14\n",
       "\\end{enumerate*}\n"
      ],
      "text/markdown": [
       "1. 506\n",
       "2. 14\n",
       "\n",
       "\n"
      ],
      "text/plain": [
       "[1] 506  14"
      ]
     },
     "metadata": {},
     "output_type": "display_data"
    }
   ],
   "source": [
    "dim(boston_df)"
   ]
  },
  {
   "cell_type": "code",
   "execution_count": 3,
   "metadata": {},
   "outputs": [
    {
     "name": "stdout",
     "output_type": "stream",
     "text": [
      "'data.frame':\t506 obs. of  14 variables:\n",
      " $ crim   : num  0.00632 0.02731 0.02729 0.03237 0.06905 ...\n",
      " $ zn     : num  18 0 0 0 0 0 12.5 12.5 12.5 12.5 ...\n",
      " $ indus  : num  2.31 7.07 7.07 2.18 2.18 2.18 7.87 7.87 7.87 7.87 ...\n",
      " $ chas   : int  0 0 0 0 0 0 0 0 0 0 ...\n",
      " $ nox    : num  0.538 0.469 0.469 0.458 0.458 0.458 0.524 0.524 0.524 0.524 ...\n",
      " $ rm     : num  6.58 6.42 7.18 7 7.15 ...\n",
      " $ age    : num  65.2 78.9 61.1 45.8 54.2 58.7 66.6 96.1 100 85.9 ...\n",
      " $ dis    : num  4.09 4.97 4.97 6.06 6.06 ...\n",
      " $ rad    : int  1 2 2 3 3 3 5 5 5 5 ...\n",
      " $ tax    : num  296 242 242 222 222 222 311 311 311 311 ...\n",
      " $ ptratio: num  15.3 17.8 17.8 18.7 18.7 18.7 15.2 15.2 15.2 15.2 ...\n",
      " $ black  : num  397 397 393 395 397 ...\n",
      " $ lstat  : num  4.98 9.14 4.03 2.94 5.33 ...\n",
      " $ medv   : num  24 21.6 34.7 33.4 36.2 28.7 22.9 27.1 16.5 18.9 ...\n"
     ]
    }
   ],
   "source": [
    "str(boston_df)"
   ]
  },
  {
   "cell_type": "code",
   "execution_count": 4,
   "metadata": {
    "scrolled": true
   },
   "outputs": [
    {
     "data": {
      "image/png": "[encoded data removed]",
      "text/plain": [
       "Plot with title “Histogram of boston_df$medv”"
      ]
     },
     "metadata": {},
     "output_type": "display_data"
    }
   ],
   "source": [
    "hist(boston_df$medv, freq = FALSE)\n",
    "lines(density(boston_df$medv))"
   ]
  },
  {
   "cell_type": "markdown",
   "metadata": {},
   "source": [
    "In the histogram we can see the data is not normal and has a postitive skew."
   ]
  },
  {
   "cell_type": "markdown",
   "metadata": {},
   "source": [
    "# Basic Stats"
   ]
  },
  {
   "cell_type": "code",
   "execution_count": 5,
   "metadata": {},
   "outputs": [
    {
     "name": "stderr",
     "output_type": "stream",
     "text": [
      "Updating HTML index of packages in '.Library'\n",
      "Making 'packages.html' ... done\n"
     ]
    }
   ],
   "source": [
    "install.packages('moments')"
   ]
  },
  {
   "cell_type": "code",
   "execution_count": 6,
   "metadata": {},
   "outputs": [],
   "source": [
    "library(moments)"
   ]
  },
  {
   "cell_type": "code",
   "execution_count": 7,
   "metadata": {
    "scrolled": true
   },
   "outputs": [
    {
     "data": {
      "text/html": [
       "<dl class=dl-horizontal>\n",
       "\t<dt>crim</dt>\n",
       "\t\t<dd>5.20765238785972</dd>\n",
       "\t<dt>zn</dt>\n",
       "\t\t<dd>2.21906305714843</dd>\n",
       "\t<dt>indus</dt>\n",
       "\t\t<dd>0.294146276844185</dd>\n",
       "\t<dt>chas</dt>\n",
       "\t\t<dd>3.39579929264252</dd>\n",
       "\t<dt>nox</dt>\n",
       "\t\t<dd>0.727144159774032</dd>\n",
       "\t<dt>rm</dt>\n",
       "\t\t<dd>0.402414668024963</dd>\n",
       "\t<dt>age</dt>\n",
       "\t\t<dd>-0.597185594801614</dd>\n",
       "\t<dt>dis</dt>\n",
       "\t\t<dd>1.00877875651523</dd>\n",
       "\t<dt>rad</dt>\n",
       "\t\t<dd>1.0018334924537</dd>\n",
       "\t<dt>tax</dt>\n",
       "\t\t<dd>0.667968268723777</dd>\n",
       "\t<dt>ptratio</dt>\n",
       "\t\t<dd>-0.799944532036745</dd>\n",
       "\t<dt>black</dt>\n",
       "\t\t<dd>-2.88179834526277</dd>\n",
       "\t<dt>lstat</dt>\n",
       "\t\t<dd>0.903770743134614</dd>\n",
       "\t<dt>medv</dt>\n",
       "\t\t<dd>1.10481082286464</dd>\n",
       "</dl>\n"
      ],
      "text/latex": [
       "\\begin{description*}\n",
       "\\item[crim] 5.20765238785972\n",
       "\\item[zn] 2.21906305714843\n",
       "\\item[indus] 0.294146276844185\n",
       "\\item[chas] 3.39579929264252\n",
       "\\item[nox] 0.727144159774032\n",
       "\\item[rm] 0.402414668024963\n",
       "\\item[age] -0.597185594801614\n",
       "\\item[dis] 1.00877875651523\n",
       "\\item[rad] 1.0018334924537\n",
       "\\item[tax] 0.667968268723777\n",
       "\\item[ptratio] -0.799944532036745\n",
       "\\item[black] -2.88179834526277\n",
       "\\item[lstat] 0.903770743134614\n",
       "\\item[medv] 1.10481082286464\n",
       "\\end{description*}\n"
      ],
      "text/markdown": [
       "crim\n",
       ":   5.20765238785972zn\n",
       ":   2.21906305714843indus\n",
       ":   0.294146276844185chas\n",
       ":   3.39579929264252nox\n",
       ":   0.727144159774032rm\n",
       ":   0.402414668024963age\n",
       ":   -0.597185594801614dis\n",
       ":   1.00877875651523rad\n",
       ":   1.0018334924537tax\n",
       ":   0.667968268723777ptratio\n",
       ":   -0.799944532036745black\n",
       ":   -2.88179834526277lstat\n",
       ":   0.903770743134614medv\n",
       ":   1.10481082286464\n",
       "\n"
      ],
      "text/plain": [
       "      crim         zn      indus       chas        nox         rm        age \n",
       " 5.2076524  2.2190631  0.2941463  3.3957993  0.7271442  0.4024147 -0.5971856 \n",
       "       dis        rad        tax    ptratio      black      lstat       medv \n",
       " 1.0087788  1.0018335  0.6679683 -0.7999445 -2.8817983  0.9037707  1.1048108 "
      ]
     },
     "metadata": {},
     "output_type": "display_data"
    }
   ],
   "source": [
    "skewness(boston_df)"
   ]
  },
  {
   "cell_type": "code",
   "execution_count": 8,
   "metadata": {
    "scrolled": true
   },
   "outputs": [
    {
     "data": {
      "text/html": [
       "<table>\n",
       "<thead><tr><th scope=col>feature</th><th scope=col>mean_</th><th scope=col>sd_</th><th scope=col>skewness_</th></tr></thead>\n",
       "<tbody>\n",
       "\t<tr><td>crim        </td><td>  3.61352356</td><td>  8.6015451 </td><td> 5.2076524  </td></tr>\n",
       "\t<tr><td>zn          </td><td> 11.36363636</td><td> 23.3224530 </td><td> 2.2190631  </td></tr>\n",
       "\t<tr><td>indus       </td><td> 11.13677866</td><td>  6.8603529 </td><td> 0.2941463  </td></tr>\n",
       "\t<tr><td>chas        </td><td>  0.06916996</td><td>  0.2539940 </td><td> 3.3957993  </td></tr>\n",
       "\t<tr><td>nox         </td><td>  0.55469506</td><td>  0.1158777 </td><td> 0.7271442  </td></tr>\n",
       "\t<tr><td>rm          </td><td>  6.28463439</td><td>  0.7026171 </td><td> 0.4024147  </td></tr>\n",
       "\t<tr><td>age         </td><td> 68.57490119</td><td> 28.1488614 </td><td>-0.5971856  </td></tr>\n",
       "\t<tr><td>dis         </td><td>  3.79504269</td><td>  2.1057101 </td><td> 1.0087788  </td></tr>\n",
       "\t<tr><td>rad         </td><td>  9.54940711</td><td>  8.7072594 </td><td> 1.0018335  </td></tr>\n",
       "\t<tr><td>tax         </td><td>408.23715415</td><td>168.5371161 </td><td> 0.6679683  </td></tr>\n",
       "\t<tr><td>ptratio     </td><td> 18.45553360</td><td>  2.1649455 </td><td>-0.7999445  </td></tr>\n",
       "\t<tr><td>black       </td><td>356.67403162</td><td> 91.2948644 </td><td>-2.8817983  </td></tr>\n",
       "\t<tr><td>lstat       </td><td> 12.65306324</td><td>  7.1410615 </td><td> 0.9037707  </td></tr>\n",
       "\t<tr><td>medv        </td><td> 22.53280632</td><td>  9.1971041 </td><td> 1.1048108  </td></tr>\n",
       "</tbody>\n",
       "</table>\n"
      ],
      "text/latex": [
       "\\begin{tabular}{r|llll}\n",
       " feature & mean\\_ & sd\\_ & skewness\\_\\\\\n",
       "\\hline\n",
       "\t crim         &   3.61352356 &   8.6015451  &  5.2076524  \\\\\n",
       "\t zn           &  11.36363636 &  23.3224530  &  2.2190631  \\\\\n",
       "\t indus        &  11.13677866 &   6.8603529  &  0.2941463  \\\\\n",
       "\t chas         &   0.06916996 &   0.2539940  &  3.3957993  \\\\\n",
       "\t nox          &   0.55469506 &   0.1158777  &  0.7271442  \\\\\n",
       "\t rm           &   6.28463439 &   0.7026171  &  0.4024147  \\\\\n",
       "\t age          &  68.57490119 &  28.1488614  & -0.5971856  \\\\\n",
       "\t dis          &   3.79504269 &   2.1057101  &  1.0087788  \\\\\n",
       "\t rad          &   9.54940711 &   8.7072594  &  1.0018335  \\\\\n",
       "\t tax          & 408.23715415 & 168.5371161  &  0.6679683  \\\\\n",
       "\t ptratio      &  18.45553360 &   2.1649455  & -0.7999445  \\\\\n",
       "\t black        & 356.67403162 &  91.2948644  & -2.8817983  \\\\\n",
       "\t lstat        &  12.65306324 &   7.1410615  &  0.9037707  \\\\\n",
       "\t medv         &  22.53280632 &   9.1971041  &  1.1048108  \\\\\n",
       "\\end{tabular}\n"
      ],
      "text/markdown": [
       "\n",
       "feature | mean_ | sd_ | skewness_ | \n",
       "|---|---|---|---|---|---|---|---|---|---|---|---|---|---|\n",
       "| crim         |   3.61352356 |   8.6015451  |  5.2076524   | \n",
       "| zn           |  11.36363636 |  23.3224530  |  2.2190631   | \n",
       "| indus        |  11.13677866 |   6.8603529  |  0.2941463   | \n",
       "| chas         |   0.06916996 |   0.2539940  |  3.3957993   | \n",
       "| nox          |   0.55469506 |   0.1158777  |  0.7271442   | \n",
       "| rm           |   6.28463439 |   0.7026171  |  0.4024147   | \n",
       "| age          |  68.57490119 |  28.1488614  | -0.5971856   | \n",
       "| dis          |   3.79504269 |   2.1057101  |  1.0087788   | \n",
       "| rad          |   9.54940711 |   8.7072594  |  1.0018335   | \n",
       "| tax          | 408.23715415 | 168.5371161  |  0.6679683   | \n",
       "| ptratio      |  18.45553360 |   2.1649455  | -0.7999445   | \n",
       "| black        | 356.67403162 |  91.2948644  | -2.8817983   | \n",
       "| lstat        |  12.65306324 |   7.1410615  |  0.9037707   | \n",
       "| medv         |  22.53280632 |   9.1971041  |  1.1048108   | \n",
       "\n",
       "\n"
      ],
      "text/plain": [
       "   feature mean_        sd_         skewness_ \n",
       "1  crim      3.61352356   8.6015451  5.2076524\n",
       "2  zn       11.36363636  23.3224530  2.2190631\n",
       "3  indus    11.13677866   6.8603529  0.2941463\n",
       "4  chas      0.06916996   0.2539940  3.3957993\n",
       "5  nox       0.55469506   0.1158777  0.7271442\n",
       "6  rm        6.28463439   0.7026171  0.4024147\n",
       "7  age      68.57490119  28.1488614 -0.5971856\n",
       "8  dis       3.79504269   2.1057101  1.0087788\n",
       "9  rad       9.54940711   8.7072594  1.0018335\n",
       "10 tax     408.23715415 168.5371161  0.6679683\n",
       "11 ptratio  18.45553360   2.1649455 -0.7999445\n",
       "12 black   356.67403162  91.2948644 -2.8817983\n",
       "13 lstat    12.65306324   7.1410615  0.9037707\n",
       "14 medv     22.53280632   9.1971041  1.1048108"
      ]
     },
     "metadata": {},
     "output_type": "display_data"
    }
   ],
   "source": [
    "stats = data.frame(feature=colnames(boston_df))\n",
    "stats['mean_'] = sapply(boston_df, mean)\n",
    "stats['sd_'] = sapply(boston_df, sd)\n",
    "stats['skewness_'] = sapply(boston_df, skewness)\n",
    "stats"
   ]
  },
  {
   "cell_type": "markdown",
   "metadata": {},
   "source": [
    "# Sampling the Dataset"
   ]
  },
  {
   "cell_type": "code",
   "execution_count": 9,
   "metadata": {},
   "outputs": [],
   "source": [
    "library(dplyr, warn.conflicts = FALSE)"
   ]
  },
  {
   "cell_type": "code",
   "execution_count": 10,
   "metadata": {},
   "outputs": [],
   "source": [
    "sample_1 = sample_n(boston_df, 5)"
   ]
  },
  {
   "cell_type": "code",
   "execution_count": 11,
   "metadata": {
    "scrolled": true
   },
   "outputs": [
    {
     "data": {
      "text/html": [
       "<dl class=dl-horizontal>\n",
       "\t<dt>crim</dt>\n",
       "\t\t<dd>2.277818</dd>\n",
       "\t<dt>zn</dt>\n",
       "\t\t<dd>6.8</dd>\n",
       "\t<dt>indus</dt>\n",
       "\t\t<dd>11.73</dd>\n",
       "\t<dt>chas</dt>\n",
       "\t\t<dd>0</dd>\n",
       "\t<dt>nox</dt>\n",
       "\t\t<dd>0.561</dd>\n",
       "\t<dt>rm</dt>\n",
       "\t\t<dd>6.4542</dd>\n",
       "\t<dt>age</dt>\n",
       "\t\t<dd>58.62</dd>\n",
       "\t<dt>dis</dt>\n",
       "\t\t<dd>4.23328</dd>\n",
       "\t<dt>rad</dt>\n",
       "\t\t<dd>9</dd>\n",
       "\t<dt>tax</dt>\n",
       "\t\t<dd>388.6</dd>\n",
       "\t<dt>ptratio</dt>\n",
       "\t\t<dd>19.46</dd>\n",
       "\t<dt>black</dt>\n",
       "\t\t<dd>323.4</dd>\n",
       "\t<dt>lstat</dt>\n",
       "\t\t<dd>12.54</dd>\n",
       "\t<dt>medv</dt>\n",
       "\t\t<dd>21.46</dd>\n",
       "</dl>\n"
      ],
      "text/latex": [
       "\\begin{description*}\n",
       "\\item[crim] 2.277818\n",
       "\\item[zn] 6.8\n",
       "\\item[indus] 11.73\n",
       "\\item[chas] 0\n",
       "\\item[nox] 0.561\n",
       "\\item[rm] 6.4542\n",
       "\\item[age] 58.62\n",
       "\\item[dis] 4.23328\n",
       "\\item[rad] 9\n",
       "\\item[tax] 388.6\n",
       "\\item[ptratio] 19.46\n",
       "\\item[black] 323.4\n",
       "\\item[lstat] 12.54\n",
       "\\item[medv] 21.46\n",
       "\\end{description*}\n"
      ],
      "text/markdown": [
       "crim\n",
       ":   2.277818zn\n",
       ":   6.8indus\n",
       ":   11.73chas\n",
       ":   0nox\n",
       ":   0.561rm\n",
       ":   6.4542age\n",
       ":   58.62dis\n",
       ":   4.23328rad\n",
       ":   9tax\n",
       ":   388.6ptratio\n",
       ":   19.46black\n",
       ":   323.4lstat\n",
       ":   12.54medv\n",
       ":   21.46\n",
       "\n"
      ],
      "text/plain": [
       "      crim         zn      indus       chas        nox         rm        age \n",
       "  2.277818   6.800000  11.730000   0.000000   0.561000   6.454200  58.620000 \n",
       "       dis        rad        tax    ptratio      black      lstat       medv \n",
       "  4.233280   9.000000 388.600000  19.460000 323.400000  12.540000  21.460000 "
      ]
     },
     "metadata": {},
     "output_type": "display_data"
    },
    {
     "data": {
      "text/html": [
       "<dl class=dl-horizontal>\n",
       "\t<dt>crim</dt>\n",
       "\t\t<dd>-1.33570555731225</dd>\n",
       "\t<dt>zn</dt>\n",
       "\t\t<dd>-4.56363636363636</dd>\n",
       "\t<dt>indus</dt>\n",
       "\t\t<dd>0.593221343873518</dd>\n",
       "\t<dt>chas</dt>\n",
       "\t\t<dd>-0.0691699604743083</dd>\n",
       "\t<dt>nox</dt>\n",
       "\t\t<dd>0.00630494071146237</dd>\n",
       "\t<dt>rm</dt>\n",
       "\t\t<dd>0.169565612648221</dd>\n",
       "\t<dt>age</dt>\n",
       "\t\t<dd>-9.95490118577076</dd>\n",
       "\t<dt>dis</dt>\n",
       "\t\t<dd>0.438237312252964</dd>\n",
       "\t<dt>rad</dt>\n",
       "\t\t<dd>-0.549407114624506</dd>\n",
       "\t<dt>tax</dt>\n",
       "\t\t<dd>-19.6371541501976</dd>\n",
       "\t<dt>ptratio</dt>\n",
       "\t\t<dd>1.00446640316206</dd>\n",
       "\t<dt>black</dt>\n",
       "\t\t<dd>-33.2740316205534</dd>\n",
       "\t<dt>lstat</dt>\n",
       "\t\t<dd>-0.113063241106721</dd>\n",
       "\t<dt>medv</dt>\n",
       "\t\t<dd>-1.07280632411067</dd>\n",
       "</dl>\n"
      ],
      "text/latex": [
       "\\begin{description*}\n",
       "\\item[crim] -1.33570555731225\n",
       "\\item[zn] -4.56363636363636\n",
       "\\item[indus] 0.593221343873518\n",
       "\\item[chas] -0.0691699604743083\n",
       "\\item[nox] 0.00630494071146237\n",
       "\\item[rm] 0.169565612648221\n",
       "\\item[age] -9.95490118577076\n",
       "\\item[dis] 0.438237312252964\n",
       "\\item[rad] -0.549407114624506\n",
       "\\item[tax] -19.6371541501976\n",
       "\\item[ptratio] 1.00446640316206\n",
       "\\item[black] -33.2740316205534\n",
       "\\item[lstat] -0.113063241106721\n",
       "\\item[medv] -1.07280632411067\n",
       "\\end{description*}\n"
      ],
      "text/markdown": [
       "crim\n",
       ":   -1.33570555731225zn\n",
       ":   -4.56363636363636indus\n",
       ":   0.593221343873518chas\n",
       ":   -0.0691699604743083nox\n",
       ":   0.00630494071146237rm\n",
       ":   0.169565612648221age\n",
       ":   -9.95490118577076dis\n",
       ":   0.438237312252964rad\n",
       ":   -0.549407114624506tax\n",
       ":   -19.6371541501976ptratio\n",
       ":   1.00446640316206black\n",
       ":   -33.2740316205534lstat\n",
       ":   -0.113063241106721medv\n",
       ":   -1.07280632411067\n",
       "\n"
      ],
      "text/plain": [
       "         crim            zn         indus          chas           nox \n",
       " -1.335705557  -4.563636364   0.593221344  -0.069169960   0.006304941 \n",
       "           rm           age           dis           rad           tax \n",
       "  0.169565613  -9.954901186   0.438237312  -0.549407115 -19.637154150 \n",
       "      ptratio         black         lstat          medv \n",
       "  1.004466403 -33.274031621  -0.113063241  -1.072806324 "
      ]
     },
     "metadata": {},
     "output_type": "display_data"
    },
    {
     "data": {
      "text/html": [
       "<dl class=dl-horizontal>\n",
       "\t<dt>crim</dt>\n",
       "\t\t<dd>-0.155286700349242</dd>\n",
       "\t<dt>zn</dt>\n",
       "\t\t<dd>-0.195675659190293</dd>\n",
       "\t<dt>indus</dt>\n",
       "\t\t<dd>0.0864709657045579</dd>\n",
       "\t<dt>chas</dt>\n",
       "\t\t<dd>-0.272329067679209</dd>\n",
       "\t<dt>nox</dt>\n",
       "\t\t<dd>0.0544103139378697</dd>\n",
       "\t<dt>rm</dt>\n",
       "\t\t<dd>0.241334294554765</dd>\n",
       "\t<dt>age</dt>\n",
       "\t\t<dd>-0.353652001829434</dd>\n",
       "\t<dt>dis</dt>\n",
       "\t\t<dd>0.208118537642606</dd>\n",
       "\t<dt>rad</dt>\n",
       "\t\t<dd>-0.0630975936721219</dd>\n",
       "\t<dt>tax</dt>\n",
       "\t\t<dd>-0.116515308970838</dd>\n",
       "\t<dt>ptratio</dt>\n",
       "\t\t<dd>0.463968442697196</dd>\n",
       "\t<dt>black</dt>\n",
       "\t\t<dd>-0.364467726032652</dd>\n",
       "\t<dt>lstat</dt>\n",
       "\t\t<dd>-0.0158328339459114</dd>\n",
       "\t<dt>medv</dt>\n",
       "\t\t<dd>-0.116646100111313</dd>\n",
       "</dl>\n"
      ],
      "text/latex": [
       "\\begin{description*}\n",
       "\\item[crim] -0.155286700349242\n",
       "\\item[zn] -0.195675659190293\n",
       "\\item[indus] 0.0864709657045579\n",
       "\\item[chas] -0.272329067679209\n",
       "\\item[nox] 0.0544103139378697\n",
       "\\item[rm] 0.241334294554765\n",
       "\\item[age] -0.353652001829434\n",
       "\\item[dis] 0.208118537642606\n",
       "\\item[rad] -0.0630975936721219\n",
       "\\item[tax] -0.116515308970838\n",
       "\\item[ptratio] 0.463968442697196\n",
       "\\item[black] -0.364467726032652\n",
       "\\item[lstat] -0.0158328339459114\n",
       "\\item[medv] -0.116646100111313\n",
       "\\end{description*}\n"
      ],
      "text/markdown": [
       "crim\n",
       ":   -0.155286700349242zn\n",
       ":   -0.195675659190293indus\n",
       ":   0.0864709657045579chas\n",
       ":   -0.272329067679209nox\n",
       ":   0.0544103139378697rm\n",
       ":   0.241334294554765age\n",
       ":   -0.353652001829434dis\n",
       ":   0.208118537642606rad\n",
       ":   -0.0630975936721219tax\n",
       ":   -0.116515308970838ptratio\n",
       ":   0.463968442697196black\n",
       ":   -0.364467726032652lstat\n",
       ":   -0.0158328339459114medv\n",
       ":   -0.116646100111313\n",
       "\n"
      ],
      "text/plain": [
       "       crim          zn       indus        chas         nox          rm \n",
       "-0.15528670 -0.19567566  0.08647097 -0.27232907  0.05441031  0.24133429 \n",
       "        age         dis         rad         tax     ptratio       black \n",
       "-0.35365200  0.20811854 -0.06309759 -0.11651531  0.46396844 -0.36446773 \n",
       "      lstat        medv \n",
       "-0.01583283 -0.11664610 "
      ]
     },
     "metadata": {},
     "output_type": "display_data"
    }
   ],
   "source": [
    "colMeans(sample_1)\n",
    "\n",
    "colMeans(sample_1) - stats$mean_ \n",
    "\n",
    "(colMeans(sample_1) - stats$mean_)/stats$sd_"
   ]
  },
  {
   "cell_type": "markdown",
   "metadata": {},
   "source": [
    "A sample of 5 doesnt represent the full data set very well. The eman is vastly different."
   ]
  },
  {
   "cell_type": "code",
   "execution_count": 12,
   "metadata": {},
   "outputs": [],
   "source": [
    "sample_2 = sample_n(boston_df, 30)"
   ]
  },
  {
   "cell_type": "code",
   "execution_count": 13,
   "metadata": {
    "scrolled": true
   },
   "outputs": [
    {
     "data": {
      "text/html": [
       "<dl class=dl-horizontal>\n",
       "\t<dt>crim</dt>\n",
       "\t\t<dd>2.79457066666667</dd>\n",
       "\t<dt>zn</dt>\n",
       "\t\t<dd>8.7</dd>\n",
       "\t<dt>indus</dt>\n",
       "\t\t<dd>12.1933333333333</dd>\n",
       "\t<dt>chas</dt>\n",
       "\t\t<dd>0.166666666666667</dd>\n",
       "\t<dt>nox</dt>\n",
       "\t\t<dd>0.584596666666667</dd>\n",
       "\t<dt>rm</dt>\n",
       "\t\t<dd>6.32866666666667</dd>\n",
       "\t<dt>age</dt>\n",
       "\t\t<dd>71.65</dd>\n",
       "\t<dt>dis</dt>\n",
       "\t\t<dd>3.15392</dd>\n",
       "\t<dt>rad</dt>\n",
       "\t\t<dd>10.1333333333333</dd>\n",
       "\t<dt>tax</dt>\n",
       "\t\t<dd>421.866666666667</dd>\n",
       "\t<dt>ptratio</dt>\n",
       "\t\t<dd>17.92</dd>\n",
       "\t<dt>black</dt>\n",
       "\t\t<dd>324.428</dd>\n",
       "\t<dt>lstat</dt>\n",
       "\t\t<dd>11.688</dd>\n",
       "\t<dt>medv</dt>\n",
       "\t\t<dd>23.8866666666667</dd>\n",
       "</dl>\n"
      ],
      "text/latex": [
       "\\begin{description*}\n",
       "\\item[crim] 2.79457066666667\n",
       "\\item[zn] 8.7\n",
       "\\item[indus] 12.1933333333333\n",
       "\\item[chas] 0.166666666666667\n",
       "\\item[nox] 0.584596666666667\n",
       "\\item[rm] 6.32866666666667\n",
       "\\item[age] 71.65\n",
       "\\item[dis] 3.15392\n",
       "\\item[rad] 10.1333333333333\n",
       "\\item[tax] 421.866666666667\n",
       "\\item[ptratio] 17.92\n",
       "\\item[black] 324.428\n",
       "\\item[lstat] 11.688\n",
       "\\item[medv] 23.8866666666667\n",
       "\\end{description*}\n"
      ],
      "text/markdown": [
       "crim\n",
       ":   2.79457066666667zn\n",
       ":   8.7indus\n",
       ":   12.1933333333333chas\n",
       ":   0.166666666666667nox\n",
       ":   0.584596666666667rm\n",
       ":   6.32866666666667age\n",
       ":   71.65dis\n",
       ":   3.15392rad\n",
       ":   10.1333333333333tax\n",
       ":   421.866666666667ptratio\n",
       ":   17.92black\n",
       ":   324.428lstat\n",
       ":   11.688medv\n",
       ":   23.8866666666667\n",
       "\n"
      ],
      "text/plain": [
       "       crim          zn       indus        chas         nox          rm \n",
       "  2.7945707   8.7000000  12.1933333   0.1666667   0.5845967   6.3286667 \n",
       "        age         dis         rad         tax     ptratio       black \n",
       " 71.6500000   3.1539200  10.1333333 421.8666667  17.9200000 324.4280000 \n",
       "      lstat        medv \n",
       " 11.6880000  23.8866667 "
      ]
     },
     "metadata": {},
     "output_type": "display_data"
    },
    {
     "data": {
      "text/html": [
       "<dl class=dl-horizontal>\n",
       "\t<dt>crim</dt>\n",
       "\t\t<dd>-0.818952890645587</dd>\n",
       "\t<dt>zn</dt>\n",
       "\t\t<dd>-2.66363636363636</dd>\n",
       "\t<dt>indus</dt>\n",
       "\t\t<dd>1.05655467720685</dd>\n",
       "\t<dt>chas</dt>\n",
       "\t\t<dd>0.0974967061923584</dd>\n",
       "\t<dt>nox</dt>\n",
       "\t\t<dd>0.0299016073781291</dd>\n",
       "\t<dt>rm</dt>\n",
       "\t\t<dd>0.0440322793148882</dd>\n",
       "\t<dt>age</dt>\n",
       "\t\t<dd>3.07509881422925</dd>\n",
       "\t<dt>dis</dt>\n",
       "\t\t<dd>-0.641122687747036</dd>\n",
       "\t<dt>rad</dt>\n",
       "\t\t<dd>0.583926218708827</dd>\n",
       "\t<dt>tax</dt>\n",
       "\t\t<dd>13.629512516469</dd>\n",
       "\t<dt>ptratio</dt>\n",
       "\t\t<dd>-0.535533596837947</dd>\n",
       "\t<dt>black</dt>\n",
       "\t\t<dd>-32.2460316205534</dd>\n",
       "\t<dt>lstat</dt>\n",
       "\t\t<dd>-0.965063241106719</dd>\n",
       "\t<dt>medv</dt>\n",
       "\t\t<dd>1.35386034255599</dd>\n",
       "</dl>\n"
      ],
      "text/latex": [
       "\\begin{description*}\n",
       "\\item[crim] -0.818952890645587\n",
       "\\item[zn] -2.66363636363636\n",
       "\\item[indus] 1.05655467720685\n",
       "\\item[chas] 0.0974967061923584\n",
       "\\item[nox] 0.0299016073781291\n",
       "\\item[rm] 0.0440322793148882\n",
       "\\item[age] 3.07509881422925\n",
       "\\item[dis] -0.641122687747036\n",
       "\\item[rad] 0.583926218708827\n",
       "\\item[tax] 13.629512516469\n",
       "\\item[ptratio] -0.535533596837947\n",
       "\\item[black] -32.2460316205534\n",
       "\\item[lstat] -0.965063241106719\n",
       "\\item[medv] 1.35386034255599\n",
       "\\end{description*}\n"
      ],
      "text/markdown": [
       "crim\n",
       ":   -0.818952890645587zn\n",
       ":   -2.66363636363636indus\n",
       ":   1.05655467720685chas\n",
       ":   0.0974967061923584nox\n",
       ":   0.0299016073781291rm\n",
       ":   0.0440322793148882age\n",
       ":   3.07509881422925dis\n",
       ":   -0.641122687747036rad\n",
       ":   0.583926218708827tax\n",
       ":   13.629512516469ptratio\n",
       ":   -0.535533596837947black\n",
       ":   -32.2460316205534lstat\n",
       ":   -0.965063241106719medv\n",
       ":   1.35386034255599\n",
       "\n"
      ],
      "text/plain": [
       "        crim           zn        indus         chas          nox           rm \n",
       " -0.81895289  -2.66363636   1.05655468   0.09749671   0.02990161   0.04403228 \n",
       "         age          dis          rad          tax      ptratio        black \n",
       "  3.07509881  -0.64112269   0.58392622  13.62951252  -0.53553360 -32.24603162 \n",
       "       lstat         medv \n",
       " -0.96506324   1.35386034 "
      ]
     },
     "metadata": {},
     "output_type": "display_data"
    },
    {
     "data": {
      "text/html": [
       "<dl class=dl-horizontal>\n",
       "\t<dt>crim</dt>\n",
       "\t\t<dd>-0.0952099745588592</dd>\n",
       "\t<dt>zn</dt>\n",
       "\t\t<dd>-0.114209099885968</dd>\n",
       "\t<dt>indus</dt>\n",
       "\t\t<dd>0.154008793178593</dd>\n",
       "\t<dt>chas</dt>\n",
       "\t\t<dd>0.383854304919265</dd>\n",
       "\t<dt>nox</dt>\n",
       "\t\t<dd>0.258044590607033</dd>\n",
       "\t<dt>rm</dt>\n",
       "\t\t<dd>0.0626689509749982</dd>\n",
       "\t<dt>age</dt>\n",
       "\t\t<dd>0.109244163370497</dd>\n",
       "\t<dt>dis</dt>\n",
       "\t\t<dd>-0.30446863489887</dd>\n",
       "\t<dt>rad</dt>\n",
       "\t\t<dd>0.0670619988380921</dd>\n",
       "\t<dt>tax</dt>\n",
       "\t\t<dd>0.080869501244014</dd>\n",
       "\t<dt>ptratio</dt>\n",
       "\t\t<dd>-0.247365853307533</dd>\n",
       "\t<dt>black</dt>\n",
       "\t\t<dd>-0.353207508856861</dd>\n",
       "\t<dt>lstat</dt>\n",
       "\t\t<dd>-0.135142827095529</dd>\n",
       "\t<dt>medv</dt>\n",
       "\t\t<dd>0.147205069084055</dd>\n",
       "</dl>\n"
      ],
      "text/latex": [
       "\\begin{description*}\n",
       "\\item[crim] -0.0952099745588592\n",
       "\\item[zn] -0.114209099885968\n",
       "\\item[indus] 0.154008793178593\n",
       "\\item[chas] 0.383854304919265\n",
       "\\item[nox] 0.258044590607033\n",
       "\\item[rm] 0.0626689509749982\n",
       "\\item[age] 0.109244163370497\n",
       "\\item[dis] -0.30446863489887\n",
       "\\item[rad] 0.0670619988380921\n",
       "\\item[tax] 0.080869501244014\n",
       "\\item[ptratio] -0.247365853307533\n",
       "\\item[black] -0.353207508856861\n",
       "\\item[lstat] -0.135142827095529\n",
       "\\item[medv] 0.147205069084055\n",
       "\\end{description*}\n"
      ],
      "text/markdown": [
       "crim\n",
       ":   -0.0952099745588592zn\n",
       ":   -0.114209099885968indus\n",
       ":   0.154008793178593chas\n",
       ":   0.383854304919265nox\n",
       ":   0.258044590607033rm\n",
       ":   0.0626689509749982age\n",
       ":   0.109244163370497dis\n",
       ":   -0.30446863489887rad\n",
       ":   0.0670619988380921tax\n",
       ":   0.080869501244014ptratio\n",
       ":   -0.247365853307533black\n",
       ":   -0.353207508856861lstat\n",
       ":   -0.135142827095529medv\n",
       ":   0.147205069084055\n",
       "\n"
      ],
      "text/plain": [
       "       crim          zn       indus        chas         nox          rm \n",
       "-0.09520997 -0.11420910  0.15400879  0.38385430  0.25804459  0.06266895 \n",
       "        age         dis         rad         tax     ptratio       black \n",
       " 0.10924416 -0.30446863  0.06706200  0.08086950 -0.24736585 -0.35320751 \n",
       "      lstat        medv \n",
       "-0.13514283  0.14720507 "
      ]
     },
     "metadata": {},
     "output_type": "display_data"
    }
   ],
   "source": [
    "colMeans(sample_2)\n",
    "\n",
    "colMeans(sample_2) - stats$mean_ \n",
    "\n",
    "(colMeans(sample_2) - stats$mean_)/stats$sd_"
   ]
  },
  {
   "cell_type": "markdown",
   "metadata": {},
   "source": [
    "A sample of 30 looks better but still quite a bit off"
   ]
  },
  {
   "cell_type": "markdown",
   "metadata": {},
   "source": [
    "For a 90% confidence level and a 10% margin of error we need a sample size of 60 for this data set.![](Sample%20Size%20Calculator.PNG)\n"
   ]
  },
  {
   "cell_type": "code",
   "execution_count": 14,
   "metadata": {},
   "outputs": [],
   "source": [
    "sample_2 = sample_n(boston_df, 60)"
   ]
  },
  {
   "cell_type": "code",
   "execution_count": 15,
   "metadata": {
    "scrolled": true
   },
   "outputs": [
    {
     "data": {
      "text/html": [
       "<dl class=dl-horizontal>\n",
       "\t<dt>crim</dt>\n",
       "\t\t<dd>2.58219533333333</dd>\n",
       "\t<dt>zn</dt>\n",
       "\t\t<dd>10.9916666666667</dd>\n",
       "\t<dt>indus</dt>\n",
       "\t\t<dd>10.1141666666667</dd>\n",
       "\t<dt>chas</dt>\n",
       "\t\t<dd>0</dd>\n",
       "\t<dt>nox</dt>\n",
       "\t\t<dd>0.542481666666667</dd>\n",
       "\t<dt>rm</dt>\n",
       "\t\t<dd>6.39471666666667</dd>\n",
       "\t<dt>age</dt>\n",
       "\t\t<dd>64.1316666666667</dd>\n",
       "\t<dt>dis</dt>\n",
       "\t\t<dd>4.00640333333333</dd>\n",
       "\t<dt>rad</dt>\n",
       "\t\t<dd>9.06666666666667</dd>\n",
       "\t<dt>tax</dt>\n",
       "\t\t<dd>391.666666666667</dd>\n",
       "\t<dt>ptratio</dt>\n",
       "\t\t<dd>18.5583333333333</dd>\n",
       "\t<dt>black</dt>\n",
       "\t\t<dd>363.8275</dd>\n",
       "\t<dt>lstat</dt>\n",
       "\t\t<dd>10.8951666666667</dd>\n",
       "\t<dt>medv</dt>\n",
       "\t\t<dd>23.26</dd>\n",
       "</dl>\n"
      ],
      "text/latex": [
       "\\begin{description*}\n",
       "\\item[crim] 2.58219533333333\n",
       "\\item[zn] 10.9916666666667\n",
       "\\item[indus] 10.1141666666667\n",
       "\\item[chas] 0\n",
       "\\item[nox] 0.542481666666667\n",
       "\\item[rm] 6.39471666666667\n",
       "\\item[age] 64.1316666666667\n",
       "\\item[dis] 4.00640333333333\n",
       "\\item[rad] 9.06666666666667\n",
       "\\item[tax] 391.666666666667\n",
       "\\item[ptratio] 18.5583333333333\n",
       "\\item[black] 363.8275\n",
       "\\item[lstat] 10.8951666666667\n",
       "\\item[medv] 23.26\n",
       "\\end{description*}\n"
      ],
      "text/markdown": [
       "crim\n",
       ":   2.58219533333333zn\n",
       ":   10.9916666666667indus\n",
       ":   10.1141666666667chas\n",
       ":   0nox\n",
       ":   0.542481666666667rm\n",
       ":   6.39471666666667age\n",
       ":   64.1316666666667dis\n",
       ":   4.00640333333333rad\n",
       ":   9.06666666666667tax\n",
       ":   391.666666666667ptratio\n",
       ":   18.5583333333333black\n",
       ":   363.8275lstat\n",
       ":   10.8951666666667medv\n",
       ":   23.26\n",
       "\n"
      ],
      "text/plain": [
       "       crim          zn       indus        chas         nox          rm \n",
       "  2.5821953  10.9916667  10.1141667   0.0000000   0.5424817   6.3947167 \n",
       "        age         dis         rad         tax     ptratio       black \n",
       " 64.1316667   4.0064033   9.0666667 391.6666667  18.5583333 363.8275000 \n",
       "      lstat        medv \n",
       " 10.8951667  23.2600000 "
      ]
     },
     "metadata": {},
     "output_type": "display_data"
    }
   ],
   "source": [
    "colMeans(sample_2)"
   ]
  },
  {
   "cell_type": "code",
   "execution_count": 16,
   "metadata": {
    "scrolled": true
   },
   "outputs": [
    {
     "data": {
      "text/html": [
       "<dl class=dl-horizontal>\n",
       "\t<dt>crim</dt>\n",
       "\t\t<dd>-1.03132822397892</dd>\n",
       "\t<dt>zn</dt>\n",
       "\t\t<dd>-0.371969696969696</dd>\n",
       "\t<dt>indus</dt>\n",
       "\t\t<dd>-1.02261198945981</dd>\n",
       "\t<dt>chas</dt>\n",
       "\t\t<dd>-0.0691699604743083</dd>\n",
       "\t<dt>nox</dt>\n",
       "\t\t<dd>-0.0122133926218709</dd>\n",
       "\t<dt>rm</dt>\n",
       "\t\t<dd>0.110082279314888</dd>\n",
       "\t<dt>age</dt>\n",
       "\t\t<dd>-4.4432345191041</dd>\n",
       "\t<dt>dis</dt>\n",
       "\t\t<dd>0.211360645586298</dd>\n",
       "\t<dt>rad</dt>\n",
       "\t\t<dd>-0.482740447957839</dd>\n",
       "\t<dt>tax</dt>\n",
       "\t\t<dd>-16.5704874835309</dd>\n",
       "\t<dt>ptratio</dt>\n",
       "\t\t<dd>0.102799736495388</dd>\n",
       "\t<dt>black</dt>\n",
       "\t\t<dd>7.15346837944662</dd>\n",
       "\t<dt>lstat</dt>\n",
       "\t\t<dd>-1.75789657444005</dd>\n",
       "\t<dt>medv</dt>\n",
       "\t\t<dd>0.727193675889328</dd>\n",
       "</dl>\n"
      ],
      "text/latex": [
       "\\begin{description*}\n",
       "\\item[crim] -1.03132822397892\n",
       "\\item[zn] -0.371969696969696\n",
       "\\item[indus] -1.02261198945981\n",
       "\\item[chas] -0.0691699604743083\n",
       "\\item[nox] -0.0122133926218709\n",
       "\\item[rm] 0.110082279314888\n",
       "\\item[age] -4.4432345191041\n",
       "\\item[dis] 0.211360645586298\n",
       "\\item[rad] -0.482740447957839\n",
       "\\item[tax] -16.5704874835309\n",
       "\\item[ptratio] 0.102799736495388\n",
       "\\item[black] 7.15346837944662\n",
       "\\item[lstat] -1.75789657444005\n",
       "\\item[medv] 0.727193675889328\n",
       "\\end{description*}\n"
      ],
      "text/markdown": [
       "crim\n",
       ":   -1.03132822397892zn\n",
       ":   -0.371969696969696indus\n",
       ":   -1.02261198945981chas\n",
       ":   -0.0691699604743083nox\n",
       ":   -0.0122133926218709rm\n",
       ":   0.110082279314888age\n",
       ":   -4.4432345191041dis\n",
       ":   0.211360645586298rad\n",
       ":   -0.482740447957839tax\n",
       ":   -16.5704874835309ptratio\n",
       ":   0.102799736495388black\n",
       ":   7.15346837944662lstat\n",
       ":   -1.75789657444005medv\n",
       ":   0.727193675889328\n",
       "\n"
      ],
      "text/plain": [
       "        crim           zn        indus         chas          nox           rm \n",
       " -1.03132822  -0.37196970  -1.02261199  -0.06916996  -0.01221339   0.11008228 \n",
       "         age          dis          rad          tax      ptratio        black \n",
       " -4.44323452   0.21136065  -0.48274045 -16.57048748   0.10279974   7.15346838 \n",
       "       lstat         medv \n",
       " -1.75789657   0.72719368 "
      ]
     },
     "metadata": {},
     "output_type": "display_data"
    },
    {
     "data": {
      "text/html": [
       "<dl class=dl-horizontal>\n",
       "\t<dt>crim</dt>\n",
       "\t\t<dd>-0.119900344804279</dd>\n",
       "\t<dt>zn</dt>\n",
       "\t\t<dd>-0.0159489954618913</dd>\n",
       "\t<dt>indus</dt>\n",
       "\t\t<dd>-0.149061134065505</dd>\n",
       "\t<dt>chas</dt>\n",
       "\t\t<dd>-0.272329067679209</dd>\n",
       "\t<dt>nox</dt>\n",
       "\t\t<dd>-0.105399012808215</dd>\n",
       "\t<dt>rm</dt>\n",
       "\t\t<dd>0.156674627635462</dd>\n",
       "\t<dt>age</dt>\n",
       "\t\t<dd>-0.157847752876227</dd>\n",
       "\t<dt>dis</dt>\n",
       "\t\t<dd>0.100374996023219</dd>\n",
       "\t<dt>rad</dt>\n",
       "\t\t<dd>-0.055441147053874</dd>\n",
       "\t<dt>tax</dt>\n",
       "\t\t<dd>-0.098319514842816</dd>\n",
       "\t<dt>ptratio</dt>\n",
       "\t\t<dd>0.0474837520710511</dd>\n",
       "\t<dt>black</dt>\n",
       "\t\t<dd>0.078355649331442</dd>\n",
       "\t<dt>lstat</dt>\n",
       "\t\t<dd>-0.246167404054202</dd>\n",
       "\t<dt>medv</dt>\n",
       "\t\t<dd>0.0790676792368999</dd>\n",
       "</dl>\n"
      ],
      "text/latex": [
       "\\begin{description*}\n",
       "\\item[crim] -0.119900344804279\n",
       "\\item[zn] -0.0159489954618913\n",
       "\\item[indus] -0.149061134065505\n",
       "\\item[chas] -0.272329067679209\n",
       "\\item[nox] -0.105399012808215\n",
       "\\item[rm] 0.156674627635462\n",
       "\\item[age] -0.157847752876227\n",
       "\\item[dis] 0.100374996023219\n",
       "\\item[rad] -0.055441147053874\n",
       "\\item[tax] -0.098319514842816\n",
       "\\item[ptratio] 0.0474837520710511\n",
       "\\item[black] 0.078355649331442\n",
       "\\item[lstat] -0.246167404054202\n",
       "\\item[medv] 0.0790676792368999\n",
       "\\end{description*}\n"
      ],
      "text/markdown": [
       "crim\n",
       ":   -0.119900344804279zn\n",
       ":   -0.0159489954618913indus\n",
       ":   -0.149061134065505chas\n",
       ":   -0.272329067679209nox\n",
       ":   -0.105399012808215rm\n",
       ":   0.156674627635462age\n",
       ":   -0.157847752876227dis\n",
       ":   0.100374996023219rad\n",
       ":   -0.055441147053874tax\n",
       ":   -0.098319514842816ptratio\n",
       ":   0.0474837520710511black\n",
       ":   0.078355649331442lstat\n",
       ":   -0.246167404054202medv\n",
       ":   0.0790676792368999\n",
       "\n"
      ],
      "text/plain": [
       "       crim          zn       indus        chas         nox          rm \n",
       "-0.11990034 -0.01594900 -0.14906113 -0.27232907 -0.10539901  0.15667463 \n",
       "        age         dis         rad         tax     ptratio       black \n",
       "-0.15784775  0.10037500 -0.05544115 -0.09831951  0.04748375  0.07835565 \n",
       "      lstat        medv \n",
       "-0.24616740  0.07906768 "
      ]
     },
     "metadata": {},
     "output_type": "display_data"
    }
   ],
   "source": [
    "colMeans(sample_2) - stats$mean_\n",
    "\n",
    "(colMeans(sample_2) - stats$mean_)/stats$sd_"
   ]
  },
  {
   "cell_type": "markdown",
   "metadata": {},
   "source": [
    "Even the suggested sample size doesnt seem to match up close enough."
   ]
  },
  {
   "cell_type": "markdown",
   "metadata": {},
   "source": [
    "Sampling 6 times 10"
   ]
  },
  {
   "cell_type": "code",
   "execution_count": 17,
   "metadata": {
    "scrolled": true
   },
   "outputs": [
    {
     "data": {
      "text/html": [
       "<dl class=dl-horizontal>\n",
       "\t<dt>crim</dt>\n",
       "\t\t<dd>4.974525</dd>\n",
       "\t<dt>zn</dt>\n",
       "\t\t<dd>10.3181818181818</dd>\n",
       "\t<dt>indus</dt>\n",
       "\t\t<dd>10.9826363636364</dd>\n",
       "\t<dt>chas</dt>\n",
       "\t\t<dd>0.0545454545454546</dd>\n",
       "\t<dt>nox</dt>\n",
       "\t\t<dd>0.555714545454545</dd>\n",
       "\t<dt>rm</dt>\n",
       "\t\t<dd>6.31735454545455</dd>\n",
       "\t<dt>age</dt>\n",
       "\t\t<dd>67.1327272727273</dd>\n",
       "\t<dt>dis</dt>\n",
       "\t\t<dd>3.64836272727273</dd>\n",
       "\t<dt>rad</dt>\n",
       "\t\t<dd>9.64545454545455</dd>\n",
       "\t<dt>tax</dt>\n",
       "\t\t<dd>405.881818181818</dd>\n",
       "\t<dt>ptratio</dt>\n",
       "\t\t<dd>18.3045454545455</dd>\n",
       "\t<dt>black</dt>\n",
       "\t\t<dd>357.947818181818</dd>\n",
       "\t<dt>lstat</dt>\n",
       "\t\t<dd>12.3245454545455</dd>\n",
       "\t<dt>medv</dt>\n",
       "\t\t<dd>22.7163636363636</dd>\n",
       "</dl>\n"
      ],
      "text/latex": [
       "\\begin{description*}\n",
       "\\item[crim] 4.974525\n",
       "\\item[zn] 10.3181818181818\n",
       "\\item[indus] 10.9826363636364\n",
       "\\item[chas] 0.0545454545454546\n",
       "\\item[nox] 0.555714545454545\n",
       "\\item[rm] 6.31735454545455\n",
       "\\item[age] 67.1327272727273\n",
       "\\item[dis] 3.64836272727273\n",
       "\\item[rad] 9.64545454545455\n",
       "\\item[tax] 405.881818181818\n",
       "\\item[ptratio] 18.3045454545455\n",
       "\\item[black] 357.947818181818\n",
       "\\item[lstat] 12.3245454545455\n",
       "\\item[medv] 22.7163636363636\n",
       "\\end{description*}\n"
      ],
      "text/markdown": [
       "crim\n",
       ":   4.974525zn\n",
       ":   10.3181818181818indus\n",
       ":   10.9826363636364chas\n",
       ":   0.0545454545454546nox\n",
       ":   0.555714545454545rm\n",
       ":   6.31735454545455age\n",
       ":   67.1327272727273dis\n",
       ":   3.64836272727273rad\n",
       ":   9.64545454545455tax\n",
       ":   405.881818181818ptratio\n",
       ":   18.3045454545455black\n",
       ":   357.947818181818lstat\n",
       ":   12.3245454545455medv\n",
       ":   22.7163636363636\n",
       "\n"
      ],
      "text/plain": [
       "        crim           zn        indus         chas          nox           rm \n",
       "  4.97452500  10.31818182  10.98263636   0.05454545   0.55571455   6.31735455 \n",
       "         age          dis          rad          tax      ptratio        black \n",
       " 67.13272727   3.64836273   9.64545455 405.88181818  18.30454545 357.94781818 \n",
       "       lstat         medv \n",
       " 12.32454545  22.71636364 "
      ]
     },
     "metadata": {},
     "output_type": "display_data"
    },
    {
     "data": {
      "text/html": [
       "<table>\n",
       "<thead><tr><th scope=col>feature</th><th scope=col>mean_</th><th scope=col>sd_</th><th scope=col>skewness_</th></tr></thead>\n",
       "<tbody>\n",
       "\t<tr><td>crim        </td><td>  3.61352356</td><td>  8.6015451 </td><td> 5.2076524  </td></tr>\n",
       "\t<tr><td>zn          </td><td> 11.36363636</td><td> 23.3224530 </td><td> 2.2190631  </td></tr>\n",
       "\t<tr><td>indus       </td><td> 11.13677866</td><td>  6.8603529 </td><td> 0.2941463  </td></tr>\n",
       "\t<tr><td>chas        </td><td>  0.06916996</td><td>  0.2539940 </td><td> 3.3957993  </td></tr>\n",
       "\t<tr><td>nox         </td><td>  0.55469506</td><td>  0.1158777 </td><td> 0.7271442  </td></tr>\n",
       "\t<tr><td>rm          </td><td>  6.28463439</td><td>  0.7026171 </td><td> 0.4024147  </td></tr>\n",
       "\t<tr><td>age         </td><td> 68.57490119</td><td> 28.1488614 </td><td>-0.5971856  </td></tr>\n",
       "\t<tr><td>dis         </td><td>  3.79504269</td><td>  2.1057101 </td><td> 1.0087788  </td></tr>\n",
       "\t<tr><td>rad         </td><td>  9.54940711</td><td>  8.7072594 </td><td> 1.0018335  </td></tr>\n",
       "\t<tr><td>tax         </td><td>408.23715415</td><td>168.5371161 </td><td> 0.6679683  </td></tr>\n",
       "\t<tr><td>ptratio     </td><td> 18.45553360</td><td>  2.1649455 </td><td>-0.7999445  </td></tr>\n",
       "\t<tr><td>black       </td><td>356.67403162</td><td> 91.2948644 </td><td>-2.8817983  </td></tr>\n",
       "\t<tr><td>lstat       </td><td> 12.65306324</td><td>  7.1410615 </td><td> 0.9037707  </td></tr>\n",
       "\t<tr><td>medv        </td><td> 22.53280632</td><td>  9.1971041 </td><td> 1.1048108  </td></tr>\n",
       "</tbody>\n",
       "</table>\n"
      ],
      "text/latex": [
       "\\begin{tabular}{r|llll}\n",
       " feature & mean\\_ & sd\\_ & skewness\\_\\\\\n",
       "\\hline\n",
       "\t crim         &   3.61352356 &   8.6015451  &  5.2076524  \\\\\n",
       "\t zn           &  11.36363636 &  23.3224530  &  2.2190631  \\\\\n",
       "\t indus        &  11.13677866 &   6.8603529  &  0.2941463  \\\\\n",
       "\t chas         &   0.06916996 &   0.2539940  &  3.3957993  \\\\\n",
       "\t nox          &   0.55469506 &   0.1158777  &  0.7271442  \\\\\n",
       "\t rm           &   6.28463439 &   0.7026171  &  0.4024147  \\\\\n",
       "\t age          &  68.57490119 &  28.1488614  & -0.5971856  \\\\\n",
       "\t dis          &   3.79504269 &   2.1057101  &  1.0087788  \\\\\n",
       "\t rad          &   9.54940711 &   8.7072594  &  1.0018335  \\\\\n",
       "\t tax          & 408.23715415 & 168.5371161  &  0.6679683  \\\\\n",
       "\t ptratio      &  18.45553360 &   2.1649455  & -0.7999445  \\\\\n",
       "\t black        & 356.67403162 &  91.2948644  & -2.8817983  \\\\\n",
       "\t lstat        &  12.65306324 &   7.1410615  &  0.9037707  \\\\\n",
       "\t medv         &  22.53280632 &   9.1971041  &  1.1048108  \\\\\n",
       "\\end{tabular}\n"
      ],
      "text/markdown": [
       "\n",
       "feature | mean_ | sd_ | skewness_ | \n",
       "|---|---|---|---|---|---|---|---|---|---|---|---|---|---|\n",
       "| crim         |   3.61352356 |   8.6015451  |  5.2076524   | \n",
       "| zn           |  11.36363636 |  23.3224530  |  2.2190631   | \n",
       "| indus        |  11.13677866 |   6.8603529  |  0.2941463   | \n",
       "| chas         |   0.06916996 |   0.2539940  |  3.3957993   | \n",
       "| nox          |   0.55469506 |   0.1158777  |  0.7271442   | \n",
       "| rm           |   6.28463439 |   0.7026171  |  0.4024147   | \n",
       "| age          |  68.57490119 |  28.1488614  | -0.5971856   | \n",
       "| dis          |   3.79504269 |   2.1057101  |  1.0087788   | \n",
       "| rad          |   9.54940711 |   8.7072594  |  1.0018335   | \n",
       "| tax          | 408.23715415 | 168.5371161  |  0.6679683   | \n",
       "| ptratio      |  18.45553360 |   2.1649455  | -0.7999445   | \n",
       "| black        | 356.67403162 |  91.2948644  | -2.8817983   | \n",
       "| lstat        |  12.65306324 |   7.1410615  |  0.9037707   | \n",
       "| medv         |  22.53280632 |   9.1971041  |  1.1048108   | \n",
       "\n",
       "\n"
      ],
      "text/plain": [
       "   feature mean_        sd_         skewness_ \n",
       "1  crim      3.61352356   8.6015451  5.2076524\n",
       "2  zn       11.36363636  23.3224530  2.2190631\n",
       "3  indus    11.13677866   6.8603529  0.2941463\n",
       "4  chas      0.06916996   0.2539940  3.3957993\n",
       "5  nox       0.55469506   0.1158777  0.7271442\n",
       "6  rm        6.28463439   0.7026171  0.4024147\n",
       "7  age      68.57490119  28.1488614 -0.5971856\n",
       "8  dis       3.79504269   2.1057101  1.0087788\n",
       "9  rad       9.54940711   8.7072594  1.0018335\n",
       "10 tax     408.23715415 168.5371161  0.6679683\n",
       "11 ptratio  18.45553360   2.1649455 -0.7999445\n",
       "12 black   356.67403162  91.2948644 -2.8817983\n",
       "13 lstat    12.65306324   7.1410615  0.9037707\n",
       "14 medv     22.53280632   9.1971041  1.1048108"
      ]
     },
     "metadata": {},
     "output_type": "display_data"
    },
    {
     "data": {
      "text/html": [
       "<dl class=dl-horizontal>\n",
       "\t<dt>crim</dt>\n",
       "\t\t<dd>0.15822755400585</dd>\n",
       "\t<dt>zn</dt>\n",
       "\t\t<dd>-0.0448260972248678</dd>\n",
       "\t<dt>indus</dt>\n",
       "\t\t<dd>-0.0224685659496041</dd>\n",
       "\t<dt>chas</dt>\n",
       "\t\t<dd>-0.0575781457378898</dd>\n",
       "\t<dt>nox</dt>\n",
       "\t\t<dd>0.0087979514616147</dd>\n",
       "\t<dt>rm</dt>\n",
       "\t\t<dd>0.0465689720346411</dd>\n",
       "\t<dt>age</dt>\n",
       "\t\t<dd>-0.0512338276208147</dd>\n",
       "\t<dt>dis</dt>\n",
       "\t\t<dd>-0.0696581920842172</dd>\n",
       "\t<dt>rad</dt>\n",
       "\t\t<dd>0.0110307304045509</dd>\n",
       "\t<dt>tax</dt>\n",
       "\t\t<dd>-0.013975176646617</dd>\n",
       "\t<dt>ptratio</dt>\n",
       "\t\t<dd>-0.0697422363004484</dd>\n",
       "\t<dt>black</dt>\n",
       "\t\t<dd>0.0139524448593827</dd>\n",
       "\t<dt>lstat</dt>\n",
       "\t\t<dd>-0.0460040550048736</dd>\n",
       "\t<dt>medv</dt>\n",
       "\t\t<dd>0.0199581640600151</dd>\n",
       "</dl>\n"
      ],
      "text/latex": [
       "\\begin{description*}\n",
       "\\item[crim] 0.15822755400585\n",
       "\\item[zn] -0.0448260972248678\n",
       "\\item[indus] -0.0224685659496041\n",
       "\\item[chas] -0.0575781457378898\n",
       "\\item[nox] 0.0087979514616147\n",
       "\\item[rm] 0.0465689720346411\n",
       "\\item[age] -0.0512338276208147\n",
       "\\item[dis] -0.0696581920842172\n",
       "\\item[rad] 0.0110307304045509\n",
       "\\item[tax] -0.013975176646617\n",
       "\\item[ptratio] -0.0697422363004484\n",
       "\\item[black] 0.0139524448593827\n",
       "\\item[lstat] -0.0460040550048736\n",
       "\\item[medv] 0.0199581640600151\n",
       "\\end{description*}\n"
      ],
      "text/markdown": [
       "crim\n",
       ":   0.15822755400585zn\n",
       ":   -0.0448260972248678indus\n",
       ":   -0.0224685659496041chas\n",
       ":   -0.0575781457378898nox\n",
       ":   0.0087979514616147rm\n",
       ":   0.0465689720346411age\n",
       ":   -0.0512338276208147dis\n",
       ":   -0.0696581920842172rad\n",
       ":   0.0110307304045509tax\n",
       ":   -0.013975176646617ptratio\n",
       ":   -0.0697422363004484black\n",
       ":   0.0139524448593827lstat\n",
       ":   -0.0460040550048736medv\n",
       ":   0.0199581640600151\n",
       "\n"
      ],
      "text/plain": [
       "        crim           zn        indus         chas          nox           rm \n",
       " 0.158227554 -0.044826097 -0.022468566 -0.057578146  0.008797951  0.046568972 \n",
       "         age          dis          rad          tax      ptratio        black \n",
       "-0.051233828 -0.069658192  0.011030730 -0.013975177 -0.069742236  0.013952445 \n",
       "       lstat         medv \n",
       "-0.046004055  0.019958164 "
      ]
     },
     "metadata": {},
     "output_type": "display_data"
    }
   ],
   "source": [
    "sample_means = colMeans(sample_n(boston_df, 10))\n",
    "\n",
    "for (i in 1:10) {\n",
    "    sample_means = (sample_means*(i) + colMeans(sample_n(boston_df, 5)))/(i+1)\n",
    "}\n",
    "\n",
    "sample_means; stats\n",
    "\n",
    "(sample_means-stats$mean_)/stats$sd_"
   ]
  },
  {
   "cell_type": "markdown",
   "metadata": {},
   "source": [
    "Sampling 6 times 10 returns a closer mean to the full data set than sampling 60 once which is what the Central Limit Theorem promises. The more repetitions of taking a samples the closer the mean of all the sample compared to the full data set."
   ]
  },
  {
   "cell_type": "code",
   "execution_count": 18,
   "metadata": {},
   "outputs": [],
   "source": [
    "boston_features = Filter(is.numeric, boston_df)"
   ]
  },
  {
   "cell_type": "code",
   "execution_count": 19,
   "metadata": {
    "scrolled": true
   },
   "outputs": [
    {
     "data": {
      "text/html": [
       "<table>\n",
       "<thead><tr><th scope=col>feature</th><th scope=col>mean_</th></tr></thead>\n",
       "<tbody>\n",
       "\t<tr><td>crim        </td><td>  3.61352356</td></tr>\n",
       "\t<tr><td>zn          </td><td> 11.36363636</td></tr>\n",
       "\t<tr><td>indus       </td><td> 11.13677866</td></tr>\n",
       "\t<tr><td>chas        </td><td>  0.06916996</td></tr>\n",
       "\t<tr><td>nox         </td><td>  0.55469506</td></tr>\n",
       "\t<tr><td>rm          </td><td>  6.28463439</td></tr>\n",
       "\t<tr><td>age         </td><td> 68.57490119</td></tr>\n",
       "\t<tr><td>dis         </td><td>  3.79504269</td></tr>\n",
       "\t<tr><td>rad         </td><td>  9.54940711</td></tr>\n",
       "\t<tr><td>tax         </td><td>408.23715415</td></tr>\n",
       "\t<tr><td>ptratio     </td><td> 18.45553360</td></tr>\n",
       "\t<tr><td>black       </td><td>356.67403162</td></tr>\n",
       "\t<tr><td>lstat       </td><td> 12.65306324</td></tr>\n",
       "\t<tr><td>medv        </td><td> 22.53280632</td></tr>\n",
       "</tbody>\n",
       "</table>\n"
      ],
      "text/latex": [
       "\\begin{tabular}{r|ll}\n",
       " feature & mean\\_\\\\\n",
       "\\hline\n",
       "\t crim         &   3.61352356\\\\\n",
       "\t zn           &  11.36363636\\\\\n",
       "\t indus        &  11.13677866\\\\\n",
       "\t chas         &   0.06916996\\\\\n",
       "\t nox          &   0.55469506\\\\\n",
       "\t rm           &   6.28463439\\\\\n",
       "\t age          &  68.57490119\\\\\n",
       "\t dis          &   3.79504269\\\\\n",
       "\t rad          &   9.54940711\\\\\n",
       "\t tax          & 408.23715415\\\\\n",
       "\t ptratio      &  18.45553360\\\\\n",
       "\t black        & 356.67403162\\\\\n",
       "\t lstat        &  12.65306324\\\\\n",
       "\t medv         &  22.53280632\\\\\n",
       "\\end{tabular}\n"
      ],
      "text/markdown": [
       "\n",
       "feature | mean_ | \n",
       "|---|---|---|---|---|---|---|---|---|---|---|---|---|---|\n",
       "| crim         |   3.61352356 | \n",
       "| zn           |  11.36363636 | \n",
       "| indus        |  11.13677866 | \n",
       "| chas         |   0.06916996 | \n",
       "| nox          |   0.55469506 | \n",
       "| rm           |   6.28463439 | \n",
       "| age          |  68.57490119 | \n",
       "| dis          |   3.79504269 | \n",
       "| rad          |   9.54940711 | \n",
       "| tax          | 408.23715415 | \n",
       "| ptratio      |  18.45553360 | \n",
       "| black        | 356.67403162 | \n",
       "| lstat        |  12.65306324 | \n",
       "| medv         |  22.53280632 | \n",
       "\n",
       "\n"
      ],
      "text/plain": [
       "   feature mean_       \n",
       "1  crim      3.61352356\n",
       "2  zn       11.36363636\n",
       "3  indus    11.13677866\n",
       "4  chas      0.06916996\n",
       "5  nox       0.55469506\n",
       "6  rm        6.28463439\n",
       "7  age      68.57490119\n",
       "8  dis       3.79504269\n",
       "9  rad       9.54940711\n",
       "10 tax     408.23715415\n",
       "11 ptratio  18.45553360\n",
       "12 black   356.67403162\n",
       "13 lstat    12.65306324\n",
       "14 medv     22.53280632"
      ]
     },
     "metadata": {},
     "output_type": "display_data"
    }
   ],
   "source": [
    "sum_vals = data.frame(feature=colnames(boston_features))\n",
    "sum_vals['mean_'] = sapply(boston_features, mean)\n",
    "sum_vals"
   ]
  },
  {
   "cell_type": "code",
   "execution_count": 20,
   "metadata": {},
   "outputs": [],
   "source": [
    "library(dplyr, warn.conflicts = FALSE)\n",
    "samples = list()\n",
    "for (i in 1:10) {\n",
    "    samples[[i]] = sample_n(boston_features, 10)\n",
    "}"
   ]
  },
  {
   "cell_type": "code",
   "execution_count": 21,
   "metadata": {},
   "outputs": [],
   "source": [
    "for (i in 1:10) {\n",
    "    sum_vals[paste('mean_', i)] = sapply(samples[[i]], mean)\n",
    "}"
   ]
  },
  {
   "cell_type": "code",
   "execution_count": 22,
   "metadata": {
    "scrolled": false
   },
   "outputs": [
    {
     "data": {
      "text/html": [
       "<table>\n",
       "<thead><tr><th scope=col>feature</th><th scope=col>mean_</th><th scope=col>mean_ 1</th><th scope=col>mean_ 2</th><th scope=col>mean_ 3</th><th scope=col>mean_ 4</th><th scope=col>mean_ 5</th><th scope=col>mean_ 6</th><th scope=col>mean_ 7</th><th scope=col>mean_ 8</th><th scope=col>mean_ 9</th><th scope=col>mean_ 10</th></tr></thead>\n",
       "<tbody>\n",
       "\t<tr><td>crim        </td><td>  3.61352356</td><td>  1.288574  </td><td>  0.137358  </td><td>  3.436462  </td><td>  0.192979  </td><td>  1.51248   </td><td>  4.819869  </td><td>  2.547393  </td><td>  9.120108  </td><td>  5.321743  </td><td> 13.19487   </td></tr>\n",
       "\t<tr><td>zn          </td><td> 11.36363636</td><td> 10.500000  </td><td> 14.400000  </td><td> 14.700000  </td><td> 20.300000  </td><td>  6.40000   </td><td>  2.200000  </td><td> 29.700000  </td><td> 11.500000  </td><td> 22.600000  </td><td> 12.70000   </td></tr>\n",
       "\t<tr><td>indus       </td><td> 11.13677866</td><td> 12.219000  </td><td>  6.262000  </td><td>  8.951000  </td><td>  5.549000  </td><td> 11.18700   </td><td> 12.938000  </td><td>  8.462000  </td><td> 12.536000  </td><td> 10.532000  </td><td> 13.96300   </td></tr>\n",
       "\t<tr><td>chas        </td><td>  0.06916996</td><td>  0.000000  </td><td>  0.200000  </td><td>  0.000000  </td><td>  0.000000  </td><td>  0.00000   </td><td>  0.100000  </td><td>  0.000000  </td><td>  0.200000  </td><td>  0.000000  </td><td>  0.10000   </td></tr>\n",
       "\t<tr><td>nox         </td><td>  0.55469506</td><td>  0.556700  </td><td>  0.478900  </td><td>  0.503100  </td><td>  0.485290  </td><td>  0.53160   </td><td>  0.564500  </td><td>  0.545800  </td><td>  0.630200  </td><td>  0.521800  </td><td>  0.63690   </td></tr>\n",
       "\t<tr><td>rm          </td><td>  6.28463439</td><td>  6.343000  </td><td>  6.486200  </td><td>  6.128100  </td><td>  6.847600  </td><td>  6.29990   </td><td>  5.517900  </td><td>  6.371500  </td><td>  6.361800  </td><td>  6.239600  </td><td>  6.17410   </td></tr>\n",
       "\t<tr><td>age         </td><td> 68.57490119</td><td> 60.550000  </td><td> 54.670000  </td><td> 65.080000  </td><td> 58.870000  </td><td> 65.69000   </td><td> 71.890000  </td><td> 53.880000  </td><td> 77.580000  </td><td> 64.590000  </td><td> 83.08000   </td></tr>\n",
       "\t<tr><td>dis         </td><td>  3.79504269</td><td>  4.096890  </td><td>  5.172920  </td><td>  4.880600  </td><td>  4.572530  </td><td>  4.15768   </td><td>  3.299900  </td><td>  5.158050  </td><td>  2.774370  </td><td>  4.730860  </td><td>  3.34675   </td></tr>\n",
       "\t<tr><td>rad         </td><td>  9.54940711</td><td> 10.600000  </td><td>  4.600000  </td><td>  9.300000  </td><td>  5.700000  </td><td>  6.20000   </td><td> 15.000000  </td><td>  8.800000  </td><td> 14.100000  </td><td>  9.900000  </td><td> 16.80000   </td></tr>\n",
       "\t<tr><td>tax         </td><td>408.23715415</td><td>443.000000  </td><td>283.800000  </td><td>373.600000  </td><td>321.200000  </td><td>349.20000   </td><td>506.400000  </td><td>394.400000  </td><td>487.900000  </td><td>404.300000  </td><td>526.80000   </td></tr>\n",
       "\t<tr><td>ptratio     </td><td> 18.45553360</td><td> 19.080000  </td><td> 18.960000  </td><td> 19.210000  </td><td> 17.180000  </td><td> 19.27000   </td><td> 19.000000  </td><td> 17.550000  </td><td> 18.310000  </td><td> 18.990000  </td><td> 18.91000   </td></tr>\n",
       "\t<tr><td>black       </td><td>356.67403162</td><td>362.174000  </td><td>391.645000  </td><td>364.809000  </td><td>385.021000  </td><td>356.60700   </td><td>340.221000  </td><td>369.763000  </td><td>305.724000  </td><td>325.861000  </td><td>267.65900   </td></tr>\n",
       "\t<tr><td>lstat       </td><td> 12.65306324</td><td> 10.939000  </td><td> 10.005000  </td><td> 10.407000  </td><td>  8.380000  </td><td> 12.65200   </td><td> 17.112000  </td><td> 11.642000  </td><td> 14.425000  </td><td> 15.672000  </td><td> 15.66500   </td></tr>\n",
       "\t<tr><td>medv        </td><td> 22.53280632</td><td> 23.090000  </td><td> 25.210000  </td><td> 23.110000  </td><td> 29.620000  </td><td> 19.88000   </td><td> 20.350000  </td><td> 24.130000  </td><td> 24.350000  </td><td> 20.140000  </td><td> 17.61000   </td></tr>\n",
       "</tbody>\n",
       "</table>\n"
      ],
      "text/latex": [
       "\\begin{tabular}{r|llllllllllll}\n",
       " feature & mean\\_ & mean\\_ 1 & mean\\_ 2 & mean\\_ 3 & mean\\_ 4 & mean\\_ 5 & mean\\_ 6 & mean\\_ 7 & mean\\_ 8 & mean\\_ 9 & mean\\_ 10\\\\\n",
       "\\hline\n",
       "\t crim         &   3.61352356 &   1.288574   &   0.137358   &   3.436462   &   0.192979   &   1.51248    &   4.819869   &   2.547393   &   9.120108   &   5.321743   &  13.19487   \\\\\n",
       "\t zn           &  11.36363636 &  10.500000   &  14.400000   &  14.700000   &  20.300000   &   6.40000    &   2.200000   &  29.700000   &  11.500000   &  22.600000   &  12.70000   \\\\\n",
       "\t indus        &  11.13677866 &  12.219000   &   6.262000   &   8.951000   &   5.549000   &  11.18700    &  12.938000   &   8.462000   &  12.536000   &  10.532000   &  13.96300   \\\\\n",
       "\t chas         &   0.06916996 &   0.000000   &   0.200000   &   0.000000   &   0.000000   &   0.00000    &   0.100000   &   0.000000   &   0.200000   &   0.000000   &   0.10000   \\\\\n",
       "\t nox          &   0.55469506 &   0.556700   &   0.478900   &   0.503100   &   0.485290   &   0.53160    &   0.564500   &   0.545800   &   0.630200   &   0.521800   &   0.63690   \\\\\n",
       "\t rm           &   6.28463439 &   6.343000   &   6.486200   &   6.128100   &   6.847600   &   6.29990    &   5.517900   &   6.371500   &   6.361800   &   6.239600   &   6.17410   \\\\\n",
       "\t age          &  68.57490119 &  60.550000   &  54.670000   &  65.080000   &  58.870000   &  65.69000    &  71.890000   &  53.880000   &  77.580000   &  64.590000   &  83.08000   \\\\\n",
       "\t dis          &   3.79504269 &   4.096890   &   5.172920   &   4.880600   &   4.572530   &   4.15768    &   3.299900   &   5.158050   &   2.774370   &   4.730860   &   3.34675   \\\\\n",
       "\t rad          &   9.54940711 &  10.600000   &   4.600000   &   9.300000   &   5.700000   &   6.20000    &  15.000000   &   8.800000   &  14.100000   &   9.900000   &  16.80000   \\\\\n",
       "\t tax          & 408.23715415 & 443.000000   & 283.800000   & 373.600000   & 321.200000   & 349.20000    & 506.400000   & 394.400000   & 487.900000   & 404.300000   & 526.80000   \\\\\n",
       "\t ptratio      &  18.45553360 &  19.080000   &  18.960000   &  19.210000   &  17.180000   &  19.27000    &  19.000000   &  17.550000   &  18.310000   &  18.990000   &  18.91000   \\\\\n",
       "\t black        & 356.67403162 & 362.174000   & 391.645000   & 364.809000   & 385.021000   & 356.60700    & 340.221000   & 369.763000   & 305.724000   & 325.861000   & 267.65900   \\\\\n",
       "\t lstat        &  12.65306324 &  10.939000   &  10.005000   &  10.407000   &   8.380000   &  12.65200    &  17.112000   &  11.642000   &  14.425000   &  15.672000   &  15.66500   \\\\\n",
       "\t medv         &  22.53280632 &  23.090000   &  25.210000   &  23.110000   &  29.620000   &  19.88000    &  20.350000   &  24.130000   &  24.350000   &  20.140000   &  17.61000   \\\\\n",
       "\\end{tabular}\n"
      ],
      "text/markdown": [
       "\n",
       "feature | mean_ | mean_ 1 | mean_ 2 | mean_ 3 | mean_ 4 | mean_ 5 | mean_ 6 | mean_ 7 | mean_ 8 | mean_ 9 | mean_ 10 | \n",
       "|---|---|---|---|---|---|---|---|---|---|---|---|---|---|\n",
       "| crim         |   3.61352356 |   1.288574   |   0.137358   |   3.436462   |   0.192979   |   1.51248    |   4.819869   |   2.547393   |   9.120108   |   5.321743   |  13.19487    | \n",
       "| zn           |  11.36363636 |  10.500000   |  14.400000   |  14.700000   |  20.300000   |   6.40000    |   2.200000   |  29.700000   |  11.500000   |  22.600000   |  12.70000    | \n",
       "| indus        |  11.13677866 |  12.219000   |   6.262000   |   8.951000   |   5.549000   |  11.18700    |  12.938000   |   8.462000   |  12.536000   |  10.532000   |  13.96300    | \n",
       "| chas         |   0.06916996 |   0.000000   |   0.200000   |   0.000000   |   0.000000   |   0.00000    |   0.100000   |   0.000000   |   0.200000   |   0.000000   |   0.10000    | \n",
       "| nox          |   0.55469506 |   0.556700   |   0.478900   |   0.503100   |   0.485290   |   0.53160    |   0.564500   |   0.545800   |   0.630200   |   0.521800   |   0.63690    | \n",
       "| rm           |   6.28463439 |   6.343000   |   6.486200   |   6.128100   |   6.847600   |   6.29990    |   5.517900   |   6.371500   |   6.361800   |   6.239600   |   6.17410    | \n",
       "| age          |  68.57490119 |  60.550000   |  54.670000   |  65.080000   |  58.870000   |  65.69000    |  71.890000   |  53.880000   |  77.580000   |  64.590000   |  83.08000    | \n",
       "| dis          |   3.79504269 |   4.096890   |   5.172920   |   4.880600   |   4.572530   |   4.15768    |   3.299900   |   5.158050   |   2.774370   |   4.730860   |   3.34675    | \n",
       "| rad          |   9.54940711 |  10.600000   |   4.600000   |   9.300000   |   5.700000   |   6.20000    |  15.000000   |   8.800000   |  14.100000   |   9.900000   |  16.80000    | \n",
       "| tax          | 408.23715415 | 443.000000   | 283.800000   | 373.600000   | 321.200000   | 349.20000    | 506.400000   | 394.400000   | 487.900000   | 404.300000   | 526.80000    | \n",
       "| ptratio      |  18.45553360 |  19.080000   |  18.960000   |  19.210000   |  17.180000   |  19.27000    |  19.000000   |  17.550000   |  18.310000   |  18.990000   |  18.91000    | \n",
       "| black        | 356.67403162 | 362.174000   | 391.645000   | 364.809000   | 385.021000   | 356.60700    | 340.221000   | 369.763000   | 305.724000   | 325.861000   | 267.65900    | \n",
       "| lstat        |  12.65306324 |  10.939000   |  10.005000   |  10.407000   |   8.380000   |  12.65200    |  17.112000   |  11.642000   |  14.425000   |  15.672000   |  15.66500    | \n",
       "| medv         |  22.53280632 |  23.090000   |  25.210000   |  23.110000   |  29.620000   |  19.88000    |  20.350000   |  24.130000   |  24.350000   |  20.140000   |  17.61000    | \n",
       "\n",
       "\n"
      ],
      "text/plain": [
       "   feature mean_        mean_ 1    mean_ 2    mean_ 3    mean_ 4    mean_ 5  \n",
       "1  crim      3.61352356   1.288574   0.137358   3.436462   0.192979   1.51248\n",
       "2  zn       11.36363636  10.500000  14.400000  14.700000  20.300000   6.40000\n",
       "3  indus    11.13677866  12.219000   6.262000   8.951000   5.549000  11.18700\n",
       "4  chas      0.06916996   0.000000   0.200000   0.000000   0.000000   0.00000\n",
       "5  nox       0.55469506   0.556700   0.478900   0.503100   0.485290   0.53160\n",
       "6  rm        6.28463439   6.343000   6.486200   6.128100   6.847600   6.29990\n",
       "7  age      68.57490119  60.550000  54.670000  65.080000  58.870000  65.69000\n",
       "8  dis       3.79504269   4.096890   5.172920   4.880600   4.572530   4.15768\n",
       "9  rad       9.54940711  10.600000   4.600000   9.300000   5.700000   6.20000\n",
       "10 tax     408.23715415 443.000000 283.800000 373.600000 321.200000 349.20000\n",
       "11 ptratio  18.45553360  19.080000  18.960000  19.210000  17.180000  19.27000\n",
       "12 black   356.67403162 362.174000 391.645000 364.809000 385.021000 356.60700\n",
       "13 lstat    12.65306324  10.939000  10.005000  10.407000   8.380000  12.65200\n",
       "14 medv     22.53280632  23.090000  25.210000  23.110000  29.620000  19.88000\n",
       "   mean_ 6    mean_ 7    mean_ 8    mean_ 9    mean_ 10 \n",
       "1    4.819869   2.547393   9.120108   5.321743  13.19487\n",
       "2    2.200000  29.700000  11.500000  22.600000  12.70000\n",
       "3   12.938000   8.462000  12.536000  10.532000  13.96300\n",
       "4    0.100000   0.000000   0.200000   0.000000   0.10000\n",
       "5    0.564500   0.545800   0.630200   0.521800   0.63690\n",
       "6    5.517900   6.371500   6.361800   6.239600   6.17410\n",
       "7   71.890000  53.880000  77.580000  64.590000  83.08000\n",
       "8    3.299900   5.158050   2.774370   4.730860   3.34675\n",
       "9   15.000000   8.800000  14.100000   9.900000  16.80000\n",
       "10 506.400000 394.400000 487.900000 404.300000 526.80000\n",
       "11  19.000000  17.550000  18.310000  18.990000  18.91000\n",
       "12 340.221000 369.763000 305.724000 325.861000 267.65900\n",
       "13  17.112000  11.642000  14.425000  15.672000  15.66500\n",
       "14  20.350000  24.130000  24.350000  20.140000  17.61000"
      ]
     },
     "metadata": {},
     "output_type": "display_data"
    }
   ],
   "source": [
    "sum_vals"
   ]
  },
  {
   "cell_type": "code",
   "execution_count": 23,
   "metadata": {},
   "outputs": [
    {
     "name": "stderr",
     "output_type": "stream",
     "text": [
      "Using feature as id variables\n"
     ]
    },
    {
     "data": {},
     "metadata": {},
     "output_type": "display_data"
    },
    {
     "data": {
      "image/png": "[encoded data removed]",
      "text/plain": [
       "plot without title"
      ]
     },
     "metadata": {},
     "output_type": "display_data"
    }
   ],
   "source": [
    "library(reshape2)\n",
    "library(ggplot2)\n",
    "\n",
    "ggplot(melt(sum_vals), aes(x = feature, y = value, fill = variable)) + \n",
    "    geom_bar(stat = \"identity\", width=0.5, position = \"dodge\")"
   ]
  },
  {
   "cell_type": "code",
   "execution_count": 24,
   "metadata": {},
   "outputs": [
    {
     "data": {
      "image/png": "[encoded data removed]",
      "text/plain": [
       "plot without title"
      ]
     },
     "metadata": {},
     "output_type": "display_data"
    }
   ],
   "source": [
    "pairs(sample_n(boston_df, 60))"
   ]
  },
  {
   "cell_type": "markdown",
   "metadata": {},
   "source": [
    "Strong negative correlation can be observed between the nitrogen oxide concentration and the weighted mean of distances to five Boston employment centers.\n",
    "A stong positive correlation exists for average number of rooms and the median value of the homeas well as the lower status of the population and the median value of the home."
   ]
  }
 ],
 "metadata": {
  "kernelspec": {
   "display_name": "R",
   "language": "R",
   "name": "ir"
  },
  "language_info": {
   "codemirror_mode": "r",
   "file_extension": ".r",
   "mimetype": "text/x-r-source",
   "name": "R",
   "pygments_lexer": "r",
   "version": "3.3.2"
  }
 },
 "nbformat": 4,
 "nbformat_minor": 2
}
