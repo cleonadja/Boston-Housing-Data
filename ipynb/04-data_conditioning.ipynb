{
 "cells": [
  {
   "cell_type": "code",
   "execution_count": 1,
   "metadata": {},
   "outputs": [],
   "source": [
    "boston_df = read.csv('/home/jovyan/Project3/data/bostonhousing.csv', header=FALSE, sep='')\n",
    "\n",
    "colnames(boston_df) = c('crim', 'zn', 'indus', 'chas', 'nox', 'rm', 'age', 'dis', 'rad', 'tax', 'ptratio', 'black','lstat', 'medv')"
   ]
  },
  {
   "cell_type": "code",
   "execution_count": 4,
   "metadata": {},
   "outputs": [],
   "source": [
    "library(dplyr, warn.conflicts = FALSE)\n",
    "library(moments)"
   ]
  },
  {
   "cell_type": "code",
   "execution_count": 18,
   "metadata": {},
   "outputs": [
    {
     "data": {
      "text/html": [
       "<table>\n",
       "<thead><tr><th scope=col>feature</th><th scope=col>mean_</th><th scope=col>sd_</th><th scope=col>skewness_</th><th scope=col>kurtosis_</th></tr></thead>\n",
       "<tbody>\n",
       "\t<tr><td>crim        </td><td>  3.61352356</td><td>  8.6015451 </td><td> 5.2076524  </td><td>39.752786   </td></tr>\n",
       "\t<tr><td>zn          </td><td> 11.36363636</td><td> 23.3224530 </td><td> 2.2190631  </td><td> 6.979949   </td></tr>\n",
       "\t<tr><td>indus       </td><td> 11.13677866</td><td>  6.8603529 </td><td> 0.2941463  </td><td> 1.766782   </td></tr>\n",
       "\t<tr><td>chas        </td><td>  0.06916996</td><td>  0.2539940 </td><td> 3.3957993  </td><td>12.531453   </td></tr>\n",
       "\t<tr><td>nox         </td><td>  0.55469506</td><td>  0.1158777 </td><td> 0.7271442  </td><td> 2.924136   </td></tr>\n",
       "\t<tr><td>rm          </td><td>  6.28463439</td><td>  0.7026171 </td><td> 0.4024147  </td><td> 4.861027   </td></tr>\n",
       "\t<tr><td>age         </td><td> 68.57490119</td><td> 28.1488614 </td><td>-0.5971856  </td><td> 2.029986   </td></tr>\n",
       "\t<tr><td>dis         </td><td>  3.79504269</td><td>  2.1057101 </td><td> 1.0087788  </td><td> 3.471299   </td></tr>\n",
       "\t<tr><td>rad         </td><td>  9.54940711</td><td>  8.7072594 </td><td> 1.0018335  </td><td> 2.129479   </td></tr>\n",
       "\t<tr><td>tax         </td><td>408.23715415</td><td>168.5371161 </td><td> 0.6679683  </td><td> 1.857015   </td></tr>\n",
       "\t<tr><td>ptratio     </td><td> 18.45553360</td><td>  2.1649455 </td><td>-0.7999445  </td><td> 2.705884   </td></tr>\n",
       "\t<tr><td>black       </td><td>356.67403162</td><td> 91.2948644 </td><td>-2.8817983  </td><td>10.143769   </td></tr>\n",
       "\t<tr><td>lstat       </td><td> 12.65306324</td><td>  7.1410615 </td><td> 0.9037707  </td><td> 3.476545   </td></tr>\n",
       "\t<tr><td>medv        </td><td> 22.53280632</td><td>  9.1971041 </td><td> 1.1048108  </td><td> 4.468629   </td></tr>\n",
       "</tbody>\n",
       "</table>\n"
      ],
      "text/latex": [
       "\\begin{tabular}{r|lllll}\n",
       " feature & mean\\_ & sd\\_ & skewness\\_ & kurtosis\\_\\\\\n",
       "\\hline\n",
       "\t crim         &   3.61352356 &   8.6015451  &  5.2076524   & 39.752786   \\\\\n",
       "\t zn           &  11.36363636 &  23.3224530  &  2.2190631   &  6.979949   \\\\\n",
       "\t indus        &  11.13677866 &   6.8603529  &  0.2941463   &  1.766782   \\\\\n",
       "\t chas         &   0.06916996 &   0.2539940  &  3.3957993   & 12.531453   \\\\\n",
       "\t nox          &   0.55469506 &   0.1158777  &  0.7271442   &  2.924136   \\\\\n",
       "\t rm           &   6.28463439 &   0.7026171  &  0.4024147   &  4.861027   \\\\\n",
       "\t age          &  68.57490119 &  28.1488614  & -0.5971856   &  2.029986   \\\\\n",
       "\t dis          &   3.79504269 &   2.1057101  &  1.0087788   &  3.471299   \\\\\n",
       "\t rad          &   9.54940711 &   8.7072594  &  1.0018335   &  2.129479   \\\\\n",
       "\t tax          & 408.23715415 & 168.5371161  &  0.6679683   &  1.857015   \\\\\n",
       "\t ptratio      &  18.45553360 &   2.1649455  & -0.7999445   &  2.705884   \\\\\n",
       "\t black        & 356.67403162 &  91.2948644  & -2.8817983   & 10.143769   \\\\\n",
       "\t lstat        &  12.65306324 &   7.1410615  &  0.9037707   &  3.476545   \\\\\n",
       "\t medv         &  22.53280632 &   9.1971041  &  1.1048108   &  4.468629   \\\\\n",
       "\\end{tabular}\n"
      ],
      "text/markdown": [
       "\n",
       "feature | mean_ | sd_ | skewness_ | kurtosis_ | \n",
       "|---|---|---|---|---|---|---|---|---|---|---|---|---|---|\n",
       "| crim         |   3.61352356 |   8.6015451  |  5.2076524   | 39.752786    | \n",
       "| zn           |  11.36363636 |  23.3224530  |  2.2190631   |  6.979949    | \n",
       "| indus        |  11.13677866 |   6.8603529  |  0.2941463   |  1.766782    | \n",
       "| chas         |   0.06916996 |   0.2539940  |  3.3957993   | 12.531453    | \n",
       "| nox          |   0.55469506 |   0.1158777  |  0.7271442   |  2.924136    | \n",
       "| rm           |   6.28463439 |   0.7026171  |  0.4024147   |  4.861027    | \n",
       "| age          |  68.57490119 |  28.1488614  | -0.5971856   |  2.029986    | \n",
       "| dis          |   3.79504269 |   2.1057101  |  1.0087788   |  3.471299    | \n",
       "| rad          |   9.54940711 |   8.7072594  |  1.0018335   |  2.129479    | \n",
       "| tax          | 408.23715415 | 168.5371161  |  0.6679683   |  1.857015    | \n",
       "| ptratio      |  18.45553360 |   2.1649455  | -0.7999445   |  2.705884    | \n",
       "| black        | 356.67403162 |  91.2948644  | -2.8817983   | 10.143769    | \n",
       "| lstat        |  12.65306324 |   7.1410615  |  0.9037707   |  3.476545    | \n",
       "| medv         |  22.53280632 |   9.1971041  |  1.1048108   |  4.468629    | \n",
       "\n",
       "\n"
      ],
      "text/plain": [
       "   feature mean_        sd_         skewness_  kurtosis_\n",
       "1  crim      3.61352356   8.6015451  5.2076524 39.752786\n",
       "2  zn       11.36363636  23.3224530  2.2190631  6.979949\n",
       "3  indus    11.13677866   6.8603529  0.2941463  1.766782\n",
       "4  chas      0.06916996   0.2539940  3.3957993 12.531453\n",
       "5  nox       0.55469506   0.1158777  0.7271442  2.924136\n",
       "6  rm        6.28463439   0.7026171  0.4024147  4.861027\n",
       "7  age      68.57490119  28.1488614 -0.5971856  2.029986\n",
       "8  dis       3.79504269   2.1057101  1.0087788  3.471299\n",
       "9  rad       9.54940711   8.7072594  1.0018335  2.129479\n",
       "10 tax     408.23715415 168.5371161  0.6679683  1.857015\n",
       "11 ptratio  18.45553360   2.1649455 -0.7999445  2.705884\n",
       "12 black   356.67403162  91.2948644 -2.8817983 10.143769\n",
       "13 lstat    12.65306324   7.1410615  0.9037707  3.476545\n",
       "14 medv     22.53280632   9.1971041  1.1048108  4.468629"
      ]
     },
     "metadata": {},
     "output_type": "display_data"
    }
   ],
   "source": [
    "stats = data.frame(feature=colnames(boston_df))\n",
    "stats['mean_'] = sapply(boston_df, mean)\n",
    "stats['sd_'] = sapply(boston_df, sd)\n",
    "stats['skewness_'] = sapply(boston_df, skewness)\n",
    "stats['kurtosis_'] = sapply(boston_df, kurtosis)\n",
    "stats"
   ]
  },
  {
   "cell_type": "markdown",
   "metadata": {},
   "source": [
    "# MANY OF THE TOOLS WE WILL USE WILL ASSUME NORMAL DATA"
   ]
  },
  {
   "cell_type": "code",
   "execution_count": 19,
   "metadata": {},
   "outputs": [],
   "source": [
    "library(ggplot2)"
   ]
  },
  {
   "cell_type": "code",
   "execution_count": 20,
   "metadata": {},
   "outputs": [],
   "source": [
    "library(repr)\n",
    "options(repr.plot.width=10, repr.plot.height=2) "
   ]
  },
  {
   "cell_type": "code",
   "execution_count": 21,
   "metadata": {},
   "outputs": [],
   "source": [
    "#source('multiplot.r')"
   ]
  },
  {
   "cell_type": "code",
   "execution_count": 25,
   "metadata": {},
   "outputs": [],
   "source": [
    "original_v_scaled <- function (feature) {\n",
    "    original_feature <- as.vector(boston_df[[feature]])\n",
    "    scaled_feature <- as.vector(boston_sc_df[[feature]])\n",
    "    p1 <- qplot(original_feature, geom=\"histogram\", bins=200, alpha=I(.4),)+\n",
    "        geom_vline(aes(xintercept=mean(original_feature)), color=\"red\", linetype=\"dashed\", size=1)+\n",
    "        geom_vline(aes(xintercept=median(original_feature)), color=\"blue\", linetype=\"dashed\", size=1)+\n",
    "        ggtitle(paste(\"Original Distribution of\", feature))\n",
    "    p2 <- qplot(scaled_feature, geom=\"histogram\", bins=200, alpha=I(.4),)+\n",
    "        geom_vline(aes(xintercept=mean(scaled_feature)), color=\"red\", linetype=\"dashed\", size=1)+\n",
    "        geom_vline(aes(xintercept=median(scaled_feature)), color=\"blue\", linetype=\"dashed\", size=1)  +\n",
    "        ggtitle(paste(\"Scaled Distribution of\", feature))  \n",
    "    multiplot(p1, p2, cols=2)\n",
    "}\n"
   ]
  },
  {
   "cell_type": "code",
   "execution_count": 26,
   "metadata": {},
   "outputs": [
    {
     "ename": "ERROR",
     "evalue": "Error in original_v_scaled(\"crim\"): could not find function \"multiplot\"\n",
     "output_type": "error",
     "traceback": [
      "Error in original_v_scaled(\"crim\"): could not find function \"multiplot\"\nTraceback:\n",
      "1. original_v_scaled(\"crim\")"
     ]
    }
   ],
   "source": [
    "original_v_scaled('crim')\n",
    "original_v_scaled('zn')\n",
    "original_v_scaled('indus')\n",
    "original_v_scaled('chas')\n",
    "original_v_scaled('nox')\n",
    "original_v_scaled('rm')\n",
    "original_v_scaled('age')\n",
    "original_v_scaled('dis')\n",
    "original_v_scaled('rad')\n",
    "original_v_scaled('tax')\n",
    "original_v_scaled('ptratio')\n",
    "original_v_scaled('black')\n",
    "original_v_scaled('lstat')\n",
    "original_v_scaled('medv')"
   ]
  },
  {
   "cell_type": "markdown",
   "metadata": {},
   "source": [
    "Another way we can verify this is via a test of skewness.\n",
    "\n",
    "To perform this test we can use the scipy.stats.skewtest.\n",
    "\n",
    "This function tests the null hypothesis that the skewness of the population that the sample was drawn from is the same as that of a corresponding normal distribution. Remember, a low p-value means reject the null hypothesis i.e the data is skewed!"
   ]
  },
  {
   "cell_type": "code",
   "execution_count": 24,
   "metadata": {},
   "outputs": [
    {
     "ename": "ERROR",
     "evalue": "Error in is.data.frame(x): object 'boston_sc_df' not found\n",
     "output_type": "error",
     "traceback": [
      "Error in is.data.frame(x): object 'boston_sc_df' not found\nTraceback:\n",
      "1. data.frame(feature = colnames(boston_sc_df))",
      "2. colnames(boston_sc_df)",
      "3. is.data.frame(x)"
     ]
    }
   ],
   "source": [
    "skewness_ = data.frame(feature=colnames(boston_sc_df))\n",
    "skewness_['skew_'] = sapply(boston_df, skewness)\n",
    "skewness_['skew_sc'] = sapply(boston_sc_df, skewness)\n",
    "skewness_"
   ]
  },
  {
   "cell_type": "markdown",
   "metadata": {},
   "source": [
    "## Deskew by taking the log of the data"
   ]
  },
  {
   "cell_type": "code",
   "execution_count": null,
   "metadata": {},
   "outputs": [],
   "source": [
    "boston_log_df = log(boston_df)\n",
    "boston_log_sc_df = data.frame(scale(boston_log_df))"
   ]
  },
  {
   "cell_type": "code",
   "execution_count": null,
   "metadata": {},
   "outputs": [],
   "source": [
    "skewness_['skew_log_'] = sapply(boston_log_df, skewness)\n",
    "skewness_['skew_log_sc'] = sapply(boston_log_sc_df, skewness)\n",
    "skewness_"
   ]
  },
  {
   "cell_type": "code",
   "execution_count": null,
   "metadata": {},
   "outputs": [],
   "source": [
    "original_v_scaled_v_log <- function (feature) {\n",
    "    original_feature <- as.vector(boston_df[[feature]])\n",
    "    scaled_feature <- as.vector(boston_sc_df[[feature]])\n",
    "    log_feature <- as.vector(boston_log_df[[feature]])\n",
    "    log_scaled_feature <- as.vector(boston_log_sc_df[[feature]])\n",
    "    p1 <- qplot(original_feature, geom=\"histogram\", bins=200, alpha=I(.4),)+\n",
    "        geom_vline(aes(xintercept=mean(original_feature)), color=\"red\", linetype=\"dashed\", size=1)+\n",
    "        geom_vline(aes(xintercept=median(original_feature)), color=\"blue\", linetype=\"dashed\", size=1)+\n",
    "        ggtitle(paste(\"Original Distribution of\", feature))\n",
    "    p2 <- qplot(scaled_feature, geom=\"histogram\", bins=200, alpha=I(.4),)+\n",
    "        geom_vline(aes(xintercept=mean(scaled_feature)), color=\"red\", linetype=\"dashed\", size=1)+\n",
    "        geom_vline(aes(xintercept=median(scaled_feature)), color=\"blue\", linetype=\"dashed\", size=1)  +\n",
    "        ggtitle(paste(\"Scaled Distribution of\", feature))  \n",
    "    p3 <- qplot(log_feature, geom=\"histogram\", bins=200, alpha=I(.4),)+\n",
    "        geom_vline(aes(xintercept=mean(log_feature)), color=\"red\", linetype=\"dashed\", size=1)+\n",
    "        geom_vline(aes(xintercept=median(log_feature)), color=\"blue\", linetype=\"dashed\", size=1)+\n",
    "        ggtitle(paste(\"Log Distribution of\", feature))\n",
    "    p4 <- qplot(log_scaled_feature, geom=\"histogram\", bins=200, alpha=I(.4),)+\n",
    "        geom_vline(aes(xintercept=mean(log_scaled_feature)), color=\"red\", linetype=\"dashed\", size=1)+\n",
    "        geom_vline(aes(xintercept=median(log_scaled_feature)), color=\"blue\", linetype=\"dashed\", size=1)  +\n",
    "        ggtitle(paste(\"Log Scaled Distribution of\", feature))  \n",
    "    multiplot(p1, p2, p3, p4, cols=4)\n",
    "}\n"
   ]
  },
  {
   "cell_type": "code",
   "execution_count": 3,
   "metadata": {},
   "outputs": [
    {
     "ename": "ERROR",
     "evalue": "Error in eval(expr, envir, enclos): could not find function \"original_v_scaled_v_log\"\n",
     "output_type": "error",
     "traceback": [
      "Error in eval(expr, envir, enclos): could not find function \"original_v_scaled_v_log\"\nTraceback:\n"
     ]
    }
   ],
   "source": [
    "original_v_scaled_v_log('crim')\n",
    "original_v_scaled_v_log('zn')\n",
    "original_v_scaled_v_log('indus')\n",
    "original_v_scaled_v_log('chas')\n",
    "original_v_scaled_v_log('nox')\n",
    "original_v_scaled_v_log('rm')\n",
    "original_v_scaled_v_log('age')\n",
    "original_v_scaled_v_log('dis')\n",
    "original_v_scaled_v_log('rad')\n",
    "original_v_scaled_v_log('tax')\n",
    "original_v_scaled_v_log('ptratio')\n",
    "original_v_scaled_v_log('black')\n",
    "original_v_scaled_v_log('lstat')\n",
    "original_v_scaled_v_log('medv')"
   ]
  },
  {
   "cell_type": "code",
   "execution_count": null,
   "metadata": {},
   "outputs": [],
   "source": []
  }
 ],
 "metadata": {
  "kernelspec": {
   "display_name": "R",
   "language": "R",
   "name": "ir"
  },
  "language_info": {
   "codemirror_mode": "r",
   "file_extension": ".r",
   "mimetype": "text/x-r-source",
   "name": "R",
   "pygments_lexer": "r",
   "version": "3.3.2"
  }
 },
 "nbformat": 4,
 "nbformat_minor": 2
}
