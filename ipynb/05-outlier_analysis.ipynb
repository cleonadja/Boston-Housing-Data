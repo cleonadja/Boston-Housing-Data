{
 "cells": [
  {
   "cell_type": "markdown",
   "metadata": {},
   "source": [
    "Outlier Analysis (Extra Credit)\n",
    "\n",
    "Use Tukey's method to identify outliers for each feature.\n",
    "\n",
    "Identify each instance that is an outlier for more than one feature.\n",
    "\n",
    "Assess what percentage of the total data are outliers for:\n",
    "1) one feature\n",
    "2) two features\n",
    "3) other\n",
    "\n",
    "Come up with a plan for handling outliers."
   ]
  }
 ],
 "metadata": {
  "kernelspec": {
   "display_name": "R",
   "language": "R",
   "name": "ir"
  },
  "language_info": {
   "codemirror_mode": "r",
   "file_extension": ".r",
   "mimetype": "text/x-r-source",
   "name": "R",
   "pygments_lexer": "r",
   "version": "3.3.2"
  }
 },
 "nbformat": 4,
 "nbformat_minor": 2
}
