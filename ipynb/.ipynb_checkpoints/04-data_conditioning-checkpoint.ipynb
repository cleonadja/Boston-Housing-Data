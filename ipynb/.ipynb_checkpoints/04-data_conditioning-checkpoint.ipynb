{
 "cells": [
  {
   "cell_type": "code",
   "execution_count": 1,
   "metadata": {},
   "outputs": [],
   "source": [
    "boston_df = read.csv('/home/jovyan/Project3/data/bostonhousing.csv', header=FALSE, sep='')\n",
    "\n",
    "colnames(boston_df) = c('crim', 'zn', 'indus', 'chas', 'nox', 'rm', 'age', 'dis', 'rad', 'tax', 'ptratio', 'black','lstat', 'medv')"
   ]
  },
  {
   "cell_type": "code",
   "execution_count": 2,
   "metadata": {},
   "outputs": [],
   "source": [
    "library(dplyr, warn.conflicts = FALSE)\n",
    "library(moments)"
   ]
  },
  {
   "cell_type": "code",
   "execution_count": null,
   "metadata": {},
   "outputs": [],
   "source": [
    "customer_samp_df = sample_n(boston_df, 5)"
   ]
  },
  {
   "cell_type": "code",
   "execution_count": null,
   "metadata": {},
   "outputs": [],
   "source": [
    "stats = data.frame(feature=colnames(boston_samp_df))\n",
    "stats['mean_'] = sapply(boston_samp_df, mean)\n",
    "stats['sd_'] = sapply(boston_samp_df, sd)\n",
    "stats['skewness_'] = sapply(boston_samp_df, skewness)\n",
    "stats"
   ]
  },
  {
   "cell_type": "code",
   "execution_count": null,
   "metadata": {},
   "outputs": [],
   "source": [
    "stats = data.frame(feature=colnames(boston_df))\n",
    "stats['mean_'] = sapply(boston_df, mean)\n",
    "stats['sd_'] = sapply(boston_df, sd)\n",
    "stats['skewness_'] = sapply(boston_df, skewness)\n",
    "stats['kurtosis_'] = sapply(boston_df, kurtosis)\n",
    "stats"
   ]
  },
  {
   "cell_type": "markdown",
   "metadata": {},
   "source": [
    "# MANY OF THE TOOLS WE WILL USE WILL ASSUME NORMAL DATA"
   ]
  },
  {
   "cell_type": "code",
   "execution_count": null,
   "metadata": {},
   "outputs": [],
   "source": [
    "library(ggplot2)"
   ]
  },
  {
   "cell_type": "code",
   "execution_count": null,
   "metadata": {},
   "outputs": [],
   "source": [
    "library(repr)\n",
    "options(repr.plot.width=10, repr.plot.height=2) "
   ]
  },
  {
   "cell_type": "code",
   "execution_count": null,
   "metadata": {},
   "outputs": [],
   "source": [
    "source('multiplot.r')"
   ]
  },
  {
   "cell_type": "code",
   "execution_count": null,
   "metadata": {},
   "outputs": [],
   "source": [
    "original_v_scaled <- function (feature) {\n",
    "    original_feature <- as.vector(customer_df[[feature]])\n",
    "    scaled_feature <- as.vector(customer_sc_df[[feature]])\n",
    "    p1 <- qplot(original_feature, geom=\"histogram\", bins=200, alpha=I(.4),)+\n",
    "        geom_vline(aes(xintercept=mean(original_feature)), color=\"red\", linetype=\"dashed\", size=1)+\n",
    "        geom_vline(aes(xintercept=median(original_feature)), color=\"blue\", linetype=\"dashed\", size=1)+\n",
    "        ggtitle(paste(\"Original Distribution of\", feature))\n",
    "    p2 <- qplot(scaled_feature, geom=\"histogram\", bins=200, alpha=I(.4),)+\n",
    "        geom_vline(aes(xintercept=mean(scaled_feature)), color=\"red\", linetype=\"dashed\", size=1)+\n",
    "        geom_vline(aes(xintercept=median(scaled_feature)), color=\"blue\", linetype=\"dashed\", size=1)  +\n",
    "        ggtitle(paste(\"Scaled Distribution of\", feature))  \n",
    "    multiplot(p1, p2, cols=2)\n",
    "}\n"
   ]
  },
  {
   "cell_type": "code",
   "execution_count": null,
   "metadata": {},
   "outputs": [],
   "source": [
    "original_v_scaled('crim')\n",
    "original_v_scaled('zn')\n",
    "original_v_scaled('indus')\n",
    "original_v_scaled('chas')\n",
    "original_v_scaled('nox')\n",
    "original_v_scaled('rm')\n",
    "original_v_scaled('age')\n",
    "original_v_scaled('dis')\n",
    "original_v_scaled('rad')\n",
    "original_v_scaled('tax')\n",
    "original_v_scaled('ptratio')\n",
    "original_v_scaled('black')\n",
    "original_v_scaled('lstat')\n",
    "original_v_scaled('medv')"
   ]
  },
  {
   "cell_type": "markdown",
   "metadata": {},
   "source": [
    "Another way we can verify this is via a test of skewness.\n",
    "\n",
    "To perform this test we can use the scipy.stats.skewtest.\n",
    "\n",
    "This function tests the null hypothesis that the skewness of the population that the sample was drawn from is the same as that of a corresponding normal distribution. Remember, a low p-value means reject the null hypothesis i.e the data is skewed!"
   ]
  },
  {
   "cell_type": "code",
   "execution_count": null,
   "metadata": {},
   "outputs": [],
   "source": [
    "skewness_ = data.frame(feature=colnames(boston_sc_df))\n",
    "skewness_['skew_'] = sapply(boston_df, skewness)\n",
    "skewness_['skew_sc'] = sapply(boston_sc_df, skewness)\n",
    "skewness_"
   ]
  },
  {
   "cell_type": "markdown",
   "metadata": {},
   "source": [
    "## Deskew by taking the log of the data"
   ]
  },
  {
   "cell_type": "code",
   "execution_count": null,
   "metadata": {},
   "outputs": [],
   "source": [
    "boston_log_df = log(boston_df)\n",
    "boston_log_sc_df = data.frame(scale(boston_log_df))"
   ]
  },
  {
   "cell_type": "code",
   "execution_count": null,
   "metadata": {},
   "outputs": [],
   "source": [
    "skewness_['skew_log_'] = sapply(boston_log_df, skewness)\n",
    "skewness_['skew_log_sc'] = sapply(boston_log_sc_df, skewness)\n",
    "skewness_"
   ]
  },
  {
   "cell_type": "code",
   "execution_count": null,
   "metadata": {},
   "outputs": [],
   "source": [
    "original_v_scaled_v_log <- function (feature) {\n",
    "    original_feature <- as.vector(boston_df[[feature]])\n",
    "    scaled_feature <- as.vector(boston_sc_df[[feature]])\n",
    "    log_feature <- as.vector(boston_log_df[[feature]])\n",
    "    log_scaled_feature <- as.vector(boston_log_sc_df[[feature]])\n",
    "    p1 <- qplot(original_feature, geom=\"histogram\", bins=200, alpha=I(.4),)+\n",
    "        geom_vline(aes(xintercept=mean(original_feature)), color=\"red\", linetype=\"dashed\", size=1)+\n",
    "        geom_vline(aes(xintercept=median(original_feature)), color=\"blue\", linetype=\"dashed\", size=1)+\n",
    "        ggtitle(paste(\"Original Distribution of\", feature))\n",
    "    p2 <- qplot(scaled_feature, geom=\"histogram\", bins=200, alpha=I(.4),)+\n",
    "        geom_vline(aes(xintercept=mean(scaled_feature)), color=\"red\", linetype=\"dashed\", size=1)+\n",
    "        geom_vline(aes(xintercept=median(scaled_feature)), color=\"blue\", linetype=\"dashed\", size=1)  +\n",
    "        ggtitle(paste(\"Scaled Distribution of\", feature))  \n",
    "    p3 <- qplot(log_feature, geom=\"histogram\", bins=200, alpha=I(.4),)+\n",
    "        geom_vline(aes(xintercept=mean(log_feature)), color=\"red\", linetype=\"dashed\", size=1)+\n",
    "        geom_vline(aes(xintercept=median(log_feature)), color=\"blue\", linetype=\"dashed\", size=1)+\n",
    "        ggtitle(paste(\"Log Distribution of\", feature))\n",
    "    p4 <- qplot(log_scaled_feature, geom=\"histogram\", bins=200, alpha=I(.4),)+\n",
    "        geom_vline(aes(xintercept=mean(log_scaled_feature)), color=\"red\", linetype=\"dashed\", size=1)+\n",
    "        geom_vline(aes(xintercept=median(log_scaled_feature)), color=\"blue\", linetype=\"dashed\", size=1)  +\n",
    "        ggtitle(paste(\"Log Scaled Distribution of\", feature))  \n",
    "    multiplot(p1, p2, p3, p4, cols=4)\n",
    "}\n"
   ]
  },
  {
   "cell_type": "code",
   "execution_count": 3,
   "metadata": {},
   "outputs": [
    {
     "ename": "ERROR",
     "evalue": "Error in eval(expr, envir, enclos): could not find function \"original_v_scaled_v_log\"\n",
     "output_type": "error",
     "traceback": [
      "Error in eval(expr, envir, enclos): could not find function \"original_v_scaled_v_log\"\nTraceback:\n"
     ]
    }
   ],
   "source": [
    "original_v_scaled_v_log('crim')\n",
    "original_v_scaled_v_log('zn')\n",
    "original_v_scaled_v_log('indus')\n",
    "original_v_scaled_v_log('chas')\n",
    "original_v_scaled_v_log('nox')\n",
    "original_v_scaled_v_log('rm')\n",
    "original_v_scaled_v_log('age')\n",
    "original_v_scaled_v_log('dis')\n",
    "original_v_scaled_v_log('rad')\n",
    "original_v_scaled_v_log('tax')\n",
    "original_v_scaled_v_log('ptratio')\n",
    "original_v_scaled_v_log('black')\n",
    "original_v_scaled_v_log('lstat')\n",
    "original_v_scaled_v_log('medv')"
   ]
  },
  {
   "cell_type": "code",
   "execution_count": null,
   "metadata": {},
   "outputs": [],
   "source": []
  }
 ],
 "metadata": {
  "kernelspec": {
   "display_name": "R",
   "language": "R",
   "name": "ir"
  },
  "language_info": {
   "codemirror_mode": "r",
   "file_extension": ".r",
   "mimetype": "text/x-r-source",
   "name": "R",
   "pygments_lexer": "r",
   "version": "3.3.2"
  }
 },
 "nbformat": 4,
 "nbformat_minor": 2
}
