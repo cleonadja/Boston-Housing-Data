{
 "cells": [
  {
   "cell_type": "code",
   "execution_count": 3,
   "metadata": {},
   "outputs": [],
   "source": [
    "boston_df = read.csv('/home/jovyan/Project3/data/bostonhousing.csv', header=FALSE, sep='')\n",
    "\n",
    "colnames(boston_df) = c('crim', 'zn', 'indus', 'chas', 'nox', 'rm', 'age', 'dis', 'rad', 'tax', 'ptratio', 'black','lstat', 'medv')"
   ]
  },
  {
   "cell_type": "code",
   "execution_count": 21,
   "metadata": {},
   "outputs": [
    {
     "data": {
      "text/html": [
       "<table>\n",
       "<thead><tr><th scope=col>crim</th><th scope=col>zn</th><th scope=col>indus</th><th scope=col>chas</th><th scope=col>nox</th><th scope=col>rm</th><th scope=col>age</th><th scope=col>dis</th><th scope=col>rad</th><th scope=col>tax</th><th scope=col>ptratio</th><th scope=col>black</th><th scope=col>lstat</th><th scope=col>medv</th></tr></thead>\n",
       "<tbody>\n",
       "\t<tr><td>0.00632</td><td>18     </td><td>2.31   </td><td>0      </td><td>0.538  </td><td>6.575  </td><td>65.2   </td><td>4.0900 </td><td>1      </td><td>296    </td><td>15.3   </td><td>396.90 </td><td>4.98   </td><td>24.0   </td></tr>\n",
       "\t<tr><td>0.02731</td><td> 0     </td><td>7.07   </td><td>0      </td><td>0.469  </td><td>6.421  </td><td>78.9   </td><td>4.9671 </td><td>2      </td><td>242    </td><td>17.8   </td><td>396.90 </td><td>9.14   </td><td>21.6   </td></tr>\n",
       "\t<tr><td>0.02729</td><td> 0     </td><td>7.07   </td><td>0      </td><td>0.469  </td><td>7.185  </td><td>61.1   </td><td>4.9671 </td><td>2      </td><td>242    </td><td>17.8   </td><td>392.83 </td><td>4.03   </td><td>34.7   </td></tr>\n",
       "\t<tr><td>0.03237</td><td> 0     </td><td>2.18   </td><td>0      </td><td>0.458  </td><td>6.998  </td><td>45.8   </td><td>6.0622 </td><td>3      </td><td>222    </td><td>18.7   </td><td>394.63 </td><td>2.94   </td><td>33.4   </td></tr>\n",
       "\t<tr><td>0.06905</td><td> 0     </td><td>2.18   </td><td>0      </td><td>0.458  </td><td>7.147  </td><td>54.2   </td><td>6.0622 </td><td>3      </td><td>222    </td><td>18.7   </td><td>396.90 </td><td>5.33   </td><td>36.2   </td></tr>\n",
       "</tbody>\n",
       "</table>\n"
      ],
      "text/latex": [
       "\\begin{tabular}{r|llllllllllllll}\n",
       " crim & zn & indus & chas & nox & rm & age & dis & rad & tax & ptratio & black & lstat & medv\\\\\n",
       "\\hline\n",
       "\t 0.00632 & 18      & 2.31    & 0       & 0.538   & 6.575   & 65.2    & 4.0900  & 1       & 296     & 15.3    & 396.90  & 4.98    & 24.0   \\\\\n",
       "\t 0.02731 &  0      & 7.07    & 0       & 0.469   & 6.421   & 78.9    & 4.9671  & 2       & 242     & 17.8    & 396.90  & 9.14    & 21.6   \\\\\n",
       "\t 0.02729 &  0      & 7.07    & 0       & 0.469   & 7.185   & 61.1    & 4.9671  & 2       & 242     & 17.8    & 392.83  & 4.03    & 34.7   \\\\\n",
       "\t 0.03237 &  0      & 2.18    & 0       & 0.458   & 6.998   & 45.8    & 6.0622  & 3       & 222     & 18.7    & 394.63  & 2.94    & 33.4   \\\\\n",
       "\t 0.06905 &  0      & 2.18    & 0       & 0.458   & 7.147   & 54.2    & 6.0622  & 3       & 222     & 18.7    & 396.90  & 5.33    & 36.2   \\\\\n",
       "\\end{tabular}\n"
      ],
      "text/markdown": [
       "\n",
       "crim | zn | indus | chas | nox | rm | age | dis | rad | tax | ptratio | black | lstat | medv | \n",
       "|---|---|---|---|---|\n",
       "| 0.00632 | 18      | 2.31    | 0       | 0.538   | 6.575   | 65.2    | 4.0900  | 1       | 296     | 15.3    | 396.90  | 4.98    | 24.0    | \n",
       "| 0.02731 |  0      | 7.07    | 0       | 0.469   | 6.421   | 78.9    | 4.9671  | 2       | 242     | 17.8    | 396.90  | 9.14    | 21.6    | \n",
       "| 0.02729 |  0      | 7.07    | 0       | 0.469   | 7.185   | 61.1    | 4.9671  | 2       | 242     | 17.8    | 392.83  | 4.03    | 34.7    | \n",
       "| 0.03237 |  0      | 2.18    | 0       | 0.458   | 6.998   | 45.8    | 6.0622  | 3       | 222     | 18.7    | 394.63  | 2.94    | 33.4    | \n",
       "| 0.06905 |  0      | 2.18    | 0       | 0.458   | 7.147   | 54.2    | 6.0622  | 3       | 222     | 18.7    | 396.90  | 5.33    | 36.2    | \n",
       "\n",
       "\n"
      ],
      "text/plain": [
       "  crim    zn indus chas nox   rm    age  dis    rad tax ptratio black  lstat\n",
       "1 0.00632 18 2.31  0    0.538 6.575 65.2 4.0900 1   296 15.3    396.90 4.98 \n",
       "2 0.02731  0 7.07  0    0.469 6.421 78.9 4.9671 2   242 17.8    396.90 9.14 \n",
       "3 0.02729  0 7.07  0    0.469 7.185 61.1 4.9671 2   242 17.8    392.83 4.03 \n",
       "4 0.03237  0 2.18  0    0.458 6.998 45.8 6.0622 3   222 18.7    394.63 2.94 \n",
       "5 0.06905  0 2.18  0    0.458 7.147 54.2 6.0622 3   222 18.7    396.90 5.33 \n",
       "  medv\n",
       "1 24.0\n",
       "2 21.6\n",
       "3 34.7\n",
       "4 33.4\n",
       "5 36.2"
      ]
     },
     "metadata": {},
     "output_type": "display_data"
    }
   ],
   "source": [
    "head(boston_df,5)"
   ]
  },
  {
   "cell_type": "code",
   "execution_count": 37,
   "metadata": {},
   "outputs": [
    {
     "data": {
      "text/html": [
       "<table>\n",
       "<thead><tr><th scope=col>feature</th><th scope=col>mean_</th><th scope=col>sd_</th><th scope=col>skewness_</th></tr></thead>\n",
       "<tbody>\n",
       "\t<tr><td>crim        </td><td>  3.61352356</td><td>  8.6015451 </td><td> 5.2076524  </td></tr>\n",
       "\t<tr><td>zn          </td><td> 11.36363636</td><td> 23.3224530 </td><td> 2.2190631  </td></tr>\n",
       "\t<tr><td>indus       </td><td> 11.13677866</td><td>  6.8603529 </td><td> 0.2941463  </td></tr>\n",
       "\t<tr><td>chas        </td><td>  0.06916996</td><td>  0.2539940 </td><td> 3.3957993  </td></tr>\n",
       "\t<tr><td>nox         </td><td>  0.55469506</td><td>  0.1158777 </td><td> 0.7271442  </td></tr>\n",
       "\t<tr><td>rm          </td><td>  6.28463439</td><td>  0.7026171 </td><td> 0.4024147  </td></tr>\n",
       "\t<tr><td>age         </td><td> 68.57490119</td><td> 28.1488614 </td><td>-0.5971856  </td></tr>\n",
       "\t<tr><td>dis         </td><td>  3.79504269</td><td>  2.1057101 </td><td> 1.0087788  </td></tr>\n",
       "\t<tr><td>rad         </td><td>  9.54940711</td><td>  8.7072594 </td><td> 1.0018335  </td></tr>\n",
       "\t<tr><td>tax         </td><td>408.23715415</td><td>168.5371161 </td><td> 0.6679683  </td></tr>\n",
       "\t<tr><td>ptratio     </td><td> 18.45553360</td><td>  2.1649455 </td><td>-0.7999445  </td></tr>\n",
       "\t<tr><td>black       </td><td>356.67403162</td><td> 91.2948644 </td><td>-2.8817983  </td></tr>\n",
       "\t<tr><td>lstat       </td><td> 12.65306324</td><td>  7.1410615 </td><td> 0.9037707  </td></tr>\n",
       "\t<tr><td>medv        </td><td> 22.53280632</td><td>  9.1971041 </td><td> 1.1048108  </td></tr>\n",
       "</tbody>\n",
       "</table>\n"
      ],
      "text/latex": [
       "\\begin{tabular}{r|llll}\n",
       " feature & mean\\_ & sd\\_ & skewness\\_\\\\\n",
       "\\hline\n",
       "\t crim         &   3.61352356 &   8.6015451  &  5.2076524  \\\\\n",
       "\t zn           &  11.36363636 &  23.3224530  &  2.2190631  \\\\\n",
       "\t indus        &  11.13677866 &   6.8603529  &  0.2941463  \\\\\n",
       "\t chas         &   0.06916996 &   0.2539940  &  3.3957993  \\\\\n",
       "\t nox          &   0.55469506 &   0.1158777  &  0.7271442  \\\\\n",
       "\t rm           &   6.28463439 &   0.7026171  &  0.4024147  \\\\\n",
       "\t age          &  68.57490119 &  28.1488614  & -0.5971856  \\\\\n",
       "\t dis          &   3.79504269 &   2.1057101  &  1.0087788  \\\\\n",
       "\t rad          &   9.54940711 &   8.7072594  &  1.0018335  \\\\\n",
       "\t tax          & 408.23715415 & 168.5371161  &  0.6679683  \\\\\n",
       "\t ptratio      &  18.45553360 &   2.1649455  & -0.7999445  \\\\\n",
       "\t black        & 356.67403162 &  91.2948644  & -2.8817983  \\\\\n",
       "\t lstat        &  12.65306324 &   7.1410615  &  0.9037707  \\\\\n",
       "\t medv         &  22.53280632 &   9.1971041  &  1.1048108  \\\\\n",
       "\\end{tabular}\n"
      ],
      "text/markdown": [
       "\n",
       "feature | mean_ | sd_ | skewness_ | \n",
       "|---|---|---|---|---|---|---|---|---|---|---|---|---|---|\n",
       "| crim         |   3.61352356 |   8.6015451  |  5.2076524   | \n",
       "| zn           |  11.36363636 |  23.3224530  |  2.2190631   | \n",
       "| indus        |  11.13677866 |   6.8603529  |  0.2941463   | \n",
       "| chas         |   0.06916996 |   0.2539940  |  3.3957993   | \n",
       "| nox          |   0.55469506 |   0.1158777  |  0.7271442   | \n",
       "| rm           |   6.28463439 |   0.7026171  |  0.4024147   | \n",
       "| age          |  68.57490119 |  28.1488614  | -0.5971856   | \n",
       "| dis          |   3.79504269 |   2.1057101  |  1.0087788   | \n",
       "| rad          |   9.54940711 |   8.7072594  |  1.0018335   | \n",
       "| tax          | 408.23715415 | 168.5371161  |  0.6679683   | \n",
       "| ptratio      |  18.45553360 |   2.1649455  | -0.7999445   | \n",
       "| black        | 356.67403162 |  91.2948644  | -2.8817983   | \n",
       "| lstat        |  12.65306324 |   7.1410615  |  0.9037707   | \n",
       "| medv         |  22.53280632 |   9.1971041  |  1.1048108   | \n",
       "\n",
       "\n"
      ],
      "text/plain": [
       "   feature mean_        sd_         skewness_ \n",
       "1  crim      3.61352356   8.6015451  5.2076524\n",
       "2  zn       11.36363636  23.3224530  2.2190631\n",
       "3  indus    11.13677866   6.8603529  0.2941463\n",
       "4  chas      0.06916996   0.2539940  3.3957993\n",
       "5  nox       0.55469506   0.1158777  0.7271442\n",
       "6  rm        6.28463439   0.7026171  0.4024147\n",
       "7  age      68.57490119  28.1488614 -0.5971856\n",
       "8  dis       3.79504269   2.1057101  1.0087788\n",
       "9  rad       9.54940711   8.7072594  1.0018335\n",
       "10 tax     408.23715415 168.5371161  0.6679683\n",
       "11 ptratio  18.45553360   2.1649455 -0.7999445\n",
       "12 black   356.67403162  91.2948644 -2.8817983\n",
       "13 lstat    12.65306324   7.1410615  0.9037707\n",
       "14 medv     22.53280632   9.1971041  1.1048108"
      ]
     },
     "metadata": {},
     "output_type": "display_data"
    }
   ],
   "source": [
    "stats = data.frame(feature=colnames(boston_df))\n",
    "stats['mean_'] = sapply(boston_df, mean)\n",
    "stats['sd_'] = sapply(boston_df, sd)\n",
    "stats['skewness_'] = sapply(boston_df, skewness)\n",
    "stats"
   ]
  },
  {
   "cell_type": "code",
   "execution_count": 38,
   "metadata": {},
   "outputs": [],
   "source": [
    "library(dplyr, warn.conflicts = FALSE)"
   ]
  },
  {
   "cell_type": "code",
   "execution_count": 39,
   "metadata": {},
   "outputs": [],
   "source": [
    "set.seed(42)"
   ]
  },
  {
   "cell_type": "code",
   "execution_count": 40,
   "metadata": {},
   "outputs": [],
   "source": [
    "sample_z = sample_n(boston_df, 5)"
   ]
  },
  {
   "cell_type": "code",
   "execution_count": 41,
   "metadata": {},
   "outputs": [
    {
     "data": {
      "text/html": [
       "<table>\n",
       "<thead><tr><th scope=col>feature</th><th scope=col>mean_</th><th scope=col>sd_</th></tr></thead>\n",
       "<tbody>\n",
       "\t<tr><td>crim       </td><td>  8.074658 </td><td> 10.2548284</td></tr>\n",
       "\t<tr><td>zn         </td><td>  0.000000 </td><td>  0.0000000</td></tr>\n",
       "\t<tr><td>indus      </td><td> 16.252000 </td><td>  5.0008319</td></tr>\n",
       "\t<tr><td>chas       </td><td>  0.000000 </td><td>  0.0000000</td></tr>\n",
       "\t<tr><td>nox        </td><td>  0.674000 </td><td>  0.1384883</td></tr>\n",
       "\t<tr><td>rm         </td><td>  5.909000 </td><td>  0.8229505</td></tr>\n",
       "\t<tr><td>age        </td><td> 77.480000 </td><td> 18.9517018</td></tr>\n",
       "\t<tr><td>dis        </td><td>  2.596360 </td><td>  1.3230257</td></tr>\n",
       "\t<tr><td>rad        </td><td> 16.400000 </td><td> 10.4067286</td></tr>\n",
       "\t<tr><td>tax        </td><td>537.600000 </td><td>180.5389155</td></tr>\n",
       "\t<tr><td>ptratio    </td><td> 18.980000 </td><td>  2.4066574</td></tr>\n",
       "\t<tr><td>black      </td><td>338.548000 </td><td>118.4491035</td></tr>\n",
       "\t<tr><td>lstat      </td><td> 17.856000 </td><td>  9.5443140</td></tr>\n",
       "\t<tr><td>medv       </td><td> 18.380000 </td><td>  7.7898652</td></tr>\n",
       "</tbody>\n",
       "</table>\n"
      ],
      "text/latex": [
       "\\begin{tabular}{r|lll}\n",
       " feature & mean\\_ & sd\\_\\\\\n",
       "\\hline\n",
       "\t crim        &   8.074658  &  10.2548284\\\\\n",
       "\t zn          &   0.000000  &   0.0000000\\\\\n",
       "\t indus       &  16.252000  &   5.0008319\\\\\n",
       "\t chas        &   0.000000  &   0.0000000\\\\\n",
       "\t nox         &   0.674000  &   0.1384883\\\\\n",
       "\t rm          &   5.909000  &   0.8229505\\\\\n",
       "\t age         &  77.480000  &  18.9517018\\\\\n",
       "\t dis         &   2.596360  &   1.3230257\\\\\n",
       "\t rad         &  16.400000  &  10.4067286\\\\\n",
       "\t tax         & 537.600000  & 180.5389155\\\\\n",
       "\t ptratio     &  18.980000  &   2.4066574\\\\\n",
       "\t black       & 338.548000  & 118.4491035\\\\\n",
       "\t lstat       &  17.856000  &   9.5443140\\\\\n",
       "\t medv        &  18.380000  &   7.7898652\\\\\n",
       "\\end{tabular}\n"
      ],
      "text/markdown": [
       "\n",
       "feature | mean_ | sd_ | \n",
       "|---|---|---|---|---|---|---|---|---|---|---|---|---|---|\n",
       "| crim        |   8.074658  |  10.2548284 | \n",
       "| zn          |   0.000000  |   0.0000000 | \n",
       "| indus       |  16.252000  |   5.0008319 | \n",
       "| chas        |   0.000000  |   0.0000000 | \n",
       "| nox         |   0.674000  |   0.1384883 | \n",
       "| rm          |   5.909000  |   0.8229505 | \n",
       "| age         |  77.480000  |  18.9517018 | \n",
       "| dis         |   2.596360  |   1.3230257 | \n",
       "| rad         |  16.400000  |  10.4067286 | \n",
       "| tax         | 537.600000  | 180.5389155 | \n",
       "| ptratio     |  18.980000  |   2.4066574 | \n",
       "| black       | 338.548000  | 118.4491035 | \n",
       "| lstat       |  17.856000  |   9.5443140 | \n",
       "| medv        |  18.380000  |   7.7898652 | \n",
       "\n",
       "\n"
      ],
      "text/plain": [
       "   feature mean_      sd_        \n",
       "1  crim      8.074658  10.2548284\n",
       "2  zn        0.000000   0.0000000\n",
       "3  indus    16.252000   5.0008319\n",
       "4  chas      0.000000   0.0000000\n",
       "5  nox       0.674000   0.1384883\n",
       "6  rm        5.909000   0.8229505\n",
       "7  age      77.480000  18.9517018\n",
       "8  dis       2.596360   1.3230257\n",
       "9  rad      16.400000  10.4067286\n",
       "10 tax     537.600000 180.5389155\n",
       "11 ptratio  18.980000   2.4066574\n",
       "12 black   338.548000 118.4491035\n",
       "13 lstat    17.856000   9.5443140\n",
       "14 medv     18.380000   7.7898652"
      ]
     },
     "metadata": {},
     "output_type": "display_data"
    }
   ],
   "source": [
    "stats_sc = data.frame(feature=colnames(sample_z))\n",
    "stats_sc['mean_'] = sapply(sample_z, mean)\n",
    "stats_sc['sd_'] = sapply(sample_z, sd)\n",
    "stats['skewness_'] = sapply(sample_z, skewness)\n",
    "stats_sc"
   ]
  },
  {
   "cell_type": "markdown",
   "metadata": {},
   "source": [
    "The stats vary quite a bit between the sample of 5 and the whole dataset."
   ]
  },
  {
   "cell_type": "code",
   "execution_count": 42,
   "metadata": {},
   "outputs": [],
   "source": [
    "boston_sc_df = data.frame(scale(sample_z))"
   ]
  },
  {
   "cell_type": "code",
   "execution_count": 43,
   "metadata": {},
   "outputs": [
    {
     "data": {
      "text/html": [
       "<table>\n",
       "<thead><tr><th scope=col>feature</th><th scope=col>mean_</th><th scope=col>sd_</th></tr></thead>\n",
       "<tbody>\n",
       "\t<tr><td>crim         </td><td> 4.994919e-17</td><td> 1           </td></tr>\n",
       "\t<tr><td>zn           </td><td>          NaN</td><td>NA           </td></tr>\n",
       "\t<tr><td>indus        </td><td> 2.442491e-16</td><td> 1           </td></tr>\n",
       "\t<tr><td>chas         </td><td>          NaN</td><td>NA           </td></tr>\n",
       "\t<tr><td>nox          </td><td>-3.053113e-16</td><td> 1           </td></tr>\n",
       "\t<tr><td>rm           </td><td> 4.496566e-16</td><td> 1           </td></tr>\n",
       "\t<tr><td>age          </td><td> 3.885781e-16</td><td> 1           </td></tr>\n",
       "\t<tr><td>dis          </td><td> 1.706968e-16</td><td> 1           </td></tr>\n",
       "\t<tr><td>rad          </td><td> 6.661338e-17</td><td> 1           </td></tr>\n",
       "\t<tr><td>tax          </td><td>-6.661338e-17</td><td> 1           </td></tr>\n",
       "\t<tr><td>ptratio      </td><td>-2.886580e-16</td><td> 1           </td></tr>\n",
       "\t<tr><td>black        </td><td>-8.881242e-17</td><td> 1           </td></tr>\n",
       "\t<tr><td>lstat        </td><td>-1.554312e-16</td><td> 1           </td></tr>\n",
       "\t<tr><td>medv         </td><td> 1.443453e-16</td><td> 1           </td></tr>\n",
       "</tbody>\n",
       "</table>\n"
      ],
      "text/latex": [
       "\\begin{tabular}{r|lll}\n",
       " feature & mean\\_ & sd\\_\\\\\n",
       "\\hline\n",
       "\t crim          &  4.994919e-17 &  1           \\\\\n",
       "\t zn            &           NaN & NA           \\\\\n",
       "\t indus         &  2.442491e-16 &  1           \\\\\n",
       "\t chas          &           NaN & NA           \\\\\n",
       "\t nox           & -3.053113e-16 &  1           \\\\\n",
       "\t rm            &  4.496566e-16 &  1           \\\\\n",
       "\t age           &  3.885781e-16 &  1           \\\\\n",
       "\t dis           &  1.706968e-16 &  1           \\\\\n",
       "\t rad           &  6.661338e-17 &  1           \\\\\n",
       "\t tax           & -6.661338e-17 &  1           \\\\\n",
       "\t ptratio       & -2.886580e-16 &  1           \\\\\n",
       "\t black         & -8.881242e-17 &  1           \\\\\n",
       "\t lstat         & -1.554312e-16 &  1           \\\\\n",
       "\t medv          &  1.443453e-16 &  1           \\\\\n",
       "\\end{tabular}\n"
      ],
      "text/markdown": [
       "\n",
       "feature | mean_ | sd_ | \n",
       "|---|---|---|---|---|---|---|---|---|---|---|---|---|---|\n",
       "| crim          |  4.994919e-17 |  1            | \n",
       "| zn            |           NaN | NA            | \n",
       "| indus         |  2.442491e-16 |  1            | \n",
       "| chas          |           NaN | NA            | \n",
       "| nox           | -3.053113e-16 |  1            | \n",
       "| rm            |  4.496566e-16 |  1            | \n",
       "| age           |  3.885781e-16 |  1            | \n",
       "| dis           |  1.706968e-16 |  1            | \n",
       "| rad           |  6.661338e-17 |  1            | \n",
       "| tax           | -6.661338e-17 |  1            | \n",
       "| ptratio       | -2.886580e-16 |  1            | \n",
       "| black         | -8.881242e-17 |  1            | \n",
       "| lstat         | -1.554312e-16 |  1            | \n",
       "| medv          |  1.443453e-16 |  1            | \n",
       "\n",
       "\n"
      ],
      "text/plain": [
       "   feature mean_         sd_\n",
       "1  crim     4.994919e-17  1 \n",
       "2  zn                NaN NA \n",
       "3  indus    2.442491e-16  1 \n",
       "4  chas              NaN NA \n",
       "5  nox     -3.053113e-16  1 \n",
       "6  rm       4.496566e-16  1 \n",
       "7  age      3.885781e-16  1 \n",
       "8  dis      1.706968e-16  1 \n",
       "9  rad      6.661338e-17  1 \n",
       "10 tax     -6.661338e-17  1 \n",
       "11 ptratio -2.886580e-16  1 \n",
       "12 black   -8.881242e-17  1 \n",
       "13 lstat   -1.554312e-16  1 \n",
       "14 medv     1.443453e-16  1 "
      ]
     },
     "metadata": {},
     "output_type": "display_data"
    }
   ],
   "source": [
    "stats_sc = data.frame(feature=colnames(boston_sc_df))\n",
    "stats_sc['mean_'] = sapply(boston_sc_df, mean)\n",
    "stats_sc['sd_'] = sapply(boston_sc_df, sd)\n",
    "stats_sc"
   ]
  },
  {
   "cell_type": "code",
   "execution_count": null,
   "metadata": {},
   "outputs": [],
   "source": []
  },
  {
   "cell_type": "code",
   "execution_count": null,
   "metadata": {},
   "outputs": [],
   "source": []
  },
  {
   "cell_type": "code",
   "execution_count": null,
   "metadata": {},
   "outputs": [],
   "source": []
  },
  {
   "cell_type": "code",
   "execution_count": null,
   "metadata": {},
   "outputs": [],
   "source": []
  },
  {
   "cell_type": "code",
   "execution_count": null,
   "metadata": {},
   "outputs": [],
   "source": []
  },
  {
   "cell_type": "code",
   "execution_count": 44,
   "metadata": {},
   "outputs": [],
   "source": [
    "library(ggplot2)"
   ]
  },
  {
   "cell_type": "code",
   "execution_count": 45,
   "metadata": {},
   "outputs": [
    {
     "name": "stderr",
     "output_type": "stream",
     "text": [
      "Warning message in file(filename, \"r\", encoding = encoding):\n",
      "“cannot open file 'multiplot.r': No such file or directory”"
     ]
    },
    {
     "ename": "ERROR",
     "evalue": "Error in file(filename, \"r\", encoding = encoding): cannot open the connection\n",
     "output_type": "error",
     "traceback": [
      "Error in file(filename, \"r\", encoding = encoding): cannot open the connection\nTraceback:\n",
      "1. source(\"multiplot.r\")",
      "2. file(filename, \"r\", encoding = encoding)"
     ]
    }
   ],
   "source": [
    "source('multiplot.r')"
   ]
  },
  {
   "cell_type": "code",
   "execution_count": 31,
   "metadata": {},
   "outputs": [],
   "source": [
    "original_v_scaled <- function (feature) {\n",
    "    original_feature <- as.vector(boston_df[[feature]])\n",
    "    scaled_feature <- as.vector(boston_sc_df[[feature]])\n",
    "    p1 <- qplot(original_feature, geom=\"histogram\", bins=200, alpha=I(.4),)+\n",
    "        geom_vline(aes(xintercept=mean(original_feature)), color=\"red\", linetype=\"dashed\", size=1)+\n",
    "        geom_vline(aes(xintercept=median(original_feature)), color=\"blue\", linetype=\"dashed\", size=1)+\n",
    "        ggtitle(paste(\"Original Distribution of\", feature))\n",
    "    p2 <- qplot(scaled_feature, geom=\"histogram\", bins=200, alpha=I(.4),)+\n",
    "        geom_vline(aes(xintercept=mean(scaled_feature)), color=\"red\", linetype=\"dashed\", size=1)+\n",
    "        geom_vline(aes(xintercept=median(scaled_feature)), color=\"blue\", linetype=\"dashed\", size=1)  +\n",
    "        ggtitle(paste(\"Scaled Distribution of\", feature))  \n",
    "    multiplot(p1, p2, cols=2)\n",
    "}\n"
   ]
  },
  {
   "cell_type": "code",
   "execution_count": 32,
   "metadata": {},
   "outputs": [
    {
     "ename": "ERROR",
     "evalue": "Error in original_v_scaled(\"crim\"): could not find function \"multiplot\"\n",
     "output_type": "error",
     "traceback": [
      "Error in original_v_scaled(\"crim\"): could not find function \"multiplot\"\nTraceback:\n",
      "1. original_v_scaled(\"crim\")"
     ]
    }
   ],
   "source": [
    "original_v_scaled('crim')\n",
    "original_v_scaled('zn')\n",
    "original_v_scaled('indus')\n",
    "original_v_scaled('chas')\n",
    "original_v_scaled('nox')\n",
    "original_v_scaled('rm')\n",
    "original_v_scaled('age')\n",
    "original_v_scaled('dis')\n",
    "original_v_scaled('rad')\n",
    "original_v_scaled('tax')\n",
    "original_v_scaled('ptratio')\n",
    "original_v_scaled('black')\n",
    "original_v_scaled('lstat')\n",
    "original_v_scaled('medv')"
   ]
  },
  {
   "cell_type": "markdown",
   "metadata": {},
   "source": [
    "heatmapping"
   ]
  },
  {
   "cell_type": "code",
   "execution_count": null,
   "metadata": {},
   "outputs": [],
   "source": [
    "library(reshape2)\n",
    "cormat = cor(boston_df)"
   ]
  },
  {
   "cell_type": "code",
   "execution_count": null,
   "metadata": {},
   "outputs": [],
   "source": [
    "cormat[lower.tri(cormat)] <- NA"
   ]
  },
  {
   "cell_type": "code",
   "execution_count": null,
   "metadata": {},
   "outputs": [],
   "source": [
    "melted_cormat <- melt(cormat, na.rm = T)"
   ]
  },
  {
   "cell_type": "code",
   "execution_count": null,
   "metadata": {},
   "outputs": [],
   "source": [
    "library(ggplot2)\n",
    "ggplot(data = melted_cormat, aes(Var2, Var1, fill = value))+\n",
    " geom_tile(color = \"white\")+\n",
    " scale_fill_gradient2(low = \"blue\", high = \"red\", mid = \"white\", \n",
    "   midpoint = 0, limit = c(-1,1), space = \"Lab\", \n",
    "   name=\"Pearson\\nCorrelation\") +\n",
    "  theme_minimal()+ \n",
    " theme(axis.text.x = element_text(angle = 45, vjust = 1, \n",
    "    size = 12, hjust = 1))+\n",
    " coord_fixed()"
   ]
  }
 ],
 "metadata": {
  "kernelspec": {
   "display_name": "R",
   "language": "R",
   "name": "ir"
  },
  "language_info": {
   "codemirror_mode": "r",
   "file_extension": ".r",
   "mimetype": "text/x-r-source",
   "name": "R",
   "pygments_lexer": "r",
   "version": "3.3.2"
  }
 },
 "nbformat": 4,
 "nbformat_minor": 2
}
